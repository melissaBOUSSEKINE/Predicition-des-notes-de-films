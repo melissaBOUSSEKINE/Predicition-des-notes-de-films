{
 "cells": [
  {
   "cell_type": "code",
   "execution_count": 4,
   "id": "f11bca92",
   "metadata": {
    "id": "f11bca92"
   },
   "outputs": [],
   "source": [
    "import nltk\n",
    "import numpy as np\n",
    "import operator as op\n",
    "import pandas as pd\n",
    "import xml.etree.ElementTree as ET\n",
    "import matplotlib.pyplot as plt\n",
    "import io\n",
    "from nltk.tokenize import word_tokenize\n",
    "from nltk.stem import WordNetLemmatizer\n",
    "import nltk"
   ]
  },
  {
   "cell_type": "code",
   "execution_count": 5,
   "id": "_-961q0K5nYY",
   "metadata": {
    "colab": {
     "base_uri": "https://localhost:8080/"
    },
    "id": "_-961q0K5nYY",
    "outputId": "69d2e08d-791d-438c-b983-df824ac46454"
   },
   "outputs": [
    {
     "name": "stdout",
     "output_type": "stream",
     "text": [
      "Mounted at /content/drive\n"
     ]
    }
   ],
   "source": [
    "from google.colab import drive\n",
    "drive.mount('/content/drive')"
   ]
  },
  {
   "cell_type": "code",
   "execution_count": 6,
   "id": "c9ba07b3",
   "metadata": {
    "id": "c9ba07b3"
   },
   "outputs": [],
   "source": [
    "#chargement des donnes\n",
    "liste_id = []\n",
    "liste_label = []\n",
    "liste_message = []\n",
    "file_train = '/content/drive/My Drive/Analyse_des_sentiment/data/train.xml'\n",
    "file_dev   = '/content/drive/My Drive/Analyse_des_sentiment/data/dev.xml'\n",
    "file_test  = '/content/drive/My Drive/Analyse_des_sentiment/data/test.xml'"
   ]
  },
  {
   "cell_type": "code",
   "execution_count": 7,
   "id": "4f0de961",
   "metadata": {
    "id": "4f0de961"
   },
   "outputs": [],
   "source": [
    "def read_xml_to_dataframe(file_path):\n",
    "    # Analyse du fichier XML\n",
    "    tree = ET.parse(file_path)\n",
    "    root = tree.getroot()\n",
    "\n",
    "    # Création d'une liste vide pour stocker les données\n",
    "    data = []\n",
    "\n",
    "    # Parcours des éléments de commentaire\n",
    "    for comment in root.findall('comment'):\n",
    "        movie = comment.find('movie').text\n",
    "        review_id = comment.find('review_id').text\n",
    "        name = comment.find('name').text\n",
    "        user_id = comment.find('user_id').text\n",
    "        note = comment.find('note').text.replace(',', '.')\n",
    "        commentaire = comment.find('commentaire').text\n",
    "\n",
    "        # Ajout des données dans la liste sous forme de dictionnaire\n",
    "        data.append({\n",
    "            'movie': movie,\n",
    "            'review_id': review_id,\n",
    "            'name': name,\n",
    "            'user_id': user_id,\n",
    "            'note': note,\n",
    "            'commentaire': commentaire\n",
    "        })\n",
    "\n",
    "    # Création d'un DataFrame\n",
    "    df = pd.DataFrame(data)\n",
    "\n",
    "    return df"
   ]
  },
  {
   "cell_type": "code",
   "execution_count": 8,
   "id": "03fff348",
   "metadata": {
    "id": "03fff348"
   },
   "outputs": [],
   "source": [
    "#fonction pour le fichier de test\n",
    "def read_xml_to_dataframeTest(file_path):\n",
    "    # Analyse du fichier XML\n",
    "    tree = ET.parse(file_path)\n",
    "    root = tree.getroot()\n",
    "\n",
    "    # Création d'une liste vide pour stocker les données\n",
    "    data = []\n",
    "\n",
    "    # Parcours des éléments de commentaire\n",
    "    for comment in root.findall('comment'):\n",
    "        # Initialisation d'un dictionnaire pour chaque commentaire\n",
    "        comment_data = {}\n",
    "\n",
    "        # Extraction de chaque élément si disponible et ajout au dictionnaire\n",
    "        movie = comment.find('movie')\n",
    "        if movie is not None:\n",
    "            comment_data['movie'] = movie.text\n",
    "\n",
    "        review_id = comment.find('review_id')\n",
    "        if review_id is not None:\n",
    "            comment_data['review_id'] = review_id.text\n",
    "\n",
    "        name = comment.find('name')\n",
    "        if name is not None:\n",
    "            comment_data['name'] = name.text\n",
    "\n",
    "        user_id = comment.find('user_id')\n",
    "        if user_id is not None:\n",
    "            comment_data['user_id'] = user_id.text\n",
    "\n",
    "        # Note is not present in the given data, but if it's sometimes included,\n",
    "        # you can check for it like this:\n",
    "        note = comment.find('note')\n",
    "        if note is not None:\n",
    "            comment_data['note'] = note.text.replace(',', '.')\n",
    "\n",
    "        commentaire = comment.find('commentaire')\n",
    "        if commentaire is not None:\n",
    "            comment_data['commentaire'] = commentaire.text\n",
    "\n",
    "        # Ajout des données dans la liste sous forme de dictionnaire\n",
    "        data.append(comment_data)\n",
    "\n",
    "    # Création d'un DataFrame\n",
    "    df = pd.DataFrame(data)\n",
    "\n",
    "    return df"
   ]
  },
  {
   "cell_type": "markdown",
   "id": "74f3d295",
   "metadata": {
    "id": "74f3d295"
   },
   "source": [
    "# Récupération des données dans des dataFrame"
   ]
  },
  {
   "cell_type": "code",
   "execution_count": 9,
   "id": "f453b5f6",
   "metadata": {
    "id": "f453b5f6"
   },
   "outputs": [],
   "source": [
    "#création DataFrame\n",
    "data_dev   = read_xml_to_dataframe(file_dev)\n",
    "data_train = read_xml_to_dataframe(file_train)\n",
    "data_test  = read_xml_to_dataframeTest(file_test)\n",
    "\n",
    "data_train['commentaire'] = data_train['commentaire'].fillna('')\n",
    "data_dev['commentaire'] = data_dev['commentaire'].fillna('')\n",
    "data_test['commentaire'] = data_test['commentaire'].fillna('')"
   ]
  },
  {
   "cell_type": "code",
   "execution_count": 10,
   "id": "f8a1278f",
   "metadata": {
    "id": "f8a1278f"
   },
   "outputs": [],
   "source": [
    "data_train['note'] = pd.to_numeric(data_train['note'], errors='coerce')\n",
    "data_dev['note'] = pd.to_numeric(data_dev['note'], errors='coerce')\n",
    "data_train['note'] = data_train['note'].apply(lambda x: x * 2)\n",
    "data_dev['note'] = data_dev['note'].apply(lambda x: x * 2)"
   ]
  },
  {
   "cell_type": "markdown",
   "id": "7ba84dc7",
   "metadata": {
    "id": "7ba84dc7"
   },
   "source": [
    "# Prétraitement des Commentaires Textuels avec Keras : Tokenisation et Remplissage"
   ]
  },
  {
   "cell_type": "code",
   "execution_count": null,
   "id": "78625311",
   "metadata": {
    "id": "78625311",
    "scrolled": true
   },
   "outputs": [],
   "source": [
    "from keras.preprocessing.text import Tokenizer\n",
    "from keras.preprocessing.sequence import pad_sequences\n",
    "import pandas as pd\n",
    "\n",
    "# Initialiser le tokenizer de Keras\n",
    "tokenizer = Tokenizer(num_words=5000)  \n",
    "tokenizer.fit_on_texts(data_train['commentaire'])\n",
    "\n",
    "# Convertir les commentaires en séquences d'entiers\n",
    "X_train = tokenizer.texts_to_sequences(data_train['commentaire'])\n",
    "X_test = tokenizer.texts_to_sequences(data_test['commentaire'])\n",
    "\n",
    "# Définir une longueur maximale\n",
    "MAX_LENGTH = 500\n",
    "\n",
    "# Padding et troncature des vecteurs\n",
    "X_train_padded = pad_sequences(X_train, maxlen=MAX_LENGTH, padding='post', truncating='post')\n",
    "X_test_padded = pad_sequences(X_test, maxlen=MAX_LENGTH, padding='post', truncating='post')"
   ]
  },
  {
   "cell_type": "code",
   "execution_count": null,
   "id": "jtOltjlH89bu",
   "metadata": {
    "colab": {
     "base_uri": "https://localhost:8080/"
    },
    "id": "jtOltjlH89bu",
    "outputId": "e23c9d22-9445-41a5-871b-29a8e4aae006"
   },
   "outputs": [
    {
     "data": {
      "text/plain": [
       "(665962, 500)"
      ]
     },
     "execution_count": 9,
     "metadata": {},
     "output_type": "execute_result"
    }
   ],
   "source": [
    "# Affichage du résultat\n",
    "X_train_padded.shape"
   ]
  },
  {
   "cell_type": "code",
   "execution_count": null,
   "id": "4c26c899",
   "metadata": {
    "colab": {
     "base_uri": "https://localhost:8080/"
    },
    "id": "4c26c899",
    "outputId": "97609b21-7cee-4e47-c781-19b03423fae3"
   },
   "outputs": [
    {
     "data": {
      "text/plain": [
       "(665962,)"
      ]
     },
     "execution_count": 15,
     "metadata": {},
     "output_type": "execute_result"
    }
   ],
   "source": [
    "Y_train  = data_train['note']\n",
    "y_train_adjusted = Y_train - 1\n",
    "y_train_adjusted.shape"
   ]
  },
  {
   "cell_type": "code",
   "execution_count": null,
   "id": "_6U7agM36eAq",
   "metadata": {
    "colab": {
     "base_uri": "https://localhost:8080/"
    },
    "id": "_6U7agM36eAq",
    "outputId": "71c8a6bc-fe4b-481c-f98e-672e2f3510c2"
   },
   "outputs": [
    {
     "name": "stdout",
     "output_type": "stream",
     "text": [
      "Sat Jan  6 13:51:31 2024       \n",
      "+---------------------------------------------------------------------------------------+\n",
      "| NVIDIA-SMI 535.104.05             Driver Version: 535.104.05   CUDA Version: 12.2     |\n",
      "|-----------------------------------------+----------------------+----------------------+\n",
      "| GPU  Name                 Persistence-M | Bus-Id        Disp.A | Volatile Uncorr. ECC |\n",
      "| Fan  Temp   Perf          Pwr:Usage/Cap |         Memory-Usage | GPU-Util  Compute M. |\n",
      "|                                         |                      |               MIG M. |\n",
      "|=========================================+======================+======================|\n",
      "|   0  Tesla V100-SXM2-16GB           Off | 00000000:00:04.0 Off |                    0 |\n",
      "| N/A   33C    P0              23W / 300W |      2MiB / 16384MiB |      0%      Default |\n",
      "|                                         |                      |                  N/A |\n",
      "+-----------------------------------------+----------------------+----------------------+\n",
      "                                                                                         \n",
      "+---------------------------------------------------------------------------------------+\n",
      "| Processes:                                                                            |\n",
      "|  GPU   GI   CI        PID   Type   Process name                            GPU Memory |\n",
      "|        ID   ID                                                             Usage      |\n",
      "|=======================================================================================|\n",
      "|  No running processes found                                                           |\n",
      "+---------------------------------------------------------------------------------------+\n"
     ]
    }
   ],
   "source": [
    "gpu_info = !nvidia-smi\n",
    "gpu_info = '\\n'.join(gpu_info)\n",
    "if gpu_info.find('failed') >= 0:\n",
    "  print('Not connected to a GPU')\n",
    "else:\n",
    "  print(gpu_info)"
   ]
  },
  {
   "cell_type": "code",
   "execution_count": null,
   "id": "c9bCqWi97v1_",
   "metadata": {
    "colab": {
     "base_uri": "https://localhost:8080/"
    },
    "id": "c9bCqWi97v1_",
    "outputId": "f9c329f6-44a2-43aa-e8f8-d5330318f0b9"
   },
   "outputs": [
    {
     "name": "stdout",
     "output_type": "stream",
     "text": [
      "Using device: cuda\n"
     ]
    }
   ],
   "source": [
    "import torch\n",
    "import torch.nn as nn\n",
    "import torch.optim as optim\n",
    "device = torch.device(\"cuda\" if torch.cuda.is_available() else \"cpu\")\n",
    "print(\"Using device:\", device)"
   ]
  },
  {
   "cell_type": "markdown",
   "id": "9081d48c",
   "metadata": {
    "id": "9081d48c"
   },
   "source": [
    "# Réseau de neurones convolutif  "
   ]
  },
  {
   "cell_type": "code",
   "execution_count": null,
   "id": "xToBSgZUL2o5",
   "metadata": {
    "colab": {
     "base_uri": "https://localhost:8080/"
    },
    "id": "xToBSgZUL2o5",
    "outputId": "9478204c-38fe-4b33-fce9-6fbe34acc709"
   },
   "outputs": [
    {
     "name": "stdout",
     "output_type": "stream",
     "text": [
      "Using device: cuda\n",
      "Epoch 1/60, Loss: 2.2010\n",
      "Epoch 2/60, Loss: 2.1959\n",
      "Epoch 3/60, Loss: 2.1937\n",
      "Epoch 4/60, Loss: 2.1910\n",
      "Epoch 5/60, Loss: 2.1889\n",
      "Epoch 6/60, Loss: 2.1878\n",
      "Epoch 7/60, Loss: 2.1889\n",
      "Epoch 8/60, Loss: 2.1870\n",
      "Epoch 9/60, Loss: 2.1870\n",
      "Epoch 10/60, Loss: 2.1868\n",
      "Epoch 11/60, Loss: 2.1863\n",
      "Epoch 12/60, Loss: 2.1861\n",
      "Epoch 13/60, Loss: 2.1860\n",
      "Epoch 14/60, Loss: 2.1862\n",
      "Epoch 15/60, Loss: 2.1856\n",
      "Epoch 16/60, Loss: 2.1853\n",
      "Epoch 17/60, Loss: 2.1848\n",
      "Epoch 18/60, Loss: 2.1841\n",
      "Epoch 19/60, Loss: 2.1839\n",
      "Epoch 20/60, Loss: 2.1830\n",
      "Epoch 21/60, Loss: 2.1823\n",
      "Epoch 22/60, Loss: 2.1817\n",
      "Epoch 23/60, Loss: 2.1811\n",
      "Epoch 24/60, Loss: 2.1808\n",
      "Epoch 25/60, Loss: 2.1801\n",
      "Epoch 26/60, Loss: 2.1805\n",
      "Epoch 27/60, Loss: 2.1797\n",
      "Epoch 28/60, Loss: 2.1793\n",
      "Epoch 29/60, Loss: 2.1794\n",
      "Epoch 30/60, Loss: 2.1794\n",
      "Epoch 31/60, Loss: 2.1790\n",
      "Epoch 32/60, Loss: 2.1786\n",
      "Epoch 33/60, Loss: 2.1784\n",
      "Epoch 34/60, Loss: 2.1778\n",
      "Epoch 35/60, Loss: 2.1776\n",
      "Epoch 36/60, Loss: 2.1775\n",
      "Epoch 37/60, Loss: 2.1774\n",
      "Epoch 38/60, Loss: 2.1772\n",
      "Epoch 39/60, Loss: 2.1767\n",
      "Epoch 40/60, Loss: 2.1770\n",
      "Epoch 41/60, Loss: 2.1767\n",
      "Epoch 42/60, Loss: 2.1770\n",
      "Epoch 43/60, Loss: 2.1765\n",
      "Epoch 44/60, Loss: 2.1762\n",
      "Epoch 45/60, Loss: 2.1763\n",
      "Epoch 46/60, Loss: 2.1758\n",
      "Epoch 47/60, Loss: 2.1759\n",
      "Epoch 48/60, Loss: 2.1757\n",
      "Epoch 49/60, Loss: 2.1756\n",
      "Epoch 50/60, Loss: 2.1754\n",
      "Epoch 51/60, Loss: 2.1753\n",
      "Epoch 52/60, Loss: 2.1753\n",
      "Epoch 53/60, Loss: 2.1751\n",
      "Epoch 54/60, Loss: 2.1750\n",
      "Epoch 55/60, Loss: 2.1748\n",
      "Epoch 56/60, Loss: 2.1751\n",
      "Epoch 57/60, Loss: 2.1749\n",
      "Epoch 58/60, Loss: 2.1749\n",
      "Epoch 59/60, Loss: 2.1749\n",
      "Epoch 60/60, Loss: 2.1747\n"
     ]
    }
   ],
   "source": [
    "import torch\n",
    "import torch.nn as nn\n",
    "import torch.optim as optim\n",
    "from torch.utils.data import TensorDataset, DataLoader, RandomSampler, SequentialSampler\n",
    "\n",
    "\n",
    "# Vérifier si CUDA (GPU) est disponible et le définir comme device\n",
    "device = torch.device(\"cuda\" if torch.cuda.is_available() else \"cpu\")\n",
    "print(\"Using device:\", device)\n",
    "\n",
    "class CommentClassifierCNN(nn.Module):\n",
    "    def __init__(self, num_classes):\n",
    "        super(CommentClassifierCNN, self).__init__()\n",
    "\n",
    "        # Exemple de couches\n",
    "        self.conv1 = nn.Conv1d(in_channels=1, out_channels=64, kernel_size=5)\n",
    "        self.conv2 = nn.Conv1d(in_channels=64, out_channels=128, kernel_size=5)\n",
    "        self.pool = nn.MaxPool1d(kernel_size=5)\n",
    "        self.batchnorm = nn.BatchNorm1d(num_features=128)\n",
    "        self.fc = nn.Linear(12544, num_classes)  # Ajustement de la dimension d'entrée\n",
    "        self.relu = nn.ReLU()\n",
    "\n",
    "    def forward(self, x):\n",
    "        x = x.unsqueeze(1)  # Ajout d'une dimension de canal\n",
    "        x = self.relu(self.conv1(x))\n",
    "        x = self.relu(self.conv2(x))\n",
    "        x = self.pool(x)\n",
    "        x = self.batchnorm(x)\n",
    "        x = x.view(x.size(0), -1)  # Redimensionnement pour les couches linéaires\n",
    "        x = self.fc(x)\n",
    "        return x\n",
    "\n",
    "\n",
    "num_classes = 10\n",
    "model = CommentClassifierCNN(num_classes).to(device)\n",
    "criterion = nn.CrossEntropyLoss()\n",
    "optimizer = optim.Adam(model.parameters(), lr=0.001)\n",
    "\n",
    "X_train = X_train_padded\n",
    "y_train = y_train_adjusted\n",
    "\n",
    "batch_size = 32\n",
    "num_epochs = 60\n",
    "\n",
    "X_train_tensor = torch.tensor(X_train, dtype=torch.float32)\n",
    "y_train_tensor = torch.tensor(y_train.values, dtype=torch.long)\n",
    "\n",
    "train_dataset = TensorDataset(X_train_tensor, y_train_tensor)\n",
    "train_loader = DataLoader(train_dataset, batch_size=batch_size, shuffle=True)\n",
    "\n",
    "\n",
    "# Boucle d'entraînement\n",
    "for epoch in range(num_epochs):\n",
    "    model.train()\n",
    "    total_loss = 0\n",
    "\n",
    "    for batch in train_loader:\n",
    "        inputs, labels = batch\n",
    "        inputs, labels = inputs.to(device), labels.to(device)\n",
    "\n",
    "        optimizer.zero_grad()\n",
    "\n",
    "        outputs = model(inputs)\n",
    "        loss = criterion(outputs, labels)\n",
    "        loss.backward()\n",
    "        optimizer.step()\n",
    "\n",
    "        total_loss += loss.item()\n",
    "\n",
    "    avg_loss = total_loss / len(train_loader)\n",
    "    print(f'Epoch {epoch+1}/{num_epochs}, Loss: {avg_loss:.4f}')\n"
   ]
  },
  {
   "cell_type": "markdown",
   "id": "bd9f6c2e",
   "metadata": {
    "id": "bd9f6c2e"
   },
   "source": [
    "# Tester le modèle"
   ]
  },
  {
   "cell_type": "code",
   "execution_count": null,
   "id": "L4eDvTX5Q6kq",
   "metadata": {
    "id": "L4eDvTX5Q6kq"
   },
   "outputs": [],
   "source": [
    "# Convertir les données de test en tenseurs PyTorch\n",
    "X_test_tensor = torch.tensor(X_test_padded, dtype=torch.float32)\n",
    "\n",
    "# Créer un DataLoader pour les données de test\n",
    "test_dataset = TensorDataset(X_test_tensor)\n",
    "test_loader = DataLoader(test_dataset, batch_size=batch_size)\n",
    "\n",
    "# Passer le modèle en mode évaluation\n",
    "model.eval()\n",
    "\n",
    "# Faire des prédictions\n",
    "predictions = []\n",
    "with torch.no_grad():\n",
    "    for batch in test_loader:\n",
    "        inputs = batch[0].to(device)\n",
    "        outputs = model(inputs)\n",
    "        _, predicted = torch.max(outputs.data, 1)\n",
    "        predictions.extend(predicted.cpu().numpy())\n"
   ]
  },
  {
   "cell_type": "code",
   "execution_count": null,
   "id": "13a3d785",
   "metadata": {
    "id": "13a3d785"
   },
   "outputs": [],
   "source": [
    "# Convertir les données de test en tenseurs PyTorch\n",
    "X_test_tensor = torch.tensor(X_test_padded, dtype=torch.float32)\n",
    "\n",
    "# Passer le modèle en mode évaluation\n",
    "model.eval()\n",
    "\n",
    "# Faire des prédictions\n",
    "predictions = []\n",
    "with torch.no_grad():\n",
    "    for i in range(len(X_test_tensor)):\n",
    "        outputs = model(X_test_tensor[i].unsqueeze(0))\n",
    "        _, predicted = torch.max(outputs.data, 1)\n",
    "        predictions.append(predicted.item())"
   ]
  },
  {
   "cell_type": "code",
   "execution_count": null,
   "id": "a176ab41",
   "metadata": {
    "colab": {
     "base_uri": "https://localhost:8080/"
    },
    "id": "a176ab41",
    "outputId": "0229602c-a009-48b3-dea7-4cc658a2b4e3"
   },
   "outputs": [
    {
     "data": {
      "text/plain": [
       "0        6\n",
       "1        7\n",
       "2        7\n",
       "3        7\n",
       "4        7\n",
       "        ..\n",
       "85842    7\n",
       "85843    7\n",
       "85844    7\n",
       "85845    7\n",
       "85846    7\n",
       "Length: 85847, dtype: int64"
      ]
     },
     "execution_count": 21,
     "metadata": {},
     "output_type": "execute_result"
    }
   ],
   "source": [
    "# Convertir les prédictions en une série Pandas\n",
    "predictions_series = pd.Series(predictions)\n",
    "predictions_series"
   ]
  },
  {
   "cell_type": "code",
   "execution_count": null,
   "id": "36d160e1",
   "metadata": {
    "colab": {
     "base_uri": "https://localhost:8080/"
    },
    "id": "36d160e1",
    "outputId": "9906ebba-b220-4775-9741-cba11b93b885"
   },
   "outputs": [
    {
     "data": {
      "text/plain": [
       "0        3.5\n",
       "1        4.0\n",
       "2        4.0\n",
       "3        4.0\n",
       "4        4.0\n",
       "        ... \n",
       "85842    4.0\n",
       "85843    4.0\n",
       "85844    4.0\n",
       "85845    4.0\n",
       "85846    4.0\n",
       "Length: 85847, dtype: float64"
      ]
     },
     "execution_count": 22,
     "metadata": {},
     "output_type": "execute_result"
    }
   ],
   "source": [
    "# Ajuster les prédictions\n",
    "adjusted_predictions = (predictions_series + 1) / 2\n",
    "adjusted_predictions"
   ]
  },
  {
   "cell_type": "code",
   "execution_count": null,
   "id": "b53c0151",
   "metadata": {
    "id": "b53c0151"
   },
   "outputs": [],
   "source": [
    "# Ajouter les prédictions ajustées comme une nouvelle colonne à data_test\n",
    "data_test['note'] = adjusted_predictions\n",
    "dataTest = data_test"
   ]
  },
  {
   "cell_type": "code",
   "execution_count": null,
   "id": "4d3ad6fe",
   "metadata": {
    "id": "4d3ad6fe"
   },
   "outputs": [],
   "source": [
    "data_test = dataTest"
   ]
  },
  {
   "cell_type": "code",
   "execution_count": null,
   "id": "7ae0cf7b",
   "metadata": {
    "colab": {
     "base_uri": "https://localhost:8080/"
    },
    "id": "7ae0cf7b",
    "outputId": "be02ca74-e7f8-4237-9415-28fffc35cc3d"
   },
   "outputs": [
    {
     "data": {
      "text/plain": [
       "0        3,5\n",
       "1        4,0\n",
       "2        4,0\n",
       "3        4,0\n",
       "4        4,0\n",
       "        ... \n",
       "85842    4,0\n",
       "85843    4,0\n",
       "85844    4,0\n",
       "85845    4,0\n",
       "85846    4,0\n",
       "Name: note, Length: 85847, dtype: object"
      ]
     },
     "execution_count": 25,
     "metadata": {},
     "output_type": "execute_result"
    }
   ],
   "source": [
    "import pandas as pd\n",
    "\n",
    "# Fonction pour convertir un nombre flottant en chaîne avec une virgule pour le décimal\n",
    "def float_to_comma_string(x):\n",
    "    if isinstance(x, float):\n",
    "        return '{:.1f}'.format(x).replace('.', ',')\n",
    "    return x\n",
    "\n",
    "# Convertir les notes (prédictions) en nombres\n",
    "#data_test['note'] = pd.to_numeric(data_test['note'], errors='coerce')\n",
    "data_test['note'] = data_test['note'].apply(float_to_comma_string)\n",
    "data_test['note']"
   ]
  },
  {
   "cell_type": "code",
   "execution_count": null,
   "id": "04beb146",
   "metadata": {
    "id": "04beb146"
   },
   "outputs": [],
   "source": [
    "# Fusionner les prédictions avec review_id\n",
    "df_test = pd.concat([data_test['review_id'], data_test['note']], axis=1)\n",
    "\n",
    "# Enregistrer dans un nouveau fichier texte séparé par un espace\n",
    "df_test.to_csv('/content/drive/My Drive/Analyse_des_sentiment/data/test_outputRnn.txt', sep=' ', index=False, header=False)"
   ]
  },
  {
   "cell_type": "markdown",
   "id": "ac8bd60b",
   "metadata": {
    "id": "ac8bd60b"
   },
   "source": [
    "# TF_IDF"
   ]
  },
  {
   "cell_type": "code",
   "execution_count": null,
   "id": "1e04e4a0",
   "metadata": {
    "id": "1e04e4a0"
   },
   "outputs": [],
   "source": [
    "import pickle\n",
    "with open('/content/drive/My Drive/Analyse_des_sentiment/data/dataTF/tfidf_dev.pkl', 'rb') as f:\n",
    "    X_dev_padded  = pickle.load(f)\n",
    "\n",
    "with open('/content/drive/My Drive/Analyse_des_sentiment/data/dataTF/tfidf_train.pkl', 'rb') as f:\n",
    "     X_train_padded = pickle.load(f)\n",
    "\n",
    "with open('/content/drive/My Drive/Analyse_des_sentiment/data/dataTF/tfidf_test.pkl', 'rb') as f:\n",
    "    X_test_padded  = pickle.load(f)"
   ]
  },
  {
   "cell_type": "code",
   "execution_count": null,
   "id": "0bfc84ff",
   "metadata": {
    "id": "0bfc84ff"
   },
   "outputs": [],
   "source": [
    "from sklearn.decomposition import TruncatedSVD\n",
    "\n",
    "# Création de l'objet TruncatedSVD avec 900 composantes\n",
    "svd = TruncatedSVD(n_components=900)\n",
    "\n",
    "# Réduction de la dimensionnalité\n",
    "X_train_reduced = svd.fit_transform(X_train_padded)\n",
    "X_dev_reduced  = svd.fit_transform(X_test_padded)\n",
    "X_test_reduced = svd.fit_transform(X_test_padded)"
   ]
  },
  {
   "cell_type": "code",
   "execution_count": null,
   "id": "b4a4612d",
   "metadata": {
    "colab": {
     "base_uri": "https://localhost:8080/"
    },
    "id": "b4a4612d",
    "outputId": "2a0cd5a6-3ad8-48b9-e6f1-6482fa67e6f0"
   },
   "outputs": [
    {
     "data": {
      "text/plain": [
       "(665962,)"
      ]
     },
     "execution_count": 10,
     "metadata": {},
     "output_type": "execute_result"
    }
   ],
   "source": [
    "Y_train  = data_train['note']\n",
    "y_train_adjusted = Y_train - 1\n",
    "y_train_adjusted.shape"
   ]
  },
  {
   "cell_type": "code",
   "execution_count": null,
   "id": "fd9f5115",
   "metadata": {
    "colab": {
     "base_uri": "https://localhost:8080/"
    },
    "id": "fd9f5115",
    "outputId": "cef51000-bba4-408f-96b4-03396ecd18a0"
   },
   "outputs": [
    {
     "data": {
      "text/plain": [
       "(100400,)"
      ]
     },
     "execution_count": 11,
     "metadata": {},
     "output_type": "execute_result"
    }
   ],
   "source": [
    "Y_dev  = data_dev['note']\n",
    "y_dev_adjusted = Y_dev - 1\n",
    "y_dev_adjusted.shape"
   ]
  },
  {
   "cell_type": "code",
   "execution_count": null,
   "id": "d59bfbc4",
   "metadata": {
    "colab": {
     "base_uri": "https://localhost:8080/"
    },
    "id": "d59bfbc4",
    "outputId": "9644cd50-d59e-4ad5-968a-d5311eff6aa0"
   },
   "outputs": [
    {
     "name": "stdout",
     "output_type": "stream",
     "text": [
      "(665962, 900)\n",
      "(85847, 900)\n",
      "(85847, 900)\n"
     ]
    }
   ],
   "source": [
    "print(X_train_reduced.shape)\n",
    "print(X_dev_reduced.shape)\n",
    "print(X_test_reduced.shape)"
   ]
  },
  {
   "cell_type": "code",
   "execution_count": null,
   "id": "ea4321b0",
   "metadata": {
    "id": "ea4321b0"
   },
   "outputs": [],
   "source": [
    "y_train = y_train_adjusted\n",
    "y_dev = y_dev_adjusted"
   ]
  },
  {
   "cell_type": "code",
   "execution_count": null,
   "id": "35a0aa9b",
   "metadata": {
    "colab": {
     "base_uri": "https://localhost:8080/"
    },
    "id": "35a0aa9b",
    "outputId": "be16e014-0442-4410-e7e8-24f0d17fa088"
   },
   "outputs": [
    {
     "name": "stdout",
     "output_type": "stream",
     "text": [
      "Epoch 1/60, Loss: 1.7503\n",
      "Epoch 2/60, Loss: 1.6832\n",
      "Epoch 3/60, Loss: 1.6702\n",
      "Epoch 4/60, Loss: 1.6676\n",
      "Epoch 5/60, Loss: 1.6633\n",
      "Epoch 6/60, Loss: 1.6612\n",
      "Epoch 7/60, Loss: 1.6557\n",
      "Epoch 8/60, Loss: 1.6483\n",
      "Epoch 9/60, Loss: 1.6429\n",
      "Epoch 10/60, Loss: 1.6394\n",
      "Epoch 11/60, Loss: 1.6393\n",
      "Epoch 12/60, Loss: 1.6364\n",
      "Epoch 13/60, Loss: 1.6346\n",
      "Epoch 14/60, Loss: 1.6305\n",
      "Epoch 15/60, Loss: 1.6276\n",
      "Epoch 16/60, Loss: 1.6238\n",
      "Epoch 17/60, Loss: 1.6204\n",
      "Epoch 18/60, Loss: 1.6174\n",
      "Epoch 19/60, Loss: 1.6155\n",
      "Epoch 20/60, Loss: 1.6133\n",
      "Epoch 21/60, Loss: 1.6112\n",
      "Epoch 22/60, Loss: 1.6096\n",
      "Epoch 23/60, Loss: 1.6077\n",
      "Epoch 24/60, Loss: 1.6057\n",
      "Epoch 25/60, Loss: 1.6045\n",
      "Epoch 26/60, Loss: 1.6035\n",
      "Epoch 27/60, Loss: 1.6025\n",
      "Epoch 28/60, Loss: 1.6012\n",
      "Epoch 29/60, Loss: 1.6002\n",
      "Epoch 30/60, Loss: 1.5997\n",
      "Epoch 31/60, Loss: 1.5981\n",
      "Epoch 32/60, Loss: 1.5971\n",
      "Epoch 33/60, Loss: 1.5959\n",
      "Epoch 34/60, Loss: 1.5944\n",
      "Epoch 35/60, Loss: 1.5938\n",
      "Epoch 36/60, Loss: 1.5932\n",
      "Epoch 37/60, Loss: 1.5926\n",
      "Epoch 38/60, Loss: 1.5918\n",
      "Epoch 39/60, Loss: 1.5916\n",
      "Epoch 40/60, Loss: 1.5912\n",
      "Epoch 41/60, Loss: 1.5902\n",
      "Epoch 42/60, Loss: 1.5898\n",
      "Epoch 43/60, Loss: 1.5894\n",
      "Epoch 44/60, Loss: 1.5884\n",
      "Epoch 45/60, Loss: 1.5880\n",
      "Epoch 46/60, Loss: 1.5874\n",
      "Epoch 47/60, Loss: 1.5867\n",
      "Epoch 48/60, Loss: 1.5868\n",
      "Epoch 49/60, Loss: 1.5862\n",
      "Epoch 50/60, Loss: 1.5860\n",
      "Epoch 51/60, Loss: 1.5852\n",
      "Epoch 52/60, Loss: 1.5844\n",
      "Epoch 53/60, Loss: 1.5844\n",
      "Epoch 54/60, Loss: 1.5838\n",
      "Epoch 55/60, Loss: 1.5832\n",
      "Epoch 56/60, Loss: 1.5828\n",
      "Epoch 57/60, Loss: 1.5825\n",
      "Epoch 58/60, Loss: 1.5819\n",
      "Epoch 59/60, Loss: 1.5819\n",
      "Epoch 60/60, Loss: 1.5815\n"
     ]
    }
   ],
   "source": [
    "class CommentClassifierCNN(nn.Module):\n",
    "    def __init__(self, num_classes, sample_size):\n",
    "        super(CommentClassifierCNN, self).__init__()\n",
    "\n",
    "        # Couches convolutives et pooling\n",
    "        self.conv1 = nn.Conv1d(in_channels=1, out_channels=64, kernel_size=5)\n",
    "        self.conv2 = nn.Conv1d(in_channels=64, out_channels=128, kernel_size=5)\n",
    "        self.pool = nn.MaxPool1d(kernel_size=5)\n",
    "        self.batchnorm = nn.BatchNorm1d(num_features=128)\n",
    "\n",
    "        # Calcul dynamique de la taille d'entrée pour la couche linéaire\n",
    "        self._to_linear = None\n",
    "        self._sample_size = sample_size\n",
    "        self._init_to_linear()\n",
    "\n",
    "        # Couche linéaire\n",
    "        self.fc = nn.Linear(self._to_linear, num_classes)\n",
    "        self.relu = nn.ReLU()\n",
    "\n",
    "    def _init_to_linear(self):\n",
    "        # Utiliser un échantillon pour calculer la taille de sortie de la couche convolutive/pooling\n",
    "        sample_data = torch.zeros(1, 1, self._sample_size)\n",
    "        sample_data = self.conv1(sample_data)\n",
    "        sample_data = self.conv2(sample_data)\n",
    "        sample_data = self.pool(sample_data)\n",
    "        sample_data = self.batchnorm(sample_data)\n",
    "        self._to_linear = sample_data.numel()\n",
    "\n",
    "    def forward(self, x):\n",
    "        # Mêmes opérations que précédemment\n",
    "        x = x.unsqueeze(1)  # Ajout d'une dimension de canal\n",
    "        x = self.relu(self.conv1(x))\n",
    "        x = self.relu(self.conv2(x))\n",
    "        x = self.pool(x)\n",
    "        x = self.batchnorm(x)\n",
    "        x = x.view(x.size(0), -1)  # Redimensionnement pour les couches linéaires\n",
    "        x = self.fc(x)\n",
    "        return x\n",
    "\n",
    "# Utilisation du modèle\n",
    "sample_size = X_train.shape[1]  # Remplacer par la taille réelle de vos embeddings\n",
    "model = CommentClassifierCNN(num_classes, sample_size).to(device)\n",
    "\n",
    "num_classes = 10\n",
    "criterion = nn.CrossEntropyLoss()\n",
    "optimizer = optim.Adam(model.parameters(), lr=0.001)\n",
    "\n",
    "X_train = X_train_reduced\n",
    "y_train = y_train_adjusted\n",
    "\n",
    "batch_size = 32\n",
    "num_epochs = 60\n",
    "\n",
    "X_train_tensor = torch.tensor(X_train, dtype=torch.float32)\n",
    "y_train_tensor = torch.tensor(y_train.values, dtype=torch.long)\n",
    "\n",
    "train_dataset = TensorDataset(X_train_tensor, y_train_tensor)\n",
    "train_loader = DataLoader(train_dataset, batch_size=batch_size, shuffle=True)\n",
    "\n",
    "\n",
    "# Boucle d'entraînement\n",
    "for epoch in range(num_epochs):\n",
    "    model.train()\n",
    "    total_loss = 0\n",
    "\n",
    "    for batch in train_loader:\n",
    "        inputs, labels = batch\n",
    "        inputs, labels = inputs.to(device), labels.to(device)\n",
    "\n",
    "        optimizer.zero_grad()\n",
    "\n",
    "        outputs = model(inputs)\n",
    "        loss = criterion(outputs, labels)\n",
    "        loss.backward()\n",
    "        optimizer.step()\n",
    "\n",
    "        total_loss += loss.item()\n",
    "\n",
    "    avg_loss = total_loss / len(train_loader)\n",
    "    print(f'Epoch {epoch+1}/{num_epochs}, Loss: {avg_loss:.4f}')"
   ]
  },
  {
   "cell_type": "markdown",
   "id": "c3551a5f",
   "metadata": {
    "id": "c3551a5f"
   },
   "source": [
    "# Test"
   ]
  },
  {
   "cell_type": "code",
   "execution_count": null,
   "id": "hwCvQD0Cldy8",
   "metadata": {
    "id": "hwCvQD0Cldy8"
   },
   "outputs": [],
   "source": [
    "X_test = X_test_reduced\n",
    "\n",
    "X_test_tensor = torch.tensor(X_test, dtype=torch.float32).to(device)\n",
    "test_dataset = TensorDataset(X_test_tensor)\n",
    "test_loader = DataLoader(test_dataset, batch_size=batch_size, shuffle=False)"
   ]
  },
  {
   "cell_type": "code",
   "execution_count": null,
   "id": "jIh9z3u7pYD1",
   "metadata": {
    "id": "jIh9z3u7pYD1"
   },
   "outputs": [],
   "source": [
    "def predict(model, test_loader):\n",
    "    model.eval()\n",
    "    predictions = []\n",
    "\n",
    "    with torch.no_grad():\n",
    "        for batch in test_loader:\n",
    "            inputs = batch[0]\n",
    "            inputs = inputs.to(device)\n",
    "\n",
    "            outputs = model(inputs)\n",
    "            _, predicted = torch.max(outputs, 1)\n",
    "            predictions.extend(predicted.cpu().numpy())\n",
    "\n",
    "    return predictions\n",
    "\n",
    "predictions = predict(model, test_loader)"
   ]
  },
  {
   "cell_type": "code",
   "execution_count": null,
   "id": "70016357",
   "metadata": {
    "id": "70016357"
   },
   "outputs": [],
   "source": [
    "# Ajouter les prédictions ajustées comme une nouvelle colonne à data_test\n",
    "predictions_series = pd.Series(predictions)\n",
    "adjusted_predictions = (predictions_series + 1) / 2\n",
    "data_test['note'] = adjusted_predictions\n",
    "dataTest = data_test\n",
    "dataTest\n",
    "import pandas as pd\n",
    "\n",
    "# Fonction pour convertir un nombre flottant en chaîne avec une virgule pour le décimal\n",
    "def float_to_comma_string(x):\n",
    "    if isinstance(x, float):\n",
    "        return '{:.1f}'.format(x).replace('.', ',')\n",
    "    return x\n",
    "\n",
    "# Convertir les notes (prédictions) en nombres\n",
    "#data_test['note'] = pd.to_numeric(data_test['note'], errors='coerce')\n",
    "data_test['note'] = data_test['note'].apply(float_to_comma_string)\n",
    "\n",
    "# Fusionner les prédictions avec review_id\n",
    "df_test = pd.concat([data_test['review_id'], data_test['note']], axis=1)\n",
    "\n",
    "# Enregistrer dans un nouveau fichier texte séparé par un espace\n",
    "df_test.to_csv('/content/drive/My Drive/Analyse_des_sentiment/data/test_output_CNN_TF_IDF.txt', sep=' ', index=False, header=False)"
   ]
  },
  {
   "cell_type": "markdown",
   "id": "8e732f6d",
   "metadata": {
    "id": "8e732f6d"
   },
   "source": [
    "# Bert-base-uncased"
   ]
  },
  {
   "cell_type": "code",
   "execution_count": 1,
   "id": "e7d60136",
   "metadata": {
    "colab": {
     "base_uri": "https://localhost:8080/",
     "height": 301,
     "referenced_widgets": [
      "c61d001f2f594323b903ef9c03af5602",
      "ee3aedea5a65485b8d6d4eb2851c03f4",
      "abd8ed9d21264b2cacde74b6c97870f9",
      "beec01c5e2e34bbeb75e45c694a9533e",
      "df7bf429547e4671919a703f2e455818",
      "f324eff496fa41209751cb3eea89a337",
      "0a1dd6743f7f4d36a5025e928cb2ec2c",
      "a93877bb0ae24a6daec91d32c37d8955",
      "6e2707a5b4ca4a3f8ae29cec19360361",
      "fc49552e5d1347a798b06d76325d404d",
      "f8313f0adddb4681a9d332497e6ad08a",
      "4fb7b696d9184a928ac0a76473eab717",
      "beda3ddec6434e8796590579c9b092c2",
      "10c0397228e4405e91486f42d3bd9e82",
      "601fb0b71c43493f9b041278d3fd8a44",
      "0250e62030704da5bcd5ce845cf733dc",
      "295f95389dc04266a49334a8db4260bc",
      "df5ab2becaff492ab798ace1ee4cae6e",
      "f4f825a1ff444d8b9a79aa82a1a2cd85",
      "1124a87bef8d4057941a531063e207c0",
      "417a87599b1641e1a444b082e4e1f098",
      "fcad0cbbcd474f38a6247c4a57337427",
      "ad32bbde72f84c2a8a0b43dff3700b15",
      "0726cf5a7f774c5084d5c75f2312f277",
      "de3c24c4253648cfa1d2217a99deb485",
      "3adc5a7f070b4e0eac2c0b31c21ffb7e",
      "15d6ac3375364aec9f6996a1bba06690",
      "ab15ee888c2a4bca93720fbf9b1acca8",
      "e4b2510afd2c44d38146a0ab18ac352d",
      "bfccaa24bfd049d0b425b3bee80741d2",
      "2e2ec6356700407f85ad3de3c962ccbc",
      "bfac6bcf6859448b86b1a84db0ed18dd",
      "c828f096bad64fe6964f8cc0a06627be",
      "74ac97b531ff45e5bb98b4e8bc170dec",
      "d1edf2b0aee64bb6ad4f47ea0edf77f4",
      "f11009b8fe1e48a7bdd439c8745a7984",
      "3fbb4dd0045d42ff8b0e848639557d66",
      "f8d2a060071043a8bf7cad1684bcb382",
      "54433daed9c143d3921b94d1b20c17e7",
      "5b4919ab898247dea5475981d4baf0ae",
      "42c6743ac4e14553b39d82b99100cbd4",
      "a8dbe03f00904e8aa871e9ce3eedd035",
      "6cc2699ad08245ba8acba30f1eafb074",
      "b0423936cdd7417397962b67db6492da",
      "acc33c9d69a54f31a55ee3a7273679f4",
      "3ee24dfc24db40939b5e5de849d6e533",
      "b820901c4cd04f359ec25ad827eec071",
      "3a2fb39de8ae45ad9f7dbec2f8c51c01",
      "8c64046b52034de9bec0c7c711ac0c61",
      "de6883b46c1842539b10669f82bbcab9",
      "33ed467e9c1e4351ac6a9d97fd95a786",
      "815464ea6f0741c6821b6af710f2f601",
      "d632b5792bfe4e50a6b21b2400f13c32",
      "190b216702d041c49dbb961ca94066ad",
      "2fa4cac00dbf49e9826deff7c2b093ec"
     ]
    },
    "id": "e7d60136",
    "outputId": "17263316-db19-4654-b60e-4a64fa79ebd5"
   },
   "outputs": [
    {
     "name": "stderr",
     "output_type": "stream",
     "text": [
      "/usr/local/lib/python3.10/dist-packages/huggingface_hub/utils/_token.py:72: UserWarning: \n",
      "The secret `HF_TOKEN` does not exist in your Colab secrets.\n",
      "To authenticate with the Hugging Face Hub, create a token in your settings tab (https://huggingface.co/settings/tokens), set it as secret in your Google Colab and restart your session.\n",
      "You will be able to reuse this secret in all of your notebooks.\n",
      "Please note that authentication is recommended but still optional to access public models or datasets.\n",
      "  warnings.warn(\n"
     ]
    },
    {
     "data": {
      "application/vnd.jupyter.widget-view+json": {
       "model_id": "c61d001f2f594323b903ef9c03af5602",
       "version_major": 2,
       "version_minor": 0
      },
      "text/plain": [
       "tokenizer_config.json:   0%|          | 0.00/28.0 [00:00<?, ?B/s]"
      ]
     },
     "metadata": {},
     "output_type": "display_data"
    },
    {
     "data": {
      "application/vnd.jupyter.widget-view+json": {
       "model_id": "4fb7b696d9184a928ac0a76473eab717",
       "version_major": 2,
       "version_minor": 0
      },
      "text/plain": [
       "vocab.txt:   0%|          | 0.00/232k [00:00<?, ?B/s]"
      ]
     },
     "metadata": {},
     "output_type": "display_data"
    },
    {
     "data": {
      "application/vnd.jupyter.widget-view+json": {
       "model_id": "ad32bbde72f84c2a8a0b43dff3700b15",
       "version_major": 2,
       "version_minor": 0
      },
      "text/plain": [
       "tokenizer.json:   0%|          | 0.00/466k [00:00<?, ?B/s]"
      ]
     },
     "metadata": {},
     "output_type": "display_data"
    },
    {
     "data": {
      "application/vnd.jupyter.widget-view+json": {
       "model_id": "74ac97b531ff45e5bb98b4e8bc170dec",
       "version_major": 2,
       "version_minor": 0
      },
      "text/plain": [
       "config.json:   0%|          | 0.00/570 [00:00<?, ?B/s]"
      ]
     },
     "metadata": {},
     "output_type": "display_data"
    },
    {
     "data": {
      "application/vnd.jupyter.widget-view+json": {
       "model_id": "acc33c9d69a54f31a55ee3a7273679f4",
       "version_major": 2,
       "version_minor": 0
      },
      "text/plain": [
       "model.safetensors:   0%|          | 0.00/440M [00:00<?, ?B/s]"
      ]
     },
     "metadata": {},
     "output_type": "display_data"
    }
   ],
   "source": [
    "from transformers import BertTokenizer, BertModel\n",
    "import torch\n",
    "\n",
    "# Initialisation du tokenizer et du modèle BERT\n",
    "tokenizer = BertTokenizer.from_pretrained('bert-base-uncased')\n",
    "bert_model = BertModel.from_pretrained('bert-base-uncased')\n",
    "\n",
    "# Vérifier si un GPU est disponible et configurer le modèle BERT pour le GPU\n",
    "device = torch.device(\"cuda\" if torch.cuda.is_available() else \"cpu\")\n",
    "bert_model = bert_model.to(device)"
   ]
  },
  {
   "cell_type": "code",
   "execution_count": 2,
   "id": "b951e0fa",
   "metadata": {
    "id": "b951e0fa"
   },
   "outputs": [],
   "source": [
    "def get_embeddings(texts, max_length=500):\n",
    "    # Tronquer les textes si leur longueur dépasse max_length\n",
    "    truncated_texts = [text[:max_length] for text in texts]\n",
    "\n",
    "    # Préparer les inputs pour le modèle BERT et les déplacer sur le GPU\n",
    "    inputs = tokenizer(truncated_texts, padding=True, truncation=True, return_tensors=\"pt\", max_length=max_length)\n",
    "    inputs = inputs.to(device)\n",
    "\n",
    "    with torch.no_grad():\n",
    "        # Exécuter le modèle BERT sur le GPU\n",
    "        outputs = bert_model(**inputs)\n",
    "\n",
    "    # Retourner les embeddings en tant que tensor PyTorch\n",
    "    return outputs.last_hidden_state[:, 0, :]"
   ]
  },
  {
   "cell_type": "code",
   "execution_count": null,
   "id": "5c4af819",
   "metadata": {
    "id": "5c4af819"
   },
   "outputs": [],
   "source": [
    "# Appliquer la fonction à la colonne de texte du DataFrame\n",
    "data_train['embeddings'] = data_train['commentaire'].apply(lambda x: get_embeddings([x]))"
   ]
  },
  {
   "cell_type": "code",
   "execution_count": null,
   "id": "e1f56239",
   "metadata": {
    "id": "e1f56239"
   },
   "outputs": [],
   "source": [
    "data_test['embeddings'] = data_test['commentaire'].apply(lambda x: get_embeddings([x]))"
   ]
  },
  {
   "cell_type": "code",
   "execution_count": null,
   "id": "193c6af9",
   "metadata": {
    "id": "193c6af9"
   },
   "outputs": [],
   "source": [
    "X_train_padded = data_train['embeddings']\n",
    "X_test_padded = data_test['embeddings']"
   ]
  },
  {
   "cell_type": "code",
   "execution_count": null,
   "id": "wve4bCF_uxfY",
   "metadata": {
    "id": "wve4bCF_uxfY"
   },
   "outputs": [],
   "source": [
    "print(X_train_padded)\n",
    "print(X_test_padded)"
   ]
  },
  {
   "cell_type": "code",
   "execution_count": null,
   "id": "48328ade",
   "metadata": {
    "id": "48328ade"
   },
   "outputs": [],
   "source": [
    "import torch\n",
    "import torch.nn as nn\n",
    "import torch.optim as optim\n",
    "from torch.utils.data import TensorDataset, DataLoader, RandomSampler, SequentialSampler\n",
    "\n",
    "\n",
    "# Vérifier si CUDA (GPU) est disponible et le définir comme device\n",
    "device = torch.device(\"cuda\" if torch.cuda.is_available() else \"cpu\")\n",
    "print(\"Using device:\", device)\n",
    "\n",
    "class CommentClassifierCNN(nn.Module):\n",
    "    def __init__(self, num_classes):\n",
    "        super(CommentClassifierCNN, self).__init__()\n",
    "\n",
    "        # Exemple de couches\n",
    "        self.conv1 = nn.Conv1d(in_channels=1, out_channels=64, kernel_size=5)\n",
    "        self.conv2 = nn.Conv1d(in_channels=64, out_channels=128, kernel_size=5)\n",
    "        self.pool = nn.MaxPool1d(kernel_size=5)\n",
    "        self.batchnorm = nn.BatchNorm1d(num_features=128)\n",
    "        self.fc = nn.Linear(12544, num_classes)  # Ajustement de la dimension d'entrée\n",
    "        self.relu = nn.ReLU()\n",
    "\n",
    "    def forward(self, x):\n",
    "        x = x.unsqueeze(1)  # Ajout d'une dimension de canal\n",
    "        x = self.relu(self.conv1(x))\n",
    "        x = self.relu(self.conv2(x))\n",
    "        x = self.pool(x)\n",
    "        x = self.batchnorm(x)\n",
    "        x = x.view(x.size(0), -1)  # Redimensionnement pour les couches linéaires\n",
    "        x = self.fc(x)\n",
    "        return x\n",
    "\n",
    "\n",
    "num_classes = 10\n",
    "model = CommentClassifierCNN(num_classes).to(device)\n",
    "criterion = nn.CrossEntropyLoss()\n",
    "optimizer = optim.Adam(model.parameters(), lr=0.001)\n",
    "\n",
    "X_train = X_train_padded\n",
    "y_train = y_train_adjusted\n",
    "\n",
    "batch_size = 32\n",
    "num_epochs = 60\n",
    "\n",
    "X_train_tensor = torch.tensor(X_train, dtype=torch.float32)\n",
    "y_train_tensor = torch.tensor(y_train.values, dtype=torch.long)\n",
    "\n",
    "train_dataset = TensorDataset(X_train_tensor, y_train_tensor)\n",
    "train_loader = DataLoader(train_dataset, batch_size=batch_size, shuffle=True)\n",
    "\n",
    "\n",
    "# Boucle d'entraînement\n",
    "for epoch in range(num_epochs):\n",
    "    model.train()\n",
    "    total_loss = 0\n",
    "\n",
    "    for batch in train_loader:\n",
    "        inputs, labels = batch\n",
    "        inputs, labels = inputs.to(device), labels.to(device)\n",
    "\n",
    "        optimizer.zero_grad()\n",
    "\n",
    "        outputs = model(inputs)\n",
    "        loss = criterion(outputs, labels)\n",
    "        loss.backward()\n",
    "        optimizer.step()\n",
    "\n",
    "        total_loss += loss.item()\n",
    "\n",
    "    avg_loss = total_loss / len(train_loader)\n",
    "    print(f'Epoch {epoch+1}/{num_epochs}, Loss: {avg_loss:.4f}')"
   ]
  },
  {
   "cell_type": "markdown",
   "id": "49fe9d3a",
   "metadata": {
    "id": "49fe9d3a"
   },
   "source": [
    "# Test"
   ]
  },
  {
   "cell_type": "code",
   "execution_count": null,
   "id": "K1lJ1FQLrkrN",
   "metadata": {
    "id": "K1lJ1FQLrkrN"
   },
   "outputs": [],
   "source": [
    "X_test = X_test_padded\n",
    "\n",
    "X_train_tensor = torch.tensor(X_test, dtype=torch.float32)\n",
    "\n",
    "test_dataset = TensorDataset(X_test_tensor)\n",
    "test_loader = DataLoader(test_dataset, batch_size=batch_size, shuffle=True)"
   ]
  },
  {
   "cell_type": "code",
   "execution_count": null,
   "id": "DePFnkRSsG8g",
   "metadata": {
    "id": "DePFnkRSsG8g"
   },
   "outputs": [],
   "source": [
    "def predict(model, test_loader):\n",
    "    model.eval()\n",
    "    predictions = []\n",
    "\n",
    "    with torch.no_grad():\n",
    "        for batch in test_loader:\n",
    "            inputs = batch[0]\n",
    "            inputs = inputs.to(device)\n",
    "\n",
    "            outputs = model(inputs)\n",
    "            _, predicted = torch.max(outputs, 1)\n",
    "            predictions.extend(predicted.cpu().numpy())\n",
    "\n",
    "    return predictions\n",
    "\n",
    "predictions = predict(model, test_loader)"
   ]
  },
  {
   "cell_type": "code",
   "execution_count": null,
   "id": "0fdccf19",
   "metadata": {
    "id": "0fdccf19"
   },
   "outputs": [],
   "source": [
    "# Ajouter les prédictions ajustées comme une nouvelle colonne à data_test\n",
    "predictions_series = pd.Series(predictions)\n",
    "adjusted_predictions = (predictions_series + 1) / 2\n",
    "data_test['note'] = adjusted_predictions\n",
    "dataTest = data_test\n",
    "dataTest\n",
    "import pandas as pd\n",
    "\n",
    "# Fonction pour convertir un nombre flottant en chaîne avec une virgule pour le décimal\n",
    "def float_to_comma_string(x):\n",
    "    if isinstance(x, float):\n",
    "        return '{:.1f}'.format(x).replace('.', ',')\n",
    "    return x\n",
    "\n",
    "# Convertir les notes (prédictions) en nombres\n",
    "#data_test['note'] = pd.to_numeric(data_test['note'], errors='coerce')\n",
    "data_test['note'] = data_test['note'].apply(float_to_comma_string)\n",
    "\n",
    "# Fusionner les prédictions avec review_id\n",
    "df_test = pd.concat([data_test['review_id'], data_test['note']], axis=1)\n",
    "\n",
    "# Enregistrer dans un nouveau fichier texte séparé par un espace\n",
    "df_test.to_csv('/content/drive/My Drive/Analyse_des_sentiment/data/test_output_CNN_Embeding.txt', sep=' ', index=False, header=False)"
   ]
  }
 ],
 "metadata": {
  "accelerator": "GPU",
  "colab": {
   "gpuType": "T4",
   "machine_shape": "hm",
   "provenance": []
  },
  "kernelspec": {
   "display_name": "Python 3 (ipykernel)",
   "language": "python",
   "name": "python3"
  },
  "language_info": {
   "codemirror_mode": {
    "name": "ipython",
    "version": 3
   },
   "file_extension": ".py",
   "mimetype": "text/x-python",
   "name": "python",
   "nbconvert_exporter": "python",
   "pygments_lexer": "ipython3",
   "version": "3.11.5"
  },
  "widgets": {
   "application/vnd.jupyter.widget-state+json": {
    "0250e62030704da5bcd5ce845cf733dc": {
     "model_module": "@jupyter-widgets/base",
     "model_module_version": "1.2.0",
     "model_name": "LayoutModel",
     "state": {
      "_model_module": "@jupyter-widgets/base",
      "_model_module_version": "1.2.0",
      "_model_name": "LayoutModel",
      "_view_count": null,
      "_view_module": "@jupyter-widgets/base",
      "_view_module_version": "1.2.0",
      "_view_name": "LayoutView",
      "align_content": null,
      "align_items": null,
      "align_self": null,
      "border": null,
      "bottom": null,
      "display": null,
      "flex": null,
      "flex_flow": null,
      "grid_area": null,
      "grid_auto_columns": null,
      "grid_auto_flow": null,
      "grid_auto_rows": null,
      "grid_column": null,
      "grid_gap": null,
      "grid_row": null,
      "grid_template_areas": null,
      "grid_template_columns": null,
      "grid_template_rows": null,
      "height": null,
      "justify_content": null,
      "justify_items": null,
      "left": null,
      "margin": null,
      "max_height": null,
      "max_width": null,
      "min_height": null,
      "min_width": null,
      "object_fit": null,
      "object_position": null,
      "order": null,
      "overflow": null,
      "overflow_x": null,
      "overflow_y": null,
      "padding": null,
      "right": null,
      "top": null,
      "visibility": null,
      "width": null
     }
    },
    "0726cf5a7f774c5084d5c75f2312f277": {
     "model_module": "@jupyter-widgets/controls",
     "model_module_version": "1.5.0",
     "model_name": "HTMLModel",
     "state": {
      "_dom_classes": [],
      "_model_module": "@jupyter-widgets/controls",
      "_model_module_version": "1.5.0",
      "_model_name": "HTMLModel",
      "_view_count": null,
      "_view_module": "@jupyter-widgets/controls",
      "_view_module_version": "1.5.0",
      "_view_name": "HTMLView",
      "description": "",
      "description_tooltip": null,
      "layout": "IPY_MODEL_ab15ee888c2a4bca93720fbf9b1acca8",
      "placeholder": "​",
      "style": "IPY_MODEL_e4b2510afd2c44d38146a0ab18ac352d",
      "value": "tokenizer.json: 100%"
     }
    },
    "0a1dd6743f7f4d36a5025e928cb2ec2c": {
     "model_module": "@jupyter-widgets/controls",
     "model_module_version": "1.5.0",
     "model_name": "DescriptionStyleModel",
     "state": {
      "_model_module": "@jupyter-widgets/controls",
      "_model_module_version": "1.5.0",
      "_model_name": "DescriptionStyleModel",
      "_view_count": null,
      "_view_module": "@jupyter-widgets/base",
      "_view_module_version": "1.2.0",
      "_view_name": "StyleView",
      "description_width": ""
     }
    },
    "10c0397228e4405e91486f42d3bd9e82": {
     "model_module": "@jupyter-widgets/controls",
     "model_module_version": "1.5.0",
     "model_name": "FloatProgressModel",
     "state": {
      "_dom_classes": [],
      "_model_module": "@jupyter-widgets/controls",
      "_model_module_version": "1.5.0",
      "_model_name": "FloatProgressModel",
      "_view_count": null,
      "_view_module": "@jupyter-widgets/controls",
      "_view_module_version": "1.5.0",
      "_view_name": "ProgressView",
      "bar_style": "success",
      "description": "",
      "description_tooltip": null,
      "layout": "IPY_MODEL_f4f825a1ff444d8b9a79aa82a1a2cd85",
      "max": 231508,
      "min": 0,
      "orientation": "horizontal",
      "style": "IPY_MODEL_1124a87bef8d4057941a531063e207c0",
      "value": 231508
     }
    },
    "1124a87bef8d4057941a531063e207c0": {
     "model_module": "@jupyter-widgets/controls",
     "model_module_version": "1.5.0",
     "model_name": "ProgressStyleModel",
     "state": {
      "_model_module": "@jupyter-widgets/controls",
      "_model_module_version": "1.5.0",
      "_model_name": "ProgressStyleModel",
      "_view_count": null,
      "_view_module": "@jupyter-widgets/base",
      "_view_module_version": "1.2.0",
      "_view_name": "StyleView",
      "bar_color": null,
      "description_width": ""
     }
    },
    "15d6ac3375364aec9f6996a1bba06690": {
     "model_module": "@jupyter-widgets/base",
     "model_module_version": "1.2.0",
     "model_name": "LayoutModel",
     "state": {
      "_model_module": "@jupyter-widgets/base",
      "_model_module_version": "1.2.0",
      "_model_name": "LayoutModel",
      "_view_count": null,
      "_view_module": "@jupyter-widgets/base",
      "_view_module_version": "1.2.0",
      "_view_name": "LayoutView",
      "align_content": null,
      "align_items": null,
      "align_self": null,
      "border": null,
      "bottom": null,
      "display": null,
      "flex": null,
      "flex_flow": null,
      "grid_area": null,
      "grid_auto_columns": null,
      "grid_auto_flow": null,
      "grid_auto_rows": null,
      "grid_column": null,
      "grid_gap": null,
      "grid_row": null,
      "grid_template_areas": null,
      "grid_template_columns": null,
      "grid_template_rows": null,
      "height": null,
      "justify_content": null,
      "justify_items": null,
      "left": null,
      "margin": null,
      "max_height": null,
      "max_width": null,
      "min_height": null,
      "min_width": null,
      "object_fit": null,
      "object_position": null,
      "order": null,
      "overflow": null,
      "overflow_x": null,
      "overflow_y": null,
      "padding": null,
      "right": null,
      "top": null,
      "visibility": null,
      "width": null
     }
    },
    "190b216702d041c49dbb961ca94066ad": {
     "model_module": "@jupyter-widgets/base",
     "model_module_version": "1.2.0",
     "model_name": "LayoutModel",
     "state": {
      "_model_module": "@jupyter-widgets/base",
      "_model_module_version": "1.2.0",
      "_model_name": "LayoutModel",
      "_view_count": null,
      "_view_module": "@jupyter-widgets/base",
      "_view_module_version": "1.2.0",
      "_view_name": "LayoutView",
      "align_content": null,
      "align_items": null,
      "align_self": null,
      "border": null,
      "bottom": null,
      "display": null,
      "flex": null,
      "flex_flow": null,
      "grid_area": null,
      "grid_auto_columns": null,
      "grid_auto_flow": null,
      "grid_auto_rows": null,
      "grid_column": null,
      "grid_gap": null,
      "grid_row": null,
      "grid_template_areas": null,
      "grid_template_columns": null,
      "grid_template_rows": null,
      "height": null,
      "justify_content": null,
      "justify_items": null,
      "left": null,
      "margin": null,
      "max_height": null,
      "max_width": null,
      "min_height": null,
      "min_width": null,
      "object_fit": null,
      "object_position": null,
      "order": null,
      "overflow": null,
      "overflow_x": null,
      "overflow_y": null,
      "padding": null,
      "right": null,
      "top": null,
      "visibility": null,
      "width": null
     }
    },
    "295f95389dc04266a49334a8db4260bc": {
     "model_module": "@jupyter-widgets/base",
     "model_module_version": "1.2.0",
     "model_name": "LayoutModel",
     "state": {
      "_model_module": "@jupyter-widgets/base",
      "_model_module_version": "1.2.0",
      "_model_name": "LayoutModel",
      "_view_count": null,
      "_view_module": "@jupyter-widgets/base",
      "_view_module_version": "1.2.0",
      "_view_name": "LayoutView",
      "align_content": null,
      "align_items": null,
      "align_self": null,
      "border": null,
      "bottom": null,
      "display": null,
      "flex": null,
      "flex_flow": null,
      "grid_area": null,
      "grid_auto_columns": null,
      "grid_auto_flow": null,
      "grid_auto_rows": null,
      "grid_column": null,
      "grid_gap": null,
      "grid_row": null,
      "grid_template_areas": null,
      "grid_template_columns": null,
      "grid_template_rows": null,
      "height": null,
      "justify_content": null,
      "justify_items": null,
      "left": null,
      "margin": null,
      "max_height": null,
      "max_width": null,
      "min_height": null,
      "min_width": null,
      "object_fit": null,
      "object_position": null,
      "order": null,
      "overflow": null,
      "overflow_x": null,
      "overflow_y": null,
      "padding": null,
      "right": null,
      "top": null,
      "visibility": null,
      "width": null
     }
    },
    "2e2ec6356700407f85ad3de3c962ccbc": {
     "model_module": "@jupyter-widgets/controls",
     "model_module_version": "1.5.0",
     "model_name": "ProgressStyleModel",
     "state": {
      "_model_module": "@jupyter-widgets/controls",
      "_model_module_version": "1.5.0",
      "_model_name": "ProgressStyleModel",
      "_view_count": null,
      "_view_module": "@jupyter-widgets/base",
      "_view_module_version": "1.2.0",
      "_view_name": "StyleView",
      "bar_color": null,
      "description_width": ""
     }
    },
    "2fa4cac00dbf49e9826deff7c2b093ec": {
     "model_module": "@jupyter-widgets/controls",
     "model_module_version": "1.5.0",
     "model_name": "DescriptionStyleModel",
     "state": {
      "_model_module": "@jupyter-widgets/controls",
      "_model_module_version": "1.5.0",
      "_model_name": "DescriptionStyleModel",
      "_view_count": null,
      "_view_module": "@jupyter-widgets/base",
      "_view_module_version": "1.2.0",
      "_view_name": "StyleView",
      "description_width": ""
     }
    },
    "33ed467e9c1e4351ac6a9d97fd95a786": {
     "model_module": "@jupyter-widgets/controls",
     "model_module_version": "1.5.0",
     "model_name": "DescriptionStyleModel",
     "state": {
      "_model_module": "@jupyter-widgets/controls",
      "_model_module_version": "1.5.0",
      "_model_name": "DescriptionStyleModel",
      "_view_count": null,
      "_view_module": "@jupyter-widgets/base",
      "_view_module_version": "1.2.0",
      "_view_name": "StyleView",
      "description_width": ""
     }
    },
    "3a2fb39de8ae45ad9f7dbec2f8c51c01": {
     "model_module": "@jupyter-widgets/controls",
     "model_module_version": "1.5.0",
     "model_name": "HTMLModel",
     "state": {
      "_dom_classes": [],
      "_model_module": "@jupyter-widgets/controls",
      "_model_module_version": "1.5.0",
      "_model_name": "HTMLModel",
      "_view_count": null,
      "_view_module": "@jupyter-widgets/controls",
      "_view_module_version": "1.5.0",
      "_view_name": "HTMLView",
      "description": "",
      "description_tooltip": null,
      "layout": "IPY_MODEL_190b216702d041c49dbb961ca94066ad",
      "placeholder": "​",
      "style": "IPY_MODEL_2fa4cac00dbf49e9826deff7c2b093ec",
      "value": " 440M/440M [00:22&lt;00:00, 21.6MB/s]"
     }
    },
    "3adc5a7f070b4e0eac2c0b31c21ffb7e": {
     "model_module": "@jupyter-widgets/controls",
     "model_module_version": "1.5.0",
     "model_name": "HTMLModel",
     "state": {
      "_dom_classes": [],
      "_model_module": "@jupyter-widgets/controls",
      "_model_module_version": "1.5.0",
      "_model_name": "HTMLModel",
      "_view_count": null,
      "_view_module": "@jupyter-widgets/controls",
      "_view_module_version": "1.5.0",
      "_view_name": "HTMLView",
      "description": "",
      "description_tooltip": null,
      "layout": "IPY_MODEL_bfac6bcf6859448b86b1a84db0ed18dd",
      "placeholder": "​",
      "style": "IPY_MODEL_c828f096bad64fe6964f8cc0a06627be",
      "value": " 466k/466k [00:00&lt;00:00, 798kB/s]"
     }
    },
    "3ee24dfc24db40939b5e5de849d6e533": {
     "model_module": "@jupyter-widgets/controls",
     "model_module_version": "1.5.0",
     "model_name": "HTMLModel",
     "state": {
      "_dom_classes": [],
      "_model_module": "@jupyter-widgets/controls",
      "_model_module_version": "1.5.0",
      "_model_name": "HTMLModel",
      "_view_count": null,
      "_view_module": "@jupyter-widgets/controls",
      "_view_module_version": "1.5.0",
      "_view_name": "HTMLView",
      "description": "",
      "description_tooltip": null,
      "layout": "IPY_MODEL_de6883b46c1842539b10669f82bbcab9",
      "placeholder": "​",
      "style": "IPY_MODEL_33ed467e9c1e4351ac6a9d97fd95a786",
      "value": "model.safetensors: 100%"
     }
    },
    "3fbb4dd0045d42ff8b0e848639557d66": {
     "model_module": "@jupyter-widgets/controls",
     "model_module_version": "1.5.0",
     "model_name": "HTMLModel",
     "state": {
      "_dom_classes": [],
      "_model_module": "@jupyter-widgets/controls",
      "_model_module_version": "1.5.0",
      "_model_name": "HTMLModel",
      "_view_count": null,
      "_view_module": "@jupyter-widgets/controls",
      "_view_module_version": "1.5.0",
      "_view_name": "HTMLView",
      "description": "",
      "description_tooltip": null,
      "layout": "IPY_MODEL_6cc2699ad08245ba8acba30f1eafb074",
      "placeholder": "​",
      "style": "IPY_MODEL_b0423936cdd7417397962b67db6492da",
      "value": " 570/570 [00:00&lt;00:00, 40.7kB/s]"
     }
    },
    "417a87599b1641e1a444b082e4e1f098": {
     "model_module": "@jupyter-widgets/base",
     "model_module_version": "1.2.0",
     "model_name": "LayoutModel",
     "state": {
      "_model_module": "@jupyter-widgets/base",
      "_model_module_version": "1.2.0",
      "_model_name": "LayoutModel",
      "_view_count": null,
      "_view_module": "@jupyter-widgets/base",
      "_view_module_version": "1.2.0",
      "_view_name": "LayoutView",
      "align_content": null,
      "align_items": null,
      "align_self": null,
      "border": null,
      "bottom": null,
      "display": null,
      "flex": null,
      "flex_flow": null,
      "grid_area": null,
      "grid_auto_columns": null,
      "grid_auto_flow": null,
      "grid_auto_rows": null,
      "grid_column": null,
      "grid_gap": null,
      "grid_row": null,
      "grid_template_areas": null,
      "grid_template_columns": null,
      "grid_template_rows": null,
      "height": null,
      "justify_content": null,
      "justify_items": null,
      "left": null,
      "margin": null,
      "max_height": null,
      "max_width": null,
      "min_height": null,
      "min_width": null,
      "object_fit": null,
      "object_position": null,
      "order": null,
      "overflow": null,
      "overflow_x": null,
      "overflow_y": null,
      "padding": null,
      "right": null,
      "top": null,
      "visibility": null,
      "width": null
     }
    },
    "42c6743ac4e14553b39d82b99100cbd4": {
     "model_module": "@jupyter-widgets/base",
     "model_module_version": "1.2.0",
     "model_name": "LayoutModel",
     "state": {
      "_model_module": "@jupyter-widgets/base",
      "_model_module_version": "1.2.0",
      "_model_name": "LayoutModel",
      "_view_count": null,
      "_view_module": "@jupyter-widgets/base",
      "_view_module_version": "1.2.0",
      "_view_name": "LayoutView",
      "align_content": null,
      "align_items": null,
      "align_self": null,
      "border": null,
      "bottom": null,
      "display": null,
      "flex": null,
      "flex_flow": null,
      "grid_area": null,
      "grid_auto_columns": null,
      "grid_auto_flow": null,
      "grid_auto_rows": null,
      "grid_column": null,
      "grid_gap": null,
      "grid_row": null,
      "grid_template_areas": null,
      "grid_template_columns": null,
      "grid_template_rows": null,
      "height": null,
      "justify_content": null,
      "justify_items": null,
      "left": null,
      "margin": null,
      "max_height": null,
      "max_width": null,
      "min_height": null,
      "min_width": null,
      "object_fit": null,
      "object_position": null,
      "order": null,
      "overflow": null,
      "overflow_x": null,
      "overflow_y": null,
      "padding": null,
      "right": null,
      "top": null,
      "visibility": null,
      "width": null
     }
    },
    "4fb7b696d9184a928ac0a76473eab717": {
     "model_module": "@jupyter-widgets/controls",
     "model_module_version": "1.5.0",
     "model_name": "HBoxModel",
     "state": {
      "_dom_classes": [],
      "_model_module": "@jupyter-widgets/controls",
      "_model_module_version": "1.5.0",
      "_model_name": "HBoxModel",
      "_view_count": null,
      "_view_module": "@jupyter-widgets/controls",
      "_view_module_version": "1.5.0",
      "_view_name": "HBoxView",
      "box_style": "",
      "children": [
       "IPY_MODEL_beda3ddec6434e8796590579c9b092c2",
       "IPY_MODEL_10c0397228e4405e91486f42d3bd9e82",
       "IPY_MODEL_601fb0b71c43493f9b041278d3fd8a44"
      ],
      "layout": "IPY_MODEL_0250e62030704da5bcd5ce845cf733dc"
     }
    },
    "54433daed9c143d3921b94d1b20c17e7": {
     "model_module": "@jupyter-widgets/base",
     "model_module_version": "1.2.0",
     "model_name": "LayoutModel",
     "state": {
      "_model_module": "@jupyter-widgets/base",
      "_model_module_version": "1.2.0",
      "_model_name": "LayoutModel",
      "_view_count": null,
      "_view_module": "@jupyter-widgets/base",
      "_view_module_version": "1.2.0",
      "_view_name": "LayoutView",
      "align_content": null,
      "align_items": null,
      "align_self": null,
      "border": null,
      "bottom": null,
      "display": null,
      "flex": null,
      "flex_flow": null,
      "grid_area": null,
      "grid_auto_columns": null,
      "grid_auto_flow": null,
      "grid_auto_rows": null,
      "grid_column": null,
      "grid_gap": null,
      "grid_row": null,
      "grid_template_areas": null,
      "grid_template_columns": null,
      "grid_template_rows": null,
      "height": null,
      "justify_content": null,
      "justify_items": null,
      "left": null,
      "margin": null,
      "max_height": null,
      "max_width": null,
      "min_height": null,
      "min_width": null,
      "object_fit": null,
      "object_position": null,
      "order": null,
      "overflow": null,
      "overflow_x": null,
      "overflow_y": null,
      "padding": null,
      "right": null,
      "top": null,
      "visibility": null,
      "width": null
     }
    },
    "5b4919ab898247dea5475981d4baf0ae": {
     "model_module": "@jupyter-widgets/controls",
     "model_module_version": "1.5.0",
     "model_name": "DescriptionStyleModel",
     "state": {
      "_model_module": "@jupyter-widgets/controls",
      "_model_module_version": "1.5.0",
      "_model_name": "DescriptionStyleModel",
      "_view_count": null,
      "_view_module": "@jupyter-widgets/base",
      "_view_module_version": "1.2.0",
      "_view_name": "StyleView",
      "description_width": ""
     }
    },
    "601fb0b71c43493f9b041278d3fd8a44": {
     "model_module": "@jupyter-widgets/controls",
     "model_module_version": "1.5.0",
     "model_name": "HTMLModel",
     "state": {
      "_dom_classes": [],
      "_model_module": "@jupyter-widgets/controls",
      "_model_module_version": "1.5.0",
      "_model_name": "HTMLModel",
      "_view_count": null,
      "_view_module": "@jupyter-widgets/controls",
      "_view_module_version": "1.5.0",
      "_view_name": "HTMLView",
      "description": "",
      "description_tooltip": null,
      "layout": "IPY_MODEL_417a87599b1641e1a444b082e4e1f098",
      "placeholder": "​",
      "style": "IPY_MODEL_fcad0cbbcd474f38a6247c4a57337427",
      "value": " 232k/232k [00:00&lt;00:00, 595kB/s]"
     }
    },
    "6cc2699ad08245ba8acba30f1eafb074": {
     "model_module": "@jupyter-widgets/base",
     "model_module_version": "1.2.0",
     "model_name": "LayoutModel",
     "state": {
      "_model_module": "@jupyter-widgets/base",
      "_model_module_version": "1.2.0",
      "_model_name": "LayoutModel",
      "_view_count": null,
      "_view_module": "@jupyter-widgets/base",
      "_view_module_version": "1.2.0",
      "_view_name": "LayoutView",
      "align_content": null,
      "align_items": null,
      "align_self": null,
      "border": null,
      "bottom": null,
      "display": null,
      "flex": null,
      "flex_flow": null,
      "grid_area": null,
      "grid_auto_columns": null,
      "grid_auto_flow": null,
      "grid_auto_rows": null,
      "grid_column": null,
      "grid_gap": null,
      "grid_row": null,
      "grid_template_areas": null,
      "grid_template_columns": null,
      "grid_template_rows": null,
      "height": null,
      "justify_content": null,
      "justify_items": null,
      "left": null,
      "margin": null,
      "max_height": null,
      "max_width": null,
      "min_height": null,
      "min_width": null,
      "object_fit": null,
      "object_position": null,
      "order": null,
      "overflow": null,
      "overflow_x": null,
      "overflow_y": null,
      "padding": null,
      "right": null,
      "top": null,
      "visibility": null,
      "width": null
     }
    },
    "6e2707a5b4ca4a3f8ae29cec19360361": {
     "model_module": "@jupyter-widgets/controls",
     "model_module_version": "1.5.0",
     "model_name": "ProgressStyleModel",
     "state": {
      "_model_module": "@jupyter-widgets/controls",
      "_model_module_version": "1.5.0",
      "_model_name": "ProgressStyleModel",
      "_view_count": null,
      "_view_module": "@jupyter-widgets/base",
      "_view_module_version": "1.2.0",
      "_view_name": "StyleView",
      "bar_color": null,
      "description_width": ""
     }
    },
    "74ac97b531ff45e5bb98b4e8bc170dec": {
     "model_module": "@jupyter-widgets/controls",
     "model_module_version": "1.5.0",
     "model_name": "HBoxModel",
     "state": {
      "_dom_classes": [],
      "_model_module": "@jupyter-widgets/controls",
      "_model_module_version": "1.5.0",
      "_model_name": "HBoxModel",
      "_view_count": null,
      "_view_module": "@jupyter-widgets/controls",
      "_view_module_version": "1.5.0",
      "_view_name": "HBoxView",
      "box_style": "",
      "children": [
       "IPY_MODEL_d1edf2b0aee64bb6ad4f47ea0edf77f4",
       "IPY_MODEL_f11009b8fe1e48a7bdd439c8745a7984",
       "IPY_MODEL_3fbb4dd0045d42ff8b0e848639557d66"
      ],
      "layout": "IPY_MODEL_f8d2a060071043a8bf7cad1684bcb382"
     }
    },
    "815464ea6f0741c6821b6af710f2f601": {
     "model_module": "@jupyter-widgets/base",
     "model_module_version": "1.2.0",
     "model_name": "LayoutModel",
     "state": {
      "_model_module": "@jupyter-widgets/base",
      "_model_module_version": "1.2.0",
      "_model_name": "LayoutModel",
      "_view_count": null,
      "_view_module": "@jupyter-widgets/base",
      "_view_module_version": "1.2.0",
      "_view_name": "LayoutView",
      "align_content": null,
      "align_items": null,
      "align_self": null,
      "border": null,
      "bottom": null,
      "display": null,
      "flex": null,
      "flex_flow": null,
      "grid_area": null,
      "grid_auto_columns": null,
      "grid_auto_flow": null,
      "grid_auto_rows": null,
      "grid_column": null,
      "grid_gap": null,
      "grid_row": null,
      "grid_template_areas": null,
      "grid_template_columns": null,
      "grid_template_rows": null,
      "height": null,
      "justify_content": null,
      "justify_items": null,
      "left": null,
      "margin": null,
      "max_height": null,
      "max_width": null,
      "min_height": null,
      "min_width": null,
      "object_fit": null,
      "object_position": null,
      "order": null,
      "overflow": null,
      "overflow_x": null,
      "overflow_y": null,
      "padding": null,
      "right": null,
      "top": null,
      "visibility": null,
      "width": null
     }
    },
    "8c64046b52034de9bec0c7c711ac0c61": {
     "model_module": "@jupyter-widgets/base",
     "model_module_version": "1.2.0",
     "model_name": "LayoutModel",
     "state": {
      "_model_module": "@jupyter-widgets/base",
      "_model_module_version": "1.2.0",
      "_model_name": "LayoutModel",
      "_view_count": null,
      "_view_module": "@jupyter-widgets/base",
      "_view_module_version": "1.2.0",
      "_view_name": "LayoutView",
      "align_content": null,
      "align_items": null,
      "align_self": null,
      "border": null,
      "bottom": null,
      "display": null,
      "flex": null,
      "flex_flow": null,
      "grid_area": null,
      "grid_auto_columns": null,
      "grid_auto_flow": null,
      "grid_auto_rows": null,
      "grid_column": null,
      "grid_gap": null,
      "grid_row": null,
      "grid_template_areas": null,
      "grid_template_columns": null,
      "grid_template_rows": null,
      "height": null,
      "justify_content": null,
      "justify_items": null,
      "left": null,
      "margin": null,
      "max_height": null,
      "max_width": null,
      "min_height": null,
      "min_width": null,
      "object_fit": null,
      "object_position": null,
      "order": null,
      "overflow": null,
      "overflow_x": null,
      "overflow_y": null,
      "padding": null,
      "right": null,
      "top": null,
      "visibility": null,
      "width": null
     }
    },
    "a8dbe03f00904e8aa871e9ce3eedd035": {
     "model_module": "@jupyter-widgets/controls",
     "model_module_version": "1.5.0",
     "model_name": "ProgressStyleModel",
     "state": {
      "_model_module": "@jupyter-widgets/controls",
      "_model_module_version": "1.5.0",
      "_model_name": "ProgressStyleModel",
      "_view_count": null,
      "_view_module": "@jupyter-widgets/base",
      "_view_module_version": "1.2.0",
      "_view_name": "StyleView",
      "bar_color": null,
      "description_width": ""
     }
    },
    "a93877bb0ae24a6daec91d32c37d8955": {
     "model_module": "@jupyter-widgets/base",
     "model_module_version": "1.2.0",
     "model_name": "LayoutModel",
     "state": {
      "_model_module": "@jupyter-widgets/base",
      "_model_module_version": "1.2.0",
      "_model_name": "LayoutModel",
      "_view_count": null,
      "_view_module": "@jupyter-widgets/base",
      "_view_module_version": "1.2.0",
      "_view_name": "LayoutView",
      "align_content": null,
      "align_items": null,
      "align_self": null,
      "border": null,
      "bottom": null,
      "display": null,
      "flex": null,
      "flex_flow": null,
      "grid_area": null,
      "grid_auto_columns": null,
      "grid_auto_flow": null,
      "grid_auto_rows": null,
      "grid_column": null,
      "grid_gap": null,
      "grid_row": null,
      "grid_template_areas": null,
      "grid_template_columns": null,
      "grid_template_rows": null,
      "height": null,
      "justify_content": null,
      "justify_items": null,
      "left": null,
      "margin": null,
      "max_height": null,
      "max_width": null,
      "min_height": null,
      "min_width": null,
      "object_fit": null,
      "object_position": null,
      "order": null,
      "overflow": null,
      "overflow_x": null,
      "overflow_y": null,
      "padding": null,
      "right": null,
      "top": null,
      "visibility": null,
      "width": null
     }
    },
    "ab15ee888c2a4bca93720fbf9b1acca8": {
     "model_module": "@jupyter-widgets/base",
     "model_module_version": "1.2.0",
     "model_name": "LayoutModel",
     "state": {
      "_model_module": "@jupyter-widgets/base",
      "_model_module_version": "1.2.0",
      "_model_name": "LayoutModel",
      "_view_count": null,
      "_view_module": "@jupyter-widgets/base",
      "_view_module_version": "1.2.0",
      "_view_name": "LayoutView",
      "align_content": null,
      "align_items": null,
      "align_self": null,
      "border": null,
      "bottom": null,
      "display": null,
      "flex": null,
      "flex_flow": null,
      "grid_area": null,
      "grid_auto_columns": null,
      "grid_auto_flow": null,
      "grid_auto_rows": null,
      "grid_column": null,
      "grid_gap": null,
      "grid_row": null,
      "grid_template_areas": null,
      "grid_template_columns": null,
      "grid_template_rows": null,
      "height": null,
      "justify_content": null,
      "justify_items": null,
      "left": null,
      "margin": null,
      "max_height": null,
      "max_width": null,
      "min_height": null,
      "min_width": null,
      "object_fit": null,
      "object_position": null,
      "order": null,
      "overflow": null,
      "overflow_x": null,
      "overflow_y": null,
      "padding": null,
      "right": null,
      "top": null,
      "visibility": null,
      "width": null
     }
    },
    "abd8ed9d21264b2cacde74b6c97870f9": {
     "model_module": "@jupyter-widgets/controls",
     "model_module_version": "1.5.0",
     "model_name": "FloatProgressModel",
     "state": {
      "_dom_classes": [],
      "_model_module": "@jupyter-widgets/controls",
      "_model_module_version": "1.5.0",
      "_model_name": "FloatProgressModel",
      "_view_count": null,
      "_view_module": "@jupyter-widgets/controls",
      "_view_module_version": "1.5.0",
      "_view_name": "ProgressView",
      "bar_style": "success",
      "description": "",
      "description_tooltip": null,
      "layout": "IPY_MODEL_a93877bb0ae24a6daec91d32c37d8955",
      "max": 28,
      "min": 0,
      "orientation": "horizontal",
      "style": "IPY_MODEL_6e2707a5b4ca4a3f8ae29cec19360361",
      "value": 28
     }
    },
    "acc33c9d69a54f31a55ee3a7273679f4": {
     "model_module": "@jupyter-widgets/controls",
     "model_module_version": "1.5.0",
     "model_name": "HBoxModel",
     "state": {
      "_dom_classes": [],
      "_model_module": "@jupyter-widgets/controls",
      "_model_module_version": "1.5.0",
      "_model_name": "HBoxModel",
      "_view_count": null,
      "_view_module": "@jupyter-widgets/controls",
      "_view_module_version": "1.5.0",
      "_view_name": "HBoxView",
      "box_style": "",
      "children": [
       "IPY_MODEL_3ee24dfc24db40939b5e5de849d6e533",
       "IPY_MODEL_b820901c4cd04f359ec25ad827eec071",
       "IPY_MODEL_3a2fb39de8ae45ad9f7dbec2f8c51c01"
      ],
      "layout": "IPY_MODEL_8c64046b52034de9bec0c7c711ac0c61"
     }
    },
    "ad32bbde72f84c2a8a0b43dff3700b15": {
     "model_module": "@jupyter-widgets/controls",
     "model_module_version": "1.5.0",
     "model_name": "HBoxModel",
     "state": {
      "_dom_classes": [],
      "_model_module": "@jupyter-widgets/controls",
      "_model_module_version": "1.5.0",
      "_model_name": "HBoxModel",
      "_view_count": null,
      "_view_module": "@jupyter-widgets/controls",
      "_view_module_version": "1.5.0",
      "_view_name": "HBoxView",
      "box_style": "",
      "children": [
       "IPY_MODEL_0726cf5a7f774c5084d5c75f2312f277",
       "IPY_MODEL_de3c24c4253648cfa1d2217a99deb485",
       "IPY_MODEL_3adc5a7f070b4e0eac2c0b31c21ffb7e"
      ],
      "layout": "IPY_MODEL_15d6ac3375364aec9f6996a1bba06690"
     }
    },
    "b0423936cdd7417397962b67db6492da": {
     "model_module": "@jupyter-widgets/controls",
     "model_module_version": "1.5.0",
     "model_name": "DescriptionStyleModel",
     "state": {
      "_model_module": "@jupyter-widgets/controls",
      "_model_module_version": "1.5.0",
      "_model_name": "DescriptionStyleModel",
      "_view_count": null,
      "_view_module": "@jupyter-widgets/base",
      "_view_module_version": "1.2.0",
      "_view_name": "StyleView",
      "description_width": ""
     }
    },
    "b820901c4cd04f359ec25ad827eec071": {
     "model_module": "@jupyter-widgets/controls",
     "model_module_version": "1.5.0",
     "model_name": "FloatProgressModel",
     "state": {
      "_dom_classes": [],
      "_model_module": "@jupyter-widgets/controls",
      "_model_module_version": "1.5.0",
      "_model_name": "FloatProgressModel",
      "_view_count": null,
      "_view_module": "@jupyter-widgets/controls",
      "_view_module_version": "1.5.0",
      "_view_name": "ProgressView",
      "bar_style": "success",
      "description": "",
      "description_tooltip": null,
      "layout": "IPY_MODEL_815464ea6f0741c6821b6af710f2f601",
      "max": 440449768,
      "min": 0,
      "orientation": "horizontal",
      "style": "IPY_MODEL_d632b5792bfe4e50a6b21b2400f13c32",
      "value": 440449768
     }
    },
    "beda3ddec6434e8796590579c9b092c2": {
     "model_module": "@jupyter-widgets/controls",
     "model_module_version": "1.5.0",
     "model_name": "HTMLModel",
     "state": {
      "_dom_classes": [],
      "_model_module": "@jupyter-widgets/controls",
      "_model_module_version": "1.5.0",
      "_model_name": "HTMLModel",
      "_view_count": null,
      "_view_module": "@jupyter-widgets/controls",
      "_view_module_version": "1.5.0",
      "_view_name": "HTMLView",
      "description": "",
      "description_tooltip": null,
      "layout": "IPY_MODEL_295f95389dc04266a49334a8db4260bc",
      "placeholder": "​",
      "style": "IPY_MODEL_df5ab2becaff492ab798ace1ee4cae6e",
      "value": "vocab.txt: 100%"
     }
    },
    "beec01c5e2e34bbeb75e45c694a9533e": {
     "model_module": "@jupyter-widgets/controls",
     "model_module_version": "1.5.0",
     "model_name": "HTMLModel",
     "state": {
      "_dom_classes": [],
      "_model_module": "@jupyter-widgets/controls",
      "_model_module_version": "1.5.0",
      "_model_name": "HTMLModel",
      "_view_count": null,
      "_view_module": "@jupyter-widgets/controls",
      "_view_module_version": "1.5.0",
      "_view_name": "HTMLView",
      "description": "",
      "description_tooltip": null,
      "layout": "IPY_MODEL_fc49552e5d1347a798b06d76325d404d",
      "placeholder": "​",
      "style": "IPY_MODEL_f8313f0adddb4681a9d332497e6ad08a",
      "value": " 28.0/28.0 [00:00&lt;00:00, 1.60kB/s]"
     }
    },
    "bfac6bcf6859448b86b1a84db0ed18dd": {
     "model_module": "@jupyter-widgets/base",
     "model_module_version": "1.2.0",
     "model_name": "LayoutModel",
     "state": {
      "_model_module": "@jupyter-widgets/base",
      "_model_module_version": "1.2.0",
      "_model_name": "LayoutModel",
      "_view_count": null,
      "_view_module": "@jupyter-widgets/base",
      "_view_module_version": "1.2.0",
      "_view_name": "LayoutView",
      "align_content": null,
      "align_items": null,
      "align_self": null,
      "border": null,
      "bottom": null,
      "display": null,
      "flex": null,
      "flex_flow": null,
      "grid_area": null,
      "grid_auto_columns": null,
      "grid_auto_flow": null,
      "grid_auto_rows": null,
      "grid_column": null,
      "grid_gap": null,
      "grid_row": null,
      "grid_template_areas": null,
      "grid_template_columns": null,
      "grid_template_rows": null,
      "height": null,
      "justify_content": null,
      "justify_items": null,
      "left": null,
      "margin": null,
      "max_height": null,
      "max_width": null,
      "min_height": null,
      "min_width": null,
      "object_fit": null,
      "object_position": null,
      "order": null,
      "overflow": null,
      "overflow_x": null,
      "overflow_y": null,
      "padding": null,
      "right": null,
      "top": null,
      "visibility": null,
      "width": null
     }
    },
    "bfccaa24bfd049d0b425b3bee80741d2": {
     "model_module": "@jupyter-widgets/base",
     "model_module_version": "1.2.0",
     "model_name": "LayoutModel",
     "state": {
      "_model_module": "@jupyter-widgets/base",
      "_model_module_version": "1.2.0",
      "_model_name": "LayoutModel",
      "_view_count": null,
      "_view_module": "@jupyter-widgets/base",
      "_view_module_version": "1.2.0",
      "_view_name": "LayoutView",
      "align_content": null,
      "align_items": null,
      "align_self": null,
      "border": null,
      "bottom": null,
      "display": null,
      "flex": null,
      "flex_flow": null,
      "grid_area": null,
      "grid_auto_columns": null,
      "grid_auto_flow": null,
      "grid_auto_rows": null,
      "grid_column": null,
      "grid_gap": null,
      "grid_row": null,
      "grid_template_areas": null,
      "grid_template_columns": null,
      "grid_template_rows": null,
      "height": null,
      "justify_content": null,
      "justify_items": null,
      "left": null,
      "margin": null,
      "max_height": null,
      "max_width": null,
      "min_height": null,
      "min_width": null,
      "object_fit": null,
      "object_position": null,
      "order": null,
      "overflow": null,
      "overflow_x": null,
      "overflow_y": null,
      "padding": null,
      "right": null,
      "top": null,
      "visibility": null,
      "width": null
     }
    },
    "c61d001f2f594323b903ef9c03af5602": {
     "model_module": "@jupyter-widgets/controls",
     "model_module_version": "1.5.0",
     "model_name": "HBoxModel",
     "state": {
      "_dom_classes": [],
      "_model_module": "@jupyter-widgets/controls",
      "_model_module_version": "1.5.0",
      "_model_name": "HBoxModel",
      "_view_count": null,
      "_view_module": "@jupyter-widgets/controls",
      "_view_module_version": "1.5.0",
      "_view_name": "HBoxView",
      "box_style": "",
      "children": [
       "IPY_MODEL_ee3aedea5a65485b8d6d4eb2851c03f4",
       "IPY_MODEL_abd8ed9d21264b2cacde74b6c97870f9",
       "IPY_MODEL_beec01c5e2e34bbeb75e45c694a9533e"
      ],
      "layout": "IPY_MODEL_df7bf429547e4671919a703f2e455818"
     }
    },
    "c828f096bad64fe6964f8cc0a06627be": {
     "model_module": "@jupyter-widgets/controls",
     "model_module_version": "1.5.0",
     "model_name": "DescriptionStyleModel",
     "state": {
      "_model_module": "@jupyter-widgets/controls",
      "_model_module_version": "1.5.0",
      "_model_name": "DescriptionStyleModel",
      "_view_count": null,
      "_view_module": "@jupyter-widgets/base",
      "_view_module_version": "1.2.0",
      "_view_name": "StyleView",
      "description_width": ""
     }
    },
    "d1edf2b0aee64bb6ad4f47ea0edf77f4": {
     "model_module": "@jupyter-widgets/controls",
     "model_module_version": "1.5.0",
     "model_name": "HTMLModel",
     "state": {
      "_dom_classes": [],
      "_model_module": "@jupyter-widgets/controls",
      "_model_module_version": "1.5.0",
      "_model_name": "HTMLModel",
      "_view_count": null,
      "_view_module": "@jupyter-widgets/controls",
      "_view_module_version": "1.5.0",
      "_view_name": "HTMLView",
      "description": "",
      "description_tooltip": null,
      "layout": "IPY_MODEL_54433daed9c143d3921b94d1b20c17e7",
      "placeholder": "​",
      "style": "IPY_MODEL_5b4919ab898247dea5475981d4baf0ae",
      "value": "config.json: 100%"
     }
    },
    "d632b5792bfe4e50a6b21b2400f13c32": {
     "model_module": "@jupyter-widgets/controls",
     "model_module_version": "1.5.0",
     "model_name": "ProgressStyleModel",
     "state": {
      "_model_module": "@jupyter-widgets/controls",
      "_model_module_version": "1.5.0",
      "_model_name": "ProgressStyleModel",
      "_view_count": null,
      "_view_module": "@jupyter-widgets/base",
      "_view_module_version": "1.2.0",
      "_view_name": "StyleView",
      "bar_color": null,
      "description_width": ""
     }
    },
    "de3c24c4253648cfa1d2217a99deb485": {
     "model_module": "@jupyter-widgets/controls",
     "model_module_version": "1.5.0",
     "model_name": "FloatProgressModel",
     "state": {
      "_dom_classes": [],
      "_model_module": "@jupyter-widgets/controls",
      "_model_module_version": "1.5.0",
      "_model_name": "FloatProgressModel",
      "_view_count": null,
      "_view_module": "@jupyter-widgets/controls",
      "_view_module_version": "1.5.0",
      "_view_name": "ProgressView",
      "bar_style": "success",
      "description": "",
      "description_tooltip": null,
      "layout": "IPY_MODEL_bfccaa24bfd049d0b425b3bee80741d2",
      "max": 466062,
      "min": 0,
      "orientation": "horizontal",
      "style": "IPY_MODEL_2e2ec6356700407f85ad3de3c962ccbc",
      "value": 466062
     }
    },
    "de6883b46c1842539b10669f82bbcab9": {
     "model_module": "@jupyter-widgets/base",
     "model_module_version": "1.2.0",
     "model_name": "LayoutModel",
     "state": {
      "_model_module": "@jupyter-widgets/base",
      "_model_module_version": "1.2.0",
      "_model_name": "LayoutModel",
      "_view_count": null,
      "_view_module": "@jupyter-widgets/base",
      "_view_module_version": "1.2.0",
      "_view_name": "LayoutView",
      "align_content": null,
      "align_items": null,
      "align_self": null,
      "border": null,
      "bottom": null,
      "display": null,
      "flex": null,
      "flex_flow": null,
      "grid_area": null,
      "grid_auto_columns": null,
      "grid_auto_flow": null,
      "grid_auto_rows": null,
      "grid_column": null,
      "grid_gap": null,
      "grid_row": null,
      "grid_template_areas": null,
      "grid_template_columns": null,
      "grid_template_rows": null,
      "height": null,
      "justify_content": null,
      "justify_items": null,
      "left": null,
      "margin": null,
      "max_height": null,
      "max_width": null,
      "min_height": null,
      "min_width": null,
      "object_fit": null,
      "object_position": null,
      "order": null,
      "overflow": null,
      "overflow_x": null,
      "overflow_y": null,
      "padding": null,
      "right": null,
      "top": null,
      "visibility": null,
      "width": null
     }
    },
    "df5ab2becaff492ab798ace1ee4cae6e": {
     "model_module": "@jupyter-widgets/controls",
     "model_module_version": "1.5.0",
     "model_name": "DescriptionStyleModel",
     "state": {
      "_model_module": "@jupyter-widgets/controls",
      "_model_module_version": "1.5.0",
      "_model_name": "DescriptionStyleModel",
      "_view_count": null,
      "_view_module": "@jupyter-widgets/base",
      "_view_module_version": "1.2.0",
      "_view_name": "StyleView",
      "description_width": ""
     }
    },
    "df7bf429547e4671919a703f2e455818": {
     "model_module": "@jupyter-widgets/base",
     "model_module_version": "1.2.0",
     "model_name": "LayoutModel",
     "state": {
      "_model_module": "@jupyter-widgets/base",
      "_model_module_version": "1.2.0",
      "_model_name": "LayoutModel",
      "_view_count": null,
      "_view_module": "@jupyter-widgets/base",
      "_view_module_version": "1.2.0",
      "_view_name": "LayoutView",
      "align_content": null,
      "align_items": null,
      "align_self": null,
      "border": null,
      "bottom": null,
      "display": null,
      "flex": null,
      "flex_flow": null,
      "grid_area": null,
      "grid_auto_columns": null,
      "grid_auto_flow": null,
      "grid_auto_rows": null,
      "grid_column": null,
      "grid_gap": null,
      "grid_row": null,
      "grid_template_areas": null,
      "grid_template_columns": null,
      "grid_template_rows": null,
      "height": null,
      "justify_content": null,
      "justify_items": null,
      "left": null,
      "margin": null,
      "max_height": null,
      "max_width": null,
      "min_height": null,
      "min_width": null,
      "object_fit": null,
      "object_position": null,
      "order": null,
      "overflow": null,
      "overflow_x": null,
      "overflow_y": null,
      "padding": null,
      "right": null,
      "top": null,
      "visibility": null,
      "width": null
     }
    },
    "e4b2510afd2c44d38146a0ab18ac352d": {
     "model_module": "@jupyter-widgets/controls",
     "model_module_version": "1.5.0",
     "model_name": "DescriptionStyleModel",
     "state": {
      "_model_module": "@jupyter-widgets/controls",
      "_model_module_version": "1.5.0",
      "_model_name": "DescriptionStyleModel",
      "_view_count": null,
      "_view_module": "@jupyter-widgets/base",
      "_view_module_version": "1.2.0",
      "_view_name": "StyleView",
      "description_width": ""
     }
    },
    "ee3aedea5a65485b8d6d4eb2851c03f4": {
     "model_module": "@jupyter-widgets/controls",
     "model_module_version": "1.5.0",
     "model_name": "HTMLModel",
     "state": {
      "_dom_classes": [],
      "_model_module": "@jupyter-widgets/controls",
      "_model_module_version": "1.5.0",
      "_model_name": "HTMLModel",
      "_view_count": null,
      "_view_module": "@jupyter-widgets/controls",
      "_view_module_version": "1.5.0",
      "_view_name": "HTMLView",
      "description": "",
      "description_tooltip": null,
      "layout": "IPY_MODEL_f324eff496fa41209751cb3eea89a337",
      "placeholder": "​",
      "style": "IPY_MODEL_0a1dd6743f7f4d36a5025e928cb2ec2c",
      "value": "tokenizer_config.json: 100%"
     }
    },
    "f11009b8fe1e48a7bdd439c8745a7984": {
     "model_module": "@jupyter-widgets/controls",
     "model_module_version": "1.5.0",
     "model_name": "FloatProgressModel",
     "state": {
      "_dom_classes": [],
      "_model_module": "@jupyter-widgets/controls",
      "_model_module_version": "1.5.0",
      "_model_name": "FloatProgressModel",
      "_view_count": null,
      "_view_module": "@jupyter-widgets/controls",
      "_view_module_version": "1.5.0",
      "_view_name": "ProgressView",
      "bar_style": "success",
      "description": "",
      "description_tooltip": null,
      "layout": "IPY_MODEL_42c6743ac4e14553b39d82b99100cbd4",
      "max": 570,
      "min": 0,
      "orientation": "horizontal",
      "style": "IPY_MODEL_a8dbe03f00904e8aa871e9ce3eedd035",
      "value": 570
     }
    },
    "f324eff496fa41209751cb3eea89a337": {
     "model_module": "@jupyter-widgets/base",
     "model_module_version": "1.2.0",
     "model_name": "LayoutModel",
     "state": {
      "_model_module": "@jupyter-widgets/base",
      "_model_module_version": "1.2.0",
      "_model_name": "LayoutModel",
      "_view_count": null,
      "_view_module": "@jupyter-widgets/base",
      "_view_module_version": "1.2.0",
      "_view_name": "LayoutView",
      "align_content": null,
      "align_items": null,
      "align_self": null,
      "border": null,
      "bottom": null,
      "display": null,
      "flex": null,
      "flex_flow": null,
      "grid_area": null,
      "grid_auto_columns": null,
      "grid_auto_flow": null,
      "grid_auto_rows": null,
      "grid_column": null,
      "grid_gap": null,
      "grid_row": null,
      "grid_template_areas": null,
      "grid_template_columns": null,
      "grid_template_rows": null,
      "height": null,
      "justify_content": null,
      "justify_items": null,
      "left": null,
      "margin": null,
      "max_height": null,
      "max_width": null,
      "min_height": null,
      "min_width": null,
      "object_fit": null,
      "object_position": null,
      "order": null,
      "overflow": null,
      "overflow_x": null,
      "overflow_y": null,
      "padding": null,
      "right": null,
      "top": null,
      "visibility": null,
      "width": null
     }
    },
    "f4f825a1ff444d8b9a79aa82a1a2cd85": {
     "model_module": "@jupyter-widgets/base",
     "model_module_version": "1.2.0",
     "model_name": "LayoutModel",
     "state": {
      "_model_module": "@jupyter-widgets/base",
      "_model_module_version": "1.2.0",
      "_model_name": "LayoutModel",
      "_view_count": null,
      "_view_module": "@jupyter-widgets/base",
      "_view_module_version": "1.2.0",
      "_view_name": "LayoutView",
      "align_content": null,
      "align_items": null,
      "align_self": null,
      "border": null,
      "bottom": null,
      "display": null,
      "flex": null,
      "flex_flow": null,
      "grid_area": null,
      "grid_auto_columns": null,
      "grid_auto_flow": null,
      "grid_auto_rows": null,
      "grid_column": null,
      "grid_gap": null,
      "grid_row": null,
      "grid_template_areas": null,
      "grid_template_columns": null,
      "grid_template_rows": null,
      "height": null,
      "justify_content": null,
      "justify_items": null,
      "left": null,
      "margin": null,
      "max_height": null,
      "max_width": null,
      "min_height": null,
      "min_width": null,
      "object_fit": null,
      "object_position": null,
      "order": null,
      "overflow": null,
      "overflow_x": null,
      "overflow_y": null,
      "padding": null,
      "right": null,
      "top": null,
      "visibility": null,
      "width": null
     }
    },
    "f8313f0adddb4681a9d332497e6ad08a": {
     "model_module": "@jupyter-widgets/controls",
     "model_module_version": "1.5.0",
     "model_name": "DescriptionStyleModel",
     "state": {
      "_model_module": "@jupyter-widgets/controls",
      "_model_module_version": "1.5.0",
      "_model_name": "DescriptionStyleModel",
      "_view_count": null,
      "_view_module": "@jupyter-widgets/base",
      "_view_module_version": "1.2.0",
      "_view_name": "StyleView",
      "description_width": ""
     }
    },
    "f8d2a060071043a8bf7cad1684bcb382": {
     "model_module": "@jupyter-widgets/base",
     "model_module_version": "1.2.0",
     "model_name": "LayoutModel",
     "state": {
      "_model_module": "@jupyter-widgets/base",
      "_model_module_version": "1.2.0",
      "_model_name": "LayoutModel",
      "_view_count": null,
      "_view_module": "@jupyter-widgets/base",
      "_view_module_version": "1.2.0",
      "_view_name": "LayoutView",
      "align_content": null,
      "align_items": null,
      "align_self": null,
      "border": null,
      "bottom": null,
      "display": null,
      "flex": null,
      "flex_flow": null,
      "grid_area": null,
      "grid_auto_columns": null,
      "grid_auto_flow": null,
      "grid_auto_rows": null,
      "grid_column": null,
      "grid_gap": null,
      "grid_row": null,
      "grid_template_areas": null,
      "grid_template_columns": null,
      "grid_template_rows": null,
      "height": null,
      "justify_content": null,
      "justify_items": null,
      "left": null,
      "margin": null,
      "max_height": null,
      "max_width": null,
      "min_height": null,
      "min_width": null,
      "object_fit": null,
      "object_position": null,
      "order": null,
      "overflow": null,
      "overflow_x": null,
      "overflow_y": null,
      "padding": null,
      "right": null,
      "top": null,
      "visibility": null,
      "width": null
     }
    },
    "fc49552e5d1347a798b06d76325d404d": {
     "model_module": "@jupyter-widgets/base",
     "model_module_version": "1.2.0",
     "model_name": "LayoutModel",
     "state": {
      "_model_module": "@jupyter-widgets/base",
      "_model_module_version": "1.2.0",
      "_model_name": "LayoutModel",
      "_view_count": null,
      "_view_module": "@jupyter-widgets/base",
      "_view_module_version": "1.2.0",
      "_view_name": "LayoutView",
      "align_content": null,
      "align_items": null,
      "align_self": null,
      "border": null,
      "bottom": null,
      "display": null,
      "flex": null,
      "flex_flow": null,
      "grid_area": null,
      "grid_auto_columns": null,
      "grid_auto_flow": null,
      "grid_auto_rows": null,
      "grid_column": null,
      "grid_gap": null,
      "grid_row": null,
      "grid_template_areas": null,
      "grid_template_columns": null,
      "grid_template_rows": null,
      "height": null,
      "justify_content": null,
      "justify_items": null,
      "left": null,
      "margin": null,
      "max_height": null,
      "max_width": null,
      "min_height": null,
      "min_width": null,
      "object_fit": null,
      "object_position": null,
      "order": null,
      "overflow": null,
      "overflow_x": null,
      "overflow_y": null,
      "padding": null,
      "right": null,
      "top": null,
      "visibility": null,
      "width": null
     }
    },
    "fcad0cbbcd474f38a6247c4a57337427": {
     "model_module": "@jupyter-widgets/controls",
     "model_module_version": "1.5.0",
     "model_name": "DescriptionStyleModel",
     "state": {
      "_model_module": "@jupyter-widgets/controls",
      "_model_module_version": "1.5.0",
      "_model_name": "DescriptionStyleModel",
      "_view_count": null,
      "_view_module": "@jupyter-widgets/base",
      "_view_module_version": "1.2.0",
      "_view_name": "StyleView",
      "description_width": ""
     }
    }
   }
  }
 },
 "nbformat": 4,
 "nbformat_minor": 5
}
