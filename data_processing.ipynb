{
  "cells": [
    {
      "cell_type": "code",
      "execution_count": null,
      "metadata": {
        "colab": {
          "base_uri": "https://localhost:8080/"
        },
        "id": "beieOA9YUS5x",
        "outputId": "eddd95c8-ae17-41be-822b-ef7a8cafb852"
      },
      "outputs": [
        {
          "output_type": "stream",
          "name": "stdout",
          "text": [
            "Collecting emoji\n",
            "  Downloading emoji-2.9.0-py2.py3-none-any.whl (397 kB)\n",
            "\u001b[?25l     \u001b[90m━━━━━━━━━━━━━━━━━━━━━━━━━━━━━━━━━━━━━━━━\u001b[0m \u001b[32m0.0/397.5 kB\u001b[0m \u001b[31m?\u001b[0m eta \u001b[36m-:--:--\u001b[0m\r\u001b[2K     \u001b[91m━━━━━━━━━━━━━━━━━━━━━━━━━━━━━\u001b[0m\u001b[91m╸\u001b[0m\u001b[90m━━━━━━━━━━\u001b[0m \u001b[32m297.0/397.5 kB\u001b[0m \u001b[31m9.1 MB/s\u001b[0m eta \u001b[36m0:00:01\u001b[0m\r\u001b[2K     \u001b[90m━━━━━━━━━━━━━━━━━━━━━━━━━━━━━━━━━━━━━━━━\u001b[0m \u001b[32m397.5/397.5 kB\u001b[0m \u001b[31m8.2 MB/s\u001b[0m eta \u001b[36m0:00:00\u001b[0m\n",
            "\u001b[?25hInstalling collected packages: emoji\n",
            "Successfully installed emoji-2.9.0\n"
          ]
        }
      ],
      "source": [
        "!pip install emoji"
      ]
    },
    {
      "cell_type": "code",
      "execution_count": null,
      "metadata": {
        "id": "oHauSbM4EYtP"
      },
      "outputs": [],
      "source": [
        "import nltk\n",
        "import pandas as pd\n",
        "import xml.etree.ElementTree as ET\n",
        "from nltk.tokenize import word_tokenize\n",
        "from nltk.stem import WordNetLemmatizer\n",
        "from nltk.corpus import stopwords\n",
        "import re\n",
        "import spacy\n",
        "import numpy as np\n",
        "from spacy.language import Language\n",
        "import emoji"
      ]
    },
    {
      "cell_type": "code",
      "execution_count": null,
      "metadata": {
        "colab": {
          "base_uri": "https://localhost:8080/"
        },
        "id": "xx22aIjYEshE",
        "outputId": "7246df8d-6d9c-45e4-bd96-25eabcfe087e"
      },
      "outputs": [
        {
          "output_type": "stream",
          "name": "stdout",
          "text": [
            "Mounted at /content/drive\n"
          ]
        }
      ],
      "source": [
        "from google.colab import drive\n",
        "drive.mount('/content/drive')"
      ]
    },
    {
      "cell_type": "code",
      "execution_count": null,
      "metadata": {
        "id": "N9bB6fZYE0NA"
      },
      "outputs": [],
      "source": [
        "file_train = '/content/drive/My Drive/Analyse_des_sentiment/data/train.xml'\n",
        "file_dev   = '/content/drive/My Drive/Analyse_des_sentiment/data/dev.xml'\n",
        "file_test  = '/content/drive/My Drive/Analyse_des_sentiment/data/test.xml'"
      ]
    },
    {
      "cell_type": "code",
      "execution_count": null,
      "metadata": {
        "colab": {
          "base_uri": "https://localhost:8080/"
        },
        "id": "kCEMJNBdE4iF",
        "outputId": "3a5c0ebc-7a17-4a6f-cf1a-32a55d13e788"
      },
      "outputs": [
        {
          "output_type": "stream",
          "name": "stderr",
          "text": [
            "[nltk_data] Downloading package punkt to /root/nltk_data...\n",
            "[nltk_data]   Unzipping tokenizers/punkt.zip.\n",
            "[nltk_data] Downloading package stopwords to /root/nltk_data...\n",
            "[nltk_data]   Unzipping corpora/stopwords.zip.\n",
            "[nltk_data] Downloading package wordnet to /root/nltk_data...\n"
          ]
        },
        {
          "output_type": "execute_result",
          "data": {
            "text/plain": [
              "True"
            ]
          },
          "metadata": {},
          "execution_count": 6
        }
      ],
      "source": [
        "\n",
        "nltk.download('punkt')\n",
        "nltk.download('stopwords')\n",
        "nltk.download('wordnet')"
      ]
    },
    {
      "cell_type": "code",
      "execution_count": null,
      "metadata": {
        "id": "m8avRlMyE8ag"
      },
      "outputs": [],
      "source": [
        "def read_xml_to_dataframe(file_path):\n",
        "    # Analyse du fichier XML\n",
        "    tree = ET.parse(file_path)\n",
        "    root = tree.getroot()\n",
        "\n",
        "    # Création d'une liste vide pour stocker les données\n",
        "    data = []\n",
        "\n",
        "    # Parcours des éléments de commentaire\n",
        "    for comment in root.findall('comment'):\n",
        "        movie = comment.find('movie').text\n",
        "        review_id = comment.find('review_id').text\n",
        "        name = comment.find('name').text\n",
        "        user_id = comment.find('user_id').text\n",
        "        note = comment.find('note').text.replace(',', '.')\n",
        "        commentaire = comment.find('commentaire').text\n",
        "\n",
        "        # Ajout des données dans la liste sous forme de dictionnaire\n",
        "        data.append({\n",
        "            'movie': movie,\n",
        "            'review_id': review_id,\n",
        "            'name': name,\n",
        "            'user_id': user_id,\n",
        "            'note': note,\n",
        "            'commentaire': commentaire\n",
        "        })\n",
        "\n",
        "    # Création d'un DataFrame\n",
        "    df = pd.DataFrame(data)\n",
        "    return df"
      ]
    },
    {
      "cell_type": "code",
      "execution_count": null,
      "metadata": {
        "id": "MQOvn6FWFDU8"
      },
      "outputs": [],
      "source": [
        "#fonction pour le fichier de test\n",
        "def read_xml_to_dataframeTest(file_path):\n",
        "    # Analyse du fichier XML\n",
        "    tree = ET.parse(file_path)\n",
        "    root = tree.getroot()\n",
        "\n",
        "    # Création d'une liste vide pour stocker les données\n",
        "    data = []\n",
        "\n",
        "    # Parcours des éléments de commentaire\n",
        "    for comment in root.findall('comment'):\n",
        "        # Initialisation d'un dictionnaire pour chaque commentaire\n",
        "        comment_data = {}\n",
        "\n",
        "        # Extraction de chaque élément si disponible et ajout au dictionnaire\n",
        "        movie = comment.find('movie')\n",
        "        if movie is not None:\n",
        "            comment_data['movie'] = movie.text\n",
        "\n",
        "        review_id = comment.find('review_id')\n",
        "        if review_id is not None:\n",
        "            comment_data['review_id'] = review_id.text\n",
        "\n",
        "        name = comment.find('name')\n",
        "        if name is not None:\n",
        "            comment_data['name'] = name.text\n",
        "\n",
        "        user_id = comment.find('user_id')\n",
        "        if user_id is not None:\n",
        "            comment_data['user_id'] = user_id.text\n",
        "\n",
        "        note = comment.find('note')\n",
        "        if note is not None:\n",
        "            comment_data['note'] = note.text.replace(',', '.')\n",
        "\n",
        "        commentaire = comment.find('commentaire')\n",
        "        if commentaire is not None:\n",
        "            comment_data['commentaire'] = commentaire.text\n",
        "\n",
        "        # Ajout des données dans la liste sous forme de dictionnaire\n",
        "        data.append(comment_data)\n",
        "\n",
        "    # Création d'un DataFrame\n",
        "    df = pd.DataFrame(data)\n",
        "\n",
        "    return df\n"
      ]
    },
    {
      "cell_type": "code",
      "execution_count": null,
      "metadata": {
        "id": "OYQr42tPFJTv"
      },
      "outputs": [],
      "source": [
        "\"\"\"# Récupération des données dans des dataFrame\"\"\"\n",
        "\n",
        "#création DataFrame\n",
        "data_dev   = read_xml_to_dataframe(file_dev)\n",
        "data_train = read_xml_to_dataframe(file_train)\n",
        "data_test = read_xml_to_dataframeTest(file_test)\n"
      ]
    },
    {
      "cell_type": "code",
      "execution_count": null,
      "metadata": {
        "colab": {
          "base_uri": "https://localhost:8080/",
          "height": 424
        },
        "id": "x14LjY-dNaze",
        "outputId": "84a841ab-8d71-454b-f125-34d714a6f685"
      },
      "outputs": [
        {
          "output_type": "execute_result",
          "data": {
            "text/plain": [
              "         movie          review_id               name  \\\n",
              "0       229864    review_58145147               AM11   \n",
              "1       229864    review_59303833  this is my movies   \n",
              "2       229864    review_61916672         Shephard69   \n",
              "3       229864  review_1000190786              Tayop   \n",
              "4       229864    review_59207755             ned123   \n",
              "...        ...                ...                ...   \n",
              "665957  245551    review_55820729            Wally L   \n",
              "665958  245551  review_1001840194               r@ch   \n",
              "665959  245551    review_56242470          Kaiser D.   \n",
              "665960  245551    review_58174196         Florent A.   \n",
              "665961  245551  review_1006358741             NSI N.   \n",
              "\n",
              "                         user_id note  \\\n",
              "0       Z20051105131449940367618  4.0   \n",
              "1       Z20051220181957240298347  3.5   \n",
              "2       Z20121226180301760912584  4.5   \n",
              "3       Z20121022182542230468657  3.0   \n",
              "4       Z20061211223247607682175  3.5   \n",
              "...                          ...  ...   \n",
              "665957  Z20121109004006553333277  4.0   \n",
              "665958  Z20100726110927837577369  3.0   \n",
              "665959  Z20170721223303710182536  3.5   \n",
              "665960  Z20161204004443590736237  3.0   \n",
              "665961  Z20170408073937420327568  3.5   \n",
              "\n",
              "                                              commentaire  \n",
              "0       \"Ce n'est pas ce qui se trouve en face de vous...  \n",
              "1       (...) En soi, je n'ai rien contre ce genre de ...  \n",
              "2       Pour sa troisième réalisation après \"Tron, l'h...  \n",
              "3       Joseph Kosinski offre de nouvelles images ébou...  \n",
              "4       J'ai vu un film... qui traite d'un drame humai...  \n",
              "...                                                   ...  \n",
              "665957  super realisation et quelques bon acteurs.  ce...  \n",
              "665958  Film visuellement très beau et mis en musique ...  \n",
              "665959  parti d'une histoire qui parait pour nous bana...  \n",
              "665960  Je suis mitigé sur ce film.d un coté,j ai plut...  \n",
              "665961  un bon film Netflix pour une fois  . le scénar...  \n",
              "\n",
              "[665962 rows x 6 columns]"
            ],
            "text/html": [
              "\n",
              "  <div id=\"df-adfe2886-2b91-4cfe-ad6a-f3b78e99fbf9\" class=\"colab-df-container\">\n",
              "    <div>\n",
              "<style scoped>\n",
              "    .dataframe tbody tr th:only-of-type {\n",
              "        vertical-align: middle;\n",
              "    }\n",
              "\n",
              "    .dataframe tbody tr th {\n",
              "        vertical-align: top;\n",
              "    }\n",
              "\n",
              "    .dataframe thead th {\n",
              "        text-align: right;\n",
              "    }\n",
              "</style>\n",
              "<table border=\"1\" class=\"dataframe\">\n",
              "  <thead>\n",
              "    <tr style=\"text-align: right;\">\n",
              "      <th></th>\n",
              "      <th>movie</th>\n",
              "      <th>review_id</th>\n",
              "      <th>name</th>\n",
              "      <th>user_id</th>\n",
              "      <th>note</th>\n",
              "      <th>commentaire</th>\n",
              "    </tr>\n",
              "  </thead>\n",
              "  <tbody>\n",
              "    <tr>\n",
              "      <th>0</th>\n",
              "      <td>229864</td>\n",
              "      <td>review_58145147</td>\n",
              "      <td>AM11</td>\n",
              "      <td>Z20051105131449940367618</td>\n",
              "      <td>4.0</td>\n",
              "      <td>\"Ce n'est pas ce qui se trouve en face de vous...</td>\n",
              "    </tr>\n",
              "    <tr>\n",
              "      <th>1</th>\n",
              "      <td>229864</td>\n",
              "      <td>review_59303833</td>\n",
              "      <td>this is my movies</td>\n",
              "      <td>Z20051220181957240298347</td>\n",
              "      <td>3.5</td>\n",
              "      <td>(...) En soi, je n'ai rien contre ce genre de ...</td>\n",
              "    </tr>\n",
              "    <tr>\n",
              "      <th>2</th>\n",
              "      <td>229864</td>\n",
              "      <td>review_61916672</td>\n",
              "      <td>Shephard69</td>\n",
              "      <td>Z20121226180301760912584</td>\n",
              "      <td>4.5</td>\n",
              "      <td>Pour sa troisième réalisation après \"Tron, l'h...</td>\n",
              "    </tr>\n",
              "    <tr>\n",
              "      <th>3</th>\n",
              "      <td>229864</td>\n",
              "      <td>review_1000190786</td>\n",
              "      <td>Tayop</td>\n",
              "      <td>Z20121022182542230468657</td>\n",
              "      <td>3.0</td>\n",
              "      <td>Joseph Kosinski offre de nouvelles images ébou...</td>\n",
              "    </tr>\n",
              "    <tr>\n",
              "      <th>4</th>\n",
              "      <td>229864</td>\n",
              "      <td>review_59207755</td>\n",
              "      <td>ned123</td>\n",
              "      <td>Z20061211223247607682175</td>\n",
              "      <td>3.5</td>\n",
              "      <td>J'ai vu un film... qui traite d'un drame humai...</td>\n",
              "    </tr>\n",
              "    <tr>\n",
              "      <th>...</th>\n",
              "      <td>...</td>\n",
              "      <td>...</td>\n",
              "      <td>...</td>\n",
              "      <td>...</td>\n",
              "      <td>...</td>\n",
              "      <td>...</td>\n",
              "    </tr>\n",
              "    <tr>\n",
              "      <th>665957</th>\n",
              "      <td>245551</td>\n",
              "      <td>review_55820729</td>\n",
              "      <td>Wally L</td>\n",
              "      <td>Z20121109004006553333277</td>\n",
              "      <td>4.0</td>\n",
              "      <td>super realisation et quelques bon acteurs.  ce...</td>\n",
              "    </tr>\n",
              "    <tr>\n",
              "      <th>665958</th>\n",
              "      <td>245551</td>\n",
              "      <td>review_1001840194</td>\n",
              "      <td>r@ch</td>\n",
              "      <td>Z20100726110927837577369</td>\n",
              "      <td>3.0</td>\n",
              "      <td>Film visuellement très beau et mis en musique ...</td>\n",
              "    </tr>\n",
              "    <tr>\n",
              "      <th>665959</th>\n",
              "      <td>245551</td>\n",
              "      <td>review_56242470</td>\n",
              "      <td>Kaiser D.</td>\n",
              "      <td>Z20170721223303710182536</td>\n",
              "      <td>3.5</td>\n",
              "      <td>parti d'une histoire qui parait pour nous bana...</td>\n",
              "    </tr>\n",
              "    <tr>\n",
              "      <th>665960</th>\n",
              "      <td>245551</td>\n",
              "      <td>review_58174196</td>\n",
              "      <td>Florent A.</td>\n",
              "      <td>Z20161204004443590736237</td>\n",
              "      <td>3.0</td>\n",
              "      <td>Je suis mitigé sur ce film.d un coté,j ai plut...</td>\n",
              "    </tr>\n",
              "    <tr>\n",
              "      <th>665961</th>\n",
              "      <td>245551</td>\n",
              "      <td>review_1006358741</td>\n",
              "      <td>NSI N.</td>\n",
              "      <td>Z20170408073937420327568</td>\n",
              "      <td>3.5</td>\n",
              "      <td>un bon film Netflix pour une fois  . le scénar...</td>\n",
              "    </tr>\n",
              "  </tbody>\n",
              "</table>\n",
              "<p>665962 rows × 6 columns</p>\n",
              "</div>\n",
              "    <div class=\"colab-df-buttons\">\n",
              "\n",
              "  <div class=\"colab-df-container\">\n",
              "    <button class=\"colab-df-convert\" onclick=\"convertToInteractive('df-adfe2886-2b91-4cfe-ad6a-f3b78e99fbf9')\"\n",
              "            title=\"Convert this dataframe to an interactive table.\"\n",
              "            style=\"display:none;\">\n",
              "\n",
              "  <svg xmlns=\"http://www.w3.org/2000/svg\" height=\"24px\" viewBox=\"0 -960 960 960\">\n",
              "    <path d=\"M120-120v-720h720v720H120Zm60-500h600v-160H180v160Zm220 220h160v-160H400v160Zm0 220h160v-160H400v160ZM180-400h160v-160H180v160Zm440 0h160v-160H620v160ZM180-180h160v-160H180v160Zm440 0h160v-160H620v160Z\"/>\n",
              "  </svg>\n",
              "    </button>\n",
              "\n",
              "  <style>\n",
              "    .colab-df-container {\n",
              "      display:flex;\n",
              "      gap: 12px;\n",
              "    }\n",
              "\n",
              "    .colab-df-convert {\n",
              "      background-color: #E8F0FE;\n",
              "      border: none;\n",
              "      border-radius: 50%;\n",
              "      cursor: pointer;\n",
              "      display: none;\n",
              "      fill: #1967D2;\n",
              "      height: 32px;\n",
              "      padding: 0 0 0 0;\n",
              "      width: 32px;\n",
              "    }\n",
              "\n",
              "    .colab-df-convert:hover {\n",
              "      background-color: #E2EBFA;\n",
              "      box-shadow: 0px 1px 2px rgba(60, 64, 67, 0.3), 0px 1px 3px 1px rgba(60, 64, 67, 0.15);\n",
              "      fill: #174EA6;\n",
              "    }\n",
              "\n",
              "    .colab-df-buttons div {\n",
              "      margin-bottom: 4px;\n",
              "    }\n",
              "\n",
              "    [theme=dark] .colab-df-convert {\n",
              "      background-color: #3B4455;\n",
              "      fill: #D2E3FC;\n",
              "    }\n",
              "\n",
              "    [theme=dark] .colab-df-convert:hover {\n",
              "      background-color: #434B5C;\n",
              "      box-shadow: 0px 1px 3px 1px rgba(0, 0, 0, 0.15);\n",
              "      filter: drop-shadow(0px 1px 2px rgba(0, 0, 0, 0.3));\n",
              "      fill: #FFFFFF;\n",
              "    }\n",
              "  </style>\n",
              "\n",
              "    <script>\n",
              "      const buttonEl =\n",
              "        document.querySelector('#df-adfe2886-2b91-4cfe-ad6a-f3b78e99fbf9 button.colab-df-convert');\n",
              "      buttonEl.style.display =\n",
              "        google.colab.kernel.accessAllowed ? 'block' : 'none';\n",
              "\n",
              "      async function convertToInteractive(key) {\n",
              "        const element = document.querySelector('#df-adfe2886-2b91-4cfe-ad6a-f3b78e99fbf9');\n",
              "        const dataTable =\n",
              "          await google.colab.kernel.invokeFunction('convertToInteractive',\n",
              "                                                    [key], {});\n",
              "        if (!dataTable) return;\n",
              "\n",
              "        const docLinkHtml = 'Like what you see? Visit the ' +\n",
              "          '<a target=\"_blank\" href=https://colab.research.google.com/notebooks/data_table.ipynb>data table notebook</a>'\n",
              "          + ' to learn more about interactive tables.';\n",
              "        element.innerHTML = '';\n",
              "        dataTable['output_type'] = 'display_data';\n",
              "        await google.colab.output.renderOutput(dataTable, element);\n",
              "        const docLink = document.createElement('div');\n",
              "        docLink.innerHTML = docLinkHtml;\n",
              "        element.appendChild(docLink);\n",
              "      }\n",
              "    </script>\n",
              "  </div>\n",
              "\n",
              "\n",
              "<div id=\"df-47260890-36cd-4471-b3ed-91cc00d1bcbd\">\n",
              "  <button class=\"colab-df-quickchart\" onclick=\"quickchart('df-47260890-36cd-4471-b3ed-91cc00d1bcbd')\"\n",
              "            title=\"Suggest charts\"\n",
              "            style=\"display:none;\">\n",
              "\n",
              "<svg xmlns=\"http://www.w3.org/2000/svg\" height=\"24px\"viewBox=\"0 0 24 24\"\n",
              "     width=\"24px\">\n",
              "    <g>\n",
              "        <path d=\"M19 3H5c-1.1 0-2 .9-2 2v14c0 1.1.9 2 2 2h14c1.1 0 2-.9 2-2V5c0-1.1-.9-2-2-2zM9 17H7v-7h2v7zm4 0h-2V7h2v10zm4 0h-2v-4h2v4z\"/>\n",
              "    </g>\n",
              "</svg>\n",
              "  </button>\n",
              "\n",
              "<style>\n",
              "  .colab-df-quickchart {\n",
              "      --bg-color: #E8F0FE;\n",
              "      --fill-color: #1967D2;\n",
              "      --hover-bg-color: #E2EBFA;\n",
              "      --hover-fill-color: #174EA6;\n",
              "      --disabled-fill-color: #AAA;\n",
              "      --disabled-bg-color: #DDD;\n",
              "  }\n",
              "\n",
              "  [theme=dark] .colab-df-quickchart {\n",
              "      --bg-color: #3B4455;\n",
              "      --fill-color: #D2E3FC;\n",
              "      --hover-bg-color: #434B5C;\n",
              "      --hover-fill-color: #FFFFFF;\n",
              "      --disabled-bg-color: #3B4455;\n",
              "      --disabled-fill-color: #666;\n",
              "  }\n",
              "\n",
              "  .colab-df-quickchart {\n",
              "    background-color: var(--bg-color);\n",
              "    border: none;\n",
              "    border-radius: 50%;\n",
              "    cursor: pointer;\n",
              "    display: none;\n",
              "    fill: var(--fill-color);\n",
              "    height: 32px;\n",
              "    padding: 0;\n",
              "    width: 32px;\n",
              "  }\n",
              "\n",
              "  .colab-df-quickchart:hover {\n",
              "    background-color: var(--hover-bg-color);\n",
              "    box-shadow: 0 1px 2px rgba(60, 64, 67, 0.3), 0 1px 3px 1px rgba(60, 64, 67, 0.15);\n",
              "    fill: var(--button-hover-fill-color);\n",
              "  }\n",
              "\n",
              "  .colab-df-quickchart-complete:disabled,\n",
              "  .colab-df-quickchart-complete:disabled:hover {\n",
              "    background-color: var(--disabled-bg-color);\n",
              "    fill: var(--disabled-fill-color);\n",
              "    box-shadow: none;\n",
              "  }\n",
              "\n",
              "  .colab-df-spinner {\n",
              "    border: 2px solid var(--fill-color);\n",
              "    border-color: transparent;\n",
              "    border-bottom-color: var(--fill-color);\n",
              "    animation:\n",
              "      spin 1s steps(1) infinite;\n",
              "  }\n",
              "\n",
              "  @keyframes spin {\n",
              "    0% {\n",
              "      border-color: transparent;\n",
              "      border-bottom-color: var(--fill-color);\n",
              "      border-left-color: var(--fill-color);\n",
              "    }\n",
              "    20% {\n",
              "      border-color: transparent;\n",
              "      border-left-color: var(--fill-color);\n",
              "      border-top-color: var(--fill-color);\n",
              "    }\n",
              "    30% {\n",
              "      border-color: transparent;\n",
              "      border-left-color: var(--fill-color);\n",
              "      border-top-color: var(--fill-color);\n",
              "      border-right-color: var(--fill-color);\n",
              "    }\n",
              "    40% {\n",
              "      border-color: transparent;\n",
              "      border-right-color: var(--fill-color);\n",
              "      border-top-color: var(--fill-color);\n",
              "    }\n",
              "    60% {\n",
              "      border-color: transparent;\n",
              "      border-right-color: var(--fill-color);\n",
              "    }\n",
              "    80% {\n",
              "      border-color: transparent;\n",
              "      border-right-color: var(--fill-color);\n",
              "      border-bottom-color: var(--fill-color);\n",
              "    }\n",
              "    90% {\n",
              "      border-color: transparent;\n",
              "      border-bottom-color: var(--fill-color);\n",
              "    }\n",
              "  }\n",
              "</style>\n",
              "\n",
              "  <script>\n",
              "    async function quickchart(key) {\n",
              "      const quickchartButtonEl =\n",
              "        document.querySelector('#' + key + ' button');\n",
              "      quickchartButtonEl.disabled = true;  // To prevent multiple clicks.\n",
              "      quickchartButtonEl.classList.add('colab-df-spinner');\n",
              "      try {\n",
              "        const charts = await google.colab.kernel.invokeFunction(\n",
              "            'suggestCharts', [key], {});\n",
              "      } catch (error) {\n",
              "        console.error('Error during call to suggestCharts:', error);\n",
              "      }\n",
              "      quickchartButtonEl.classList.remove('colab-df-spinner');\n",
              "      quickchartButtonEl.classList.add('colab-df-quickchart-complete');\n",
              "    }\n",
              "    (() => {\n",
              "      let quickchartButtonEl =\n",
              "        document.querySelector('#df-47260890-36cd-4471-b3ed-91cc00d1bcbd button');\n",
              "      quickchartButtonEl.style.display =\n",
              "        google.colab.kernel.accessAllowed ? 'block' : 'none';\n",
              "    })();\n",
              "  </script>\n",
              "</div>\n",
              "    </div>\n",
              "  </div>\n"
            ]
          },
          "metadata": {},
          "execution_count": 9
        }
      ],
      "source": [
        "data_train"
      ]
    },
    {
      "cell_type": "code",
      "execution_count": null,
      "metadata": {
        "colab": {
          "base_uri": "https://localhost:8080/"
        },
        "id": "WviEdZz0FUPB",
        "outputId": "0f548149-6149-4d02-954a-416b9eb2a559"
      },
      "outputs": [
        {
          "output_type": "stream",
          "name": "stdout",
          "text": [
            "2024-01-08 10:25:06.995482: E external/local_xla/xla/stream_executor/cuda/cuda_dnn.cc:9261] Unable to register cuDNN factory: Attempting to register factory for plugin cuDNN when one has already been registered\n",
            "2024-01-08 10:25:06.995544: E external/local_xla/xla/stream_executor/cuda/cuda_fft.cc:607] Unable to register cuFFT factory: Attempting to register factory for plugin cuFFT when one has already been registered\n",
            "2024-01-08 10:25:06.997103: E external/local_xla/xla/stream_executor/cuda/cuda_blas.cc:1515] Unable to register cuBLAS factory: Attempting to register factory for plugin cuBLAS when one has already been registered\n",
            "2024-01-08 10:25:07.006781: I tensorflow/core/platform/cpu_feature_guard.cc:182] This TensorFlow binary is optimized to use available CPU instructions in performance-critical operations.\n",
            "To enable the following instructions: AVX2 FMA, in other operations, rebuild TensorFlow with the appropriate compiler flags.\n",
            "2024-01-08 10:25:08.274704: W tensorflow/compiler/tf2tensorrt/utils/py_utils.cc:38] TF-TRT Warning: Could not find TensorRT\n",
            "Collecting fr-core-news-sm==3.6.0\n",
            "  Downloading https://github.com/explosion/spacy-models/releases/download/fr_core_news_sm-3.6.0/fr_core_news_sm-3.6.0-py3-none-any.whl (16.3 MB)\n",
            "\u001b[2K     \u001b[90m━━━━━━━━━━━━━━━━━━━━━━━━━━━━━━━━━━━━━━━━\u001b[0m \u001b[32m16.3/16.3 MB\u001b[0m \u001b[31m45.8 MB/s\u001b[0m eta \u001b[36m0:00:00\u001b[0m\n",
            "\u001b[?25hRequirement already satisfied: spacy<3.7.0,>=3.6.0 in /usr/local/lib/python3.10/dist-packages (from fr-core-news-sm==3.6.0) (3.6.1)\n",
            "Requirement already satisfied: spacy-legacy<3.1.0,>=3.0.11 in /usr/local/lib/python3.10/dist-packages (from spacy<3.7.0,>=3.6.0->fr-core-news-sm==3.6.0) (3.0.12)\n",
            "Requirement already satisfied: spacy-loggers<2.0.0,>=1.0.0 in /usr/local/lib/python3.10/dist-packages (from spacy<3.7.0,>=3.6.0->fr-core-news-sm==3.6.0) (1.0.5)\n",
            "Requirement already satisfied: murmurhash<1.1.0,>=0.28.0 in /usr/local/lib/python3.10/dist-packages (from spacy<3.7.0,>=3.6.0->fr-core-news-sm==3.6.0) (1.0.10)\n",
            "Requirement already satisfied: cymem<2.1.0,>=2.0.2 in /usr/local/lib/python3.10/dist-packages (from spacy<3.7.0,>=3.6.0->fr-core-news-sm==3.6.0) (2.0.8)\n",
            "Requirement already satisfied: preshed<3.1.0,>=3.0.2 in /usr/local/lib/python3.10/dist-packages (from spacy<3.7.0,>=3.6.0->fr-core-news-sm==3.6.0) (3.0.9)\n",
            "Requirement already satisfied: thinc<8.2.0,>=8.1.8 in /usr/local/lib/python3.10/dist-packages (from spacy<3.7.0,>=3.6.0->fr-core-news-sm==3.6.0) (8.1.12)\n",
            "Requirement already satisfied: wasabi<1.2.0,>=0.9.1 in /usr/local/lib/python3.10/dist-packages (from spacy<3.7.0,>=3.6.0->fr-core-news-sm==3.6.0) (1.1.2)\n",
            "Requirement already satisfied: srsly<3.0.0,>=2.4.3 in /usr/local/lib/python3.10/dist-packages (from spacy<3.7.0,>=3.6.0->fr-core-news-sm==3.6.0) (2.4.8)\n",
            "Requirement already satisfied: catalogue<2.1.0,>=2.0.6 in /usr/local/lib/python3.10/dist-packages (from spacy<3.7.0,>=3.6.0->fr-core-news-sm==3.6.0) (2.0.10)\n",
            "Requirement already satisfied: typer<0.10.0,>=0.3.0 in /usr/local/lib/python3.10/dist-packages (from spacy<3.7.0,>=3.6.0->fr-core-news-sm==3.6.0) (0.9.0)\n",
            "Requirement already satisfied: pathy>=0.10.0 in /usr/local/lib/python3.10/dist-packages (from spacy<3.7.0,>=3.6.0->fr-core-news-sm==3.6.0) (0.10.3)\n",
            "Requirement already satisfied: smart-open<7.0.0,>=5.2.1 in /usr/local/lib/python3.10/dist-packages (from spacy<3.7.0,>=3.6.0->fr-core-news-sm==3.6.0) (6.4.0)\n",
            "Requirement already satisfied: tqdm<5.0.0,>=4.38.0 in /usr/local/lib/python3.10/dist-packages (from spacy<3.7.0,>=3.6.0->fr-core-news-sm==3.6.0) (4.66.1)\n",
            "Requirement already satisfied: numpy>=1.15.0 in /usr/local/lib/python3.10/dist-packages (from spacy<3.7.0,>=3.6.0->fr-core-news-sm==3.6.0) (1.23.5)\n",
            "Requirement already satisfied: requests<3.0.0,>=2.13.0 in /usr/local/lib/python3.10/dist-packages (from spacy<3.7.0,>=3.6.0->fr-core-news-sm==3.6.0) (2.31.0)\n",
            "Requirement already satisfied: pydantic!=1.8,!=1.8.1,<3.0.0,>=1.7.4 in /usr/local/lib/python3.10/dist-packages (from spacy<3.7.0,>=3.6.0->fr-core-news-sm==3.6.0) (1.10.13)\n",
            "Requirement already satisfied: jinja2 in /usr/local/lib/python3.10/dist-packages (from spacy<3.7.0,>=3.6.0->fr-core-news-sm==3.6.0) (3.1.2)\n",
            "Requirement already satisfied: setuptools in /usr/local/lib/python3.10/dist-packages (from spacy<3.7.0,>=3.6.0->fr-core-news-sm==3.6.0) (67.7.2)\n",
            "Requirement already satisfied: packaging>=20.0 in /usr/local/lib/python3.10/dist-packages (from spacy<3.7.0,>=3.6.0->fr-core-news-sm==3.6.0) (23.2)\n",
            "Requirement already satisfied: langcodes<4.0.0,>=3.2.0 in /usr/local/lib/python3.10/dist-packages (from spacy<3.7.0,>=3.6.0->fr-core-news-sm==3.6.0) (3.3.0)\n",
            "Requirement already satisfied: typing-extensions>=4.2.0 in /usr/local/lib/python3.10/dist-packages (from pydantic!=1.8,!=1.8.1,<3.0.0,>=1.7.4->spacy<3.7.0,>=3.6.0->fr-core-news-sm==3.6.0) (4.5.0)\n",
            "Requirement already satisfied: charset-normalizer<4,>=2 in /usr/local/lib/python3.10/dist-packages (from requests<3.0.0,>=2.13.0->spacy<3.7.0,>=3.6.0->fr-core-news-sm==3.6.0) (3.3.2)\n",
            "Requirement already satisfied: idna<4,>=2.5 in /usr/local/lib/python3.10/dist-packages (from requests<3.0.0,>=2.13.0->spacy<3.7.0,>=3.6.0->fr-core-news-sm==3.6.0) (3.6)\n",
            "Requirement already satisfied: urllib3<3,>=1.21.1 in /usr/local/lib/python3.10/dist-packages (from requests<3.0.0,>=2.13.0->spacy<3.7.0,>=3.6.0->fr-core-news-sm==3.6.0) (2.0.7)\n",
            "Requirement already satisfied: certifi>=2017.4.17 in /usr/local/lib/python3.10/dist-packages (from requests<3.0.0,>=2.13.0->spacy<3.7.0,>=3.6.0->fr-core-news-sm==3.6.0) (2023.11.17)\n",
            "Requirement already satisfied: blis<0.8.0,>=0.7.8 in /usr/local/lib/python3.10/dist-packages (from thinc<8.2.0,>=8.1.8->spacy<3.7.0,>=3.6.0->fr-core-news-sm==3.6.0) (0.7.11)\n",
            "Requirement already satisfied: confection<1.0.0,>=0.0.1 in /usr/local/lib/python3.10/dist-packages (from thinc<8.2.0,>=8.1.8->spacy<3.7.0,>=3.6.0->fr-core-news-sm==3.6.0) (0.1.4)\n",
            "Requirement already satisfied: click<9.0.0,>=7.1.1 in /usr/local/lib/python3.10/dist-packages (from typer<0.10.0,>=0.3.0->spacy<3.7.0,>=3.6.0->fr-core-news-sm==3.6.0) (8.1.7)\n",
            "Requirement already satisfied: MarkupSafe>=2.0 in /usr/local/lib/python3.10/dist-packages (from jinja2->spacy<3.7.0,>=3.6.0->fr-core-news-sm==3.6.0) (2.1.3)\n",
            "Installing collected packages: fr-core-news-sm\n",
            "Successfully installed fr-core-news-sm-3.6.0\n",
            "\u001b[38;5;2m✔ Download and installation successful\u001b[0m\n",
            "You can now load the package via spacy.load('fr_core_news_sm')\n"
          ]
        }
      ],
      "source": [
        "!python -m spacy download fr_core_news_sm\n"
      ]
    },
    {
      "cell_type": "code",
      "execution_count": null,
      "metadata": {
        "id": "8auWKFC1Fs8L"
      },
      "outputs": [],
      "source": [
        "# Charger le modèle français de spaCy\n",
        "nlp = spacy.load('fr_core_news_sm')"
      ]
    },
    {
      "cell_type": "code",
      "execution_count": null,
      "metadata": {
        "id": "gRsMTv3gjtXc"
      },
      "outputs": [],
      "source": [
        "from spacy.lang.fr.stop_words import STOP_WORDS"
      ]
    },
    {
      "cell_type": "code",
      "execution_count": null,
      "metadata": {
        "id": "5zjB-m3iQw-P"
      },
      "outputs": [],
      "source": [
        "ponc_words = [\" \",\".\", \",\", \";\", \"'\",\":\", \"(\", \")\", \"[\", \"]\", \"\\\"\",\"..\", \"...\", \"....\", \".....\",\n",
        "                \"\\xa0\", \"  \", \"   \", \"    \", \"     \", \"      \", \"       \", \"        \", \"…\", \"…\",\n",
        "                 \"*\", \"–\", \"/\"\n",
        "                ]"
      ]
    },
    {
      "cell_type": "code",
      "execution_count": null,
      "metadata": {
        "id": "a6bY1DpzS9Fm"
      },
      "outputs": [],
      "source": [
        "#récupération des commentaire\n",
        "message_test = np.array(data_test['commentaire'])\n",
        "message_dev = np.array(data_dev['commentaire'])\n",
        "message_train = np.array(data_train['commentaire'])"
      ]
    },
    {
      "cell_type": "code",
      "execution_count": null,
      "metadata": {
        "colab": {
          "base_uri": "https://localhost:8080/"
        },
        "id": "f5oYVw9wVGJj",
        "outputId": "4432d26d-99b1-434d-e347-259876f74ba7"
      },
      "outputs": [
        {
          "output_type": "stream",
          "name": "stdout",
          "text": [
            "Requirement already satisfied: emoji in /usr/local/lib/python3.10/dist-packages (2.9.0)\n"
          ]
        }
      ],
      "source": [
        "pip install --upgrade emoji\n"
      ]
    },
    {
      "cell_type": "code",
      "source": [
        "def remplacer_emoticones_par_leur_sens(texte):\n",
        "    emoticones = {\n",
        "        \":)\": \"content\",\n",
        "        \":D\": \"très content\",\n",
        "        \":(\": \"triste\",\n",
        "        \":'(\": \"pleurer\",\n",
        "        \":'-)\": \"pleurer de joie\",\n",
        "        \":P\": \"tirer la langue\",\n",
        "        \";)\": \"clin d'oeil\",\n",
        "        \";P\": \"clin d'oeil avec langue\",\n",
        "        \":O\": \"surpris\",\n",
        "        \":/\": \"perplexe\",\n",
        "        \">:(\": \"fâché\",\n",
        "        \">:)\": \"diabolique\",\n",
        "        \"<3\": \"amour\",\n",
        "        \"</3\": \"cœur brisé\",\n",
        "        \"XD\": \"rire aux éclats\",\n",
        "        \":*\": \"bisou\",\n",
        "        \":-)\": \"sourire\",\n",
        "        \":-(\": \"fâché\",\n",
        "        \":-D\": \"rire\",\n",
        "        \":-P\": \"faire une grimace\",\n",
        "        \":-|\": \"neutre\",\n",
        "        \":-/\": \"sceptique\",\n",
        "        \";-)\": \"clin d'oeil souriant\",\n",
        "        \":-O\": \"bouche bée\",\n",
        "        \"O:)\": \"ange\",\n",
        "        \">:O\": \"crier\",\n",
        "        \":3\": \"mignon\",\n",
        "        \":-x\": \"bouche scellée\",\n",
        "        \":^)\": \"nez souriant\",\n",
        "        \":-]\": \"sourire carré\",\n",
        "        \":-[\": \"mécontent\",\n",
        "        \":-c\": \"très mécontent\",\n",
        "        \":-&\": \"malade\"\n",
        "    }\n",
        "\n",
        "    # Replace each emoticon with its segnification\n",
        "    for emoticone, sens in emoticones.items():\n",
        "        texte = texte.replace(emoticone, sens)\n",
        "\n",
        "    return texte\n"
      ],
      "metadata": {
        "id": "nFt-0LOSTFZ0"
      },
      "execution_count": null,
      "outputs": []
    },
    {
      "cell_type": "code",
      "execution_count": null,
      "metadata": {
        "id": "dYEEI0qTUbmI"
      },
      "outputs": [],
      "source": [
        "def replace_emojis_with_meaning(text):\n",
        "    # This function will replace each emoji in the text with its meaning.\n",
        "    return emoji.demojize(text, delimiters=(\"\", \"\"))"
      ]
    },
    {
      "cell_type": "code",
      "execution_count": null,
      "metadata": {
        "id": "CA7L7v7GFxcd"
      },
      "outputs": [],
      "source": [
        "def preprocess_text(text):\n",
        "    text = str(text)\n",
        "\n",
        "    # Convert to lowercase\n",
        "    text = text.lower()\n",
        "\n",
        "    # Remove URLs\n",
        "    text = re.sub(r'http\\S+', '', text)\n",
        "\n",
        "    # Replace emojis with their meanings\n",
        "    text = replace_emojis_with_meaning(text)\n",
        "    text = remplacer_emoticones_par_leur_sens(text)\n",
        "    # Remove special characters and numbers\n",
        "    text = re.sub(r'[^a-zA-Z\\s]', '', text)\n",
        "\n",
        "    # Tokenization\n",
        "    tokens = word_tokenize(text, language=\"french\")\n",
        "\n",
        "    # Remove stopwords\n",
        "    tokens = [word for word in tokens if word not in STOP_WORDS]\n",
        "    print(tokens)\n",
        "    # Lemmatization with\n",
        "    doc = nlp(' '.join(tokens))\n",
        "    lemmas = [token.lemma_ for token in doc]\n",
        "\n",
        "    return ' '.join(lemmas)"
      ]
    },
    {
      "cell_type": "code",
      "source": [
        "# Fill NaN values with an empty string\n",
        "data_train['commentaire'].fillna('', inplace=True)"
      ],
      "metadata": {
        "id": "gSBKhPH9MizK"
      },
      "execution_count": null,
      "outputs": []
    },
    {
      "cell_type": "code",
      "source": [
        "data_dev['commentaire'].fillna('', inplace=True)\n",
        "data_test['commentaire'].fillna('', inplace=True)"
      ],
      "metadata": {
        "id": "zeDhOX0LiLZ7"
      },
      "execution_count": null,
      "outputs": []
    },
    {
      "cell_type": "code",
      "source": [
        "# Apply this function to each comment in my dataset\n",
        "data_train['processed_commentaire'] = data_train['commentaire'].apply(preprocess_text)\n",
        "data_train.to_csv('/content/drive/My Drive/processed_data/data_train_t_processed.csv', index=False)\n",
        "data_dev['processed_commentaire'] = data_dev['commentaire'].apply(preprocess_text)\n",
        "data_dev.to_csv('/content/drive/My Drive/processed_data/data_dev_t_processed.csv', index=False)"
      ],
      "metadata": {
        "id": "lGNbkT1Rjesl"
      },
      "execution_count": null,
      "outputs": []
    },
    {
      "cell_type": "code",
      "source": [
        "data_test['processed_commentaire'] = data_test['commentaire'].apply(preprocess_text)\n",
        "data_test.to_csv('/content/drive/My Drive/processed_data/data_test_t_processed.csv', index=False)"
      ],
      "metadata": {
        "id": "Psl8iB1q9SG1",
        "colab": {
          "base_uri": "https://localhost:8080/",
          "height": 214
        },
        "outputId": "c9cabb80-680c-41fd-fa40-506aad3f2c6a"
      },
      "execution_count": 1,
      "outputs": [
        {
          "output_type": "error",
          "ename": "NameError",
          "evalue": "name 'data_test' is not defined",
          "traceback": [
            "\u001b[0;31m---------------------------------------------------------------------------\u001b[0m",
            "\u001b[0;31mNameError\u001b[0m                                 Traceback (most recent call last)",
            "\u001b[0;32m<ipython-input-1-7191b9c13f95>\u001b[0m in \u001b[0;36m<cell line: 2>\u001b[0;34m()\u001b[0m\n\u001b[1;32m      1\u001b[0m \u001b[0;31m# Repeat for other datasets if necessary\u001b[0m\u001b[0;34m\u001b[0m\u001b[0;34m\u001b[0m\u001b[0m\n\u001b[0;32m----> 2\u001b[0;31m \u001b[0mdata_test\u001b[0m\u001b[0;34m[\u001b[0m\u001b[0;34m'processed_commentaire'\u001b[0m\u001b[0;34m]\u001b[0m \u001b[0;34m=\u001b[0m \u001b[0mdata_test\u001b[0m\u001b[0;34m[\u001b[0m\u001b[0;34m'commentaire'\u001b[0m\u001b[0;34m]\u001b[0m\u001b[0;34m.\u001b[0m\u001b[0mapply\u001b[0m\u001b[0;34m(\u001b[0m\u001b[0mpreprocess_text\u001b[0m\u001b[0;34m)\u001b[0m\u001b[0;34m\u001b[0m\u001b[0;34m\u001b[0m\u001b[0m\n\u001b[0m\u001b[1;32m      3\u001b[0m \u001b[0mdata_test\u001b[0m\u001b[0;34m.\u001b[0m\u001b[0mto_csv\u001b[0m\u001b[0;34m(\u001b[0m\u001b[0;34m'/content/drive/My Drive/processed_data/data_test_t_processed.csv'\u001b[0m\u001b[0;34m,\u001b[0m \u001b[0mindex\u001b[0m\u001b[0;34m=\u001b[0m\u001b[0;32mFalse\u001b[0m\u001b[0;34m)\u001b[0m\u001b[0;34m\u001b[0m\u001b[0;34m\u001b[0m\u001b[0m\n",
            "\u001b[0;31mNameError\u001b[0m: name 'data_test' is not defined"
          ]
        }
      ]
    }
  ],
  "metadata": {
    "colab": {
      "provenance": [],
      "machine_shape": "hm"
    },
    "kernelspec": {
      "display_name": "Python 3",
      "name": "python3"
    },
    "language_info": {
      "name": "python"
    }
  },
  "nbformat": 4,
  "nbformat_minor": 0
}