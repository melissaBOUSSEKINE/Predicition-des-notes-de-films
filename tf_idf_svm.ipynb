{
  "nbformat": 4,
  "nbformat_minor": 0,
  "metadata": {
    "colab": {
      "provenance": [],
      "machine_shape": "hm",
      "gpuType": "V100"
    },
    "kernelspec": {
      "name": "python3",
      "display_name": "Python 3"
    },
    "language_info": {
      "name": "python"
    },
    "accelerator": "GPU"
  },
  "cells": [
    {
      "cell_type": "code",
      "execution_count": null,
      "metadata": {
        "id": "SnM2z0g-rPW0"
      },
      "outputs": [],
      "source": [
        "import nltk\n",
        "import numpy as np\n",
        "import operator as op\n",
        "import pandas as pd\n",
        "import xml.etree.ElementTree as ET\n",
        "import matplotlib.pyplot as plt\n",
        "import io\n",
        "from nltk.tokenize import word_tokenize\n",
        "from nltk.stem import WordNetLemmatizer\n",
        "import nltk\n",
        "from nltk.corpus import wordnet\n",
        "from nltk.corpus import stopwords\n",
        "import re\n",
        "from sklearn.feature_extraction.text import TfidfVectorizer"
      ]
    },
    {
      "cell_type": "code",
      "source": [
        "from sklearn.linear_model import SGDClassifier\n",
        "from sklearn.feature_extraction.text import TfidfVectorizer, CountVectorizer\n",
        "from sklearn.metrics import accuracy_score, precision_score, recall_score\n",
        "import pandas as pd\n",
        "from nltk.corpus import stopwords\n",
        "import numpy as np\n",
        "from sklearn.compose import ColumnTransformer\n",
        "from sklearn.preprocessing import OrdinalEncoder\n",
        "from sklearn.pipeline import make_pipeline\n",
        "from sklearn.preprocessing import OneHotEncoder"
      ],
      "metadata": {
        "id": "dEhqhn7ghlQZ"
      },
      "execution_count": null,
      "outputs": []
    },
    {
      "cell_type": "code",
      "source": [
        "nltk.download('punkt')\n",
        "nltk.download('stopwords')\n",
        "nltk.download('wordnet')"
      ],
      "metadata": {
        "colab": {
          "base_uri": "https://localhost:8080/"
        },
        "id": "8sqyQmmnYub1",
        "outputId": "e0e5f36d-4345-4cb1-f9a3-b256820d2e60"
      },
      "execution_count": null,
      "outputs": [
        {
          "output_type": "stream",
          "name": "stderr",
          "text": [
            "[nltk_data] Downloading package punkt to /root/nltk_data...\n",
            "[nltk_data]   Unzipping tokenizers/punkt.zip.\n",
            "[nltk_data] Downloading package stopwords to /root/nltk_data...\n",
            "[nltk_data]   Unzipping corpora/stopwords.zip.\n",
            "[nltk_data] Downloading package wordnet to /root/nltk_data...\n"
          ]
        },
        {
          "output_type": "execute_result",
          "data": {
            "text/plain": [
              "True"
            ]
          },
          "metadata": {},
          "execution_count": 3
        }
      ]
    },
    {
      "cell_type": "code",
      "source": [
        "from google.colab import drive\n",
        "drive.mount('/content/drive')"
      ],
      "metadata": {
        "colab": {
          "base_uri": "https://localhost:8080/"
        },
        "id": "Svo4C9fjCIpZ",
        "outputId": "d79f7f1c-dbaf-4257-ced6-e9572c0b4df9"
      },
      "execution_count": null,
      "outputs": [
        {
          "output_type": "stream",
          "name": "stdout",
          "text": [
            "Mounted at /content/drive\n"
          ]
        }
      ]
    },
    {
      "cell_type": "code",
      "source": [
        "processed_train = '/content/drive/My Drive/processed_data/data_train_t_processed.csv'\n",
        "processed_dev   = '/content/drive/My Drive/processed_data/data_dev_t_processed.csv'\n",
        "processed_test  = '/content/drive/My Drive/processed_data/data_test_t_processed.csv'"
      ],
      "metadata": {
        "id": "BwHREeaJCWV_"
      },
      "execution_count": null,
      "outputs": []
    },
    {
      "cell_type": "code",
      "source": [
        "# Loading the processed data\n",
        "data_train_processed = pd.read_csv(processed_train)\n",
        "data_dev_processed = pd.read_csv(processed_dev)\n",
        "data_test_processed = pd.read_csv(processed_test)\n"
      ],
      "metadata": {
        "id": "GdND2vqvCodD"
      },
      "execution_count": null,
      "outputs": []
    },
    {
      "cell_type": "code",
      "source": [
        "data_train_processed['review_id']"
      ],
      "metadata": {
        "colab": {
          "base_uri": "https://localhost:8080/"
        },
        "id": "TR7inMkpY1V9",
        "outputId": "39002264-410e-49d8-921e-854ca78f3ffa"
      },
      "execution_count": null,
      "outputs": [
        {
          "output_type": "execute_result",
          "data": {
            "text/plain": [
              "0           review_58145147\n",
              "1           review_59303833\n",
              "2           review_61916672\n",
              "3         review_1000190786\n",
              "4           review_59207755\n",
              "                ...        \n",
              "665957      review_55820729\n",
              "665958    review_1001840194\n",
              "665959      review_56242470\n",
              "665960      review_58174196\n",
              "665961    review_1006358741\n",
              "Name: review_id, Length: 665962, dtype: object"
            ]
          },
          "metadata": {},
          "execution_count": 12
        }
      ]
    },
    {
      "cell_type": "code",
      "source": [
        "# Accessing the processed comments\n",
        "processed_comments_train = data_train_processed['processed_commentaire']\n",
        "processed_comments_dev = data_dev_processed['processed_commentaire']\n",
        "processed_comments_test = data_test_processed['processed_commentaire']"
      ],
      "metadata": {
        "id": "5gcoWG2hDEuH"
      },
      "execution_count": null,
      "outputs": []
    },
    {
      "cell_type": "code",
      "source": [
        "# Initialize a TfidfVectorizer\n",
        "tfidf_vectorizer = TfidfVectorizer()"
      ],
      "metadata": {
        "id": "NTeUkvQwDKMt"
      },
      "execution_count": null,
      "outputs": []
    },
    {
      "cell_type": "code",
      "source": [
        "tfidf_vectorizer = TfidfVectorizer(\n",
        "            analyzer = 'word',\n",
        "            ngram_range=(1, 2)\n",
        "        )"
      ],
      "metadata": {
        "id": "n0H4jSG3YjFj"
      },
      "execution_count": null,
      "outputs": []
    },
    {
      "cell_type": "code",
      "source": [
        "# Fill NaN values with an empty string\n",
        "data_train_processed['processed_commentaire'].fillna('', inplace=True)\n",
        "data_dev_processed['processed_commentaire'].fillna('', inplace=True)\n",
        "data_test_processed['processed_commentaire'].fillna('', inplace=True)"
      ],
      "metadata": {
        "id": "yobOZvB_E5bS"
      },
      "execution_count": null,
      "outputs": []
    },
    {
      "cell_type": "code",
      "source": [
        "# Fit and transform the preprocessed text data\n",
        "X_train = tfidf_vectorizer.fit_transform(data_train_processed['processed_commentaire'])\n",
        "X_dev = tfidf_vectorizer.transform(data_dev_processed['processed_commentaire'])\n",
        "X_test = tfidf_vectorizer.transform(data_test_processed['processed_commentaire'])"
      ],
      "metadata": {
        "id": "ndVoMcIXDY22"
      },
      "execution_count": null,
      "outputs": []
    },
    {
      "cell_type": "code",
      "source": [
        "data_train_processed['note'].values"
      ],
      "metadata": {
        "colab": {
          "base_uri": "https://localhost:8080/"
        },
        "id": "7f9BEKD5Vlb7",
        "outputId": "7a2c9fb9-289b-4b26-af20-9ac0e6cdb11b"
      },
      "execution_count": null,
      "outputs": [
        {
          "output_type": "execute_result",
          "data": {
            "text/plain": [
              "array([4. , 3.5, 4.5, ..., 3.5, 3. , 3.5])"
            ]
          },
          "metadata": {},
          "execution_count": 13
        }
      ]
    },
    {
      "cell_type": "code",
      "source": [
        "import pickle\n",
        "\n",
        "# Load the TF-IDF transformed training data\n",
        "with open('/content/drive/My Drive/tef_idf/tfidf_train_t.pkl', 'rb') as f:\n",
        "    X_train = pickle.load(f)\n",
        "\n",
        "# Load the TF-IDF transformed development data\n",
        "with open('/content/drive/My Drive/tef_idf/tfidf_dev_t.pkl', 'rb') as f:\n",
        "    X_dev = pickle.load(f)\n",
        "\n",
        "# Load the TF-IDF transformed test data\n",
        "with open('/content/drive/My Drive/tef_idf/tfidf_test_t.pkl', 'rb') as f:\n",
        "    X_test = pickle.load(f)\n",
        "\n"
      ],
      "metadata": {
        "id": "e9eQsQwuFkkM"
      },
      "execution_count": null,
      "outputs": []
    },
    {
      "cell_type": "code",
      "source": [
        "import pickle\n",
        "\n",
        "with open('/content/drive/My Drive/tef_idf/tfidf_train_t.pkl', 'wb') as f:\n",
        "    pickle.dump(X_train, f)\n",
        "\n",
        "# For the development dataset\n",
        "with open('/content/drive/My Drive/tef_idf/tfidf_dev_t.pkl', 'wb') as f:\n",
        "    pickle.dump(X_dev, f)\n",
        "\n",
        "# For the test dataset\n",
        "with open('/content/drive/My Drive/tef_idf/tfidf_test_t.pkl', 'wb') as f:\n",
        "    pickle.dump(X_test, f)\n"
      ],
      "metadata": {
        "id": "U2Bhs0SGHMVP"
      },
      "execution_count": null,
      "outputs": []
    },
    {
      "cell_type": "code",
      "source": [
        "def sparse_matrix_to_dict(sparse_mat):\n",
        "    doc_dict = {}\n",
        "    print(\"sparse_matrix_to_dict\")\n",
        "    cx = sparse_mat.tocoo()\n",
        "    for i, j, v in zip(cx.row, cx.col, cx.data):\n",
        "        if i not in doc_dict:\n",
        "            doc_dict[i] = {}\n",
        "        doc_dict[i][j] = v\n",
        "    return doc_dict"
      ],
      "metadata": {
        "id": "47_0RAFNGDf8"
      },
      "execution_count": null,
      "outputs": []
    },
    {
      "cell_type": "code",
      "source": [
        "def convertir_svm_from_dict(data_dict, etiquettes):\n",
        "    svm = \"\"\n",
        "    print(\"convertir_svm\")\n",
        "    for i, features in data_dict.items():\n",
        "        # Convert label to integer by multiplying by 2\n",
        "        label = int(float(etiquettes[i]) * 2)\n",
        "        svm += str(label) + \" \"\n",
        "\n",
        "        # Trier les clés (indices de caractéristiques) dans l'ordre croissant\n",
        "        sorted_features = sorted(features.items())\n",
        "\n",
        "        for j, value in sorted_features:\n",
        "            svm += f\"{j + 1}:{value} \"\n",
        "        svm += \"\\n\"\n",
        "    return svm"
      ],
      "metadata": {
        "id": "pSw9a5XUGEhW"
      },
      "execution_count": null,
      "outputs": []
    },
    {
      "cell_type": "code",
      "source": [
        "def convertir_svm_from_t_dict(data_dict, etiquettes):\n",
        "    svm = \"\"\n",
        "    for i, features in data_dict.items():\n",
        "        # Handle missing labels by using a default label\n",
        "        label = int(float(etiquettes[i]) * 2) if i < len(etiquettes) else 0\n",
        "        svm += str(label) + \" \"\n",
        "        for j, value in sorted(features.items()):\n",
        "            svm += f\"{j + 1}:{value} \"\n",
        "        svm += \"\\n\"\n",
        "    return svm\n"
      ],
      "metadata": {
        "id": "BFggxfspGn6M"
      },
      "execution_count": null,
      "outputs": []
    },
    {
      "cell_type": "code",
      "source": [
        "def file(nom,contenu):\n",
        "\n",
        "    # Ouvrez le fichier en mode écriture\n",
        "    with io.open(nom, \"w\", encoding=\"utf-8\") as f:\n",
        "        # Écrivez vos lignes de string dans le fichier\n",
        "        f.writelines(contenu)\n"
      ],
      "metadata": {
        "id": "qZ353ld7GJK8"
      },
      "execution_count": null,
      "outputs": []
    },
    {
      "cell_type": "code",
      "source": [
        "X_train_dict = sparse_matrix_to_dict(X_train)\n",
        "\n",
        "X_test_dict = sparse_matrix_to_dict(X_test)\n"
      ],
      "metadata": {
        "colab": {
          "base_uri": "https://localhost:8080/"
        },
        "id": "QKT1zbUOGKWv",
        "outputId": "5b4c304e-97d7-480a-a125-db3539d1fca8"
      },
      "execution_count": null,
      "outputs": [
        {
          "output_type": "stream",
          "name": "stdout",
          "text": [
            "sparse_matrix_to_dict\n",
            "sparse_matrix_to_dict\n"
          ]
        }
      ]
    },
    {
      "cell_type": "code",
      "source": [
        "X_dev_dict = sparse_matrix_to_dict(X_dev)\n"
      ],
      "metadata": {
        "colab": {
          "base_uri": "https://localhost:8080/"
        },
        "id": "9mNE1NyihLeL",
        "outputId": "ac06c056-542d-42bb-d551-49b83712cda0"
      },
      "execution_count": null,
      "outputs": [
        {
          "output_type": "stream",
          "name": "stdout",
          "text": [
            "sparse_matrix_to_dict\n"
          ]
        }
      ]
    },
    {
      "cell_type": "code",
      "source": [
        "libsvm_format_data = convertir_svm_from_dict(X_train_dict, data_train_processed['note'])\n",
        "file(\"/content/drive/My Drive/processed_data/train_t.svm\", libsvm_format_data)"
      ],
      "metadata": {
        "id": "SpVkXRMDJaz4",
        "colab": {
          "base_uri": "https://localhost:8080/"
        },
        "outputId": "433b5cda-fb99-4655-a220-51a49c94708a"
      },
      "execution_count": null,
      "outputs": [
        {
          "output_type": "stream",
          "name": "stdout",
          "text": [
            "convertir_svm\n"
          ]
        }
      ]
    },
    {
      "cell_type": "code",
      "source": [
        "libsvm_format_data = convertir_svm_from_dict(X_dev_dict, data_dev_processed['note'])\n",
        "file(\"/content/drive/My Drive/processed_data/dev_t.svm\", libsvm_format_data)"
      ],
      "metadata": {
        "colab": {
          "base_uri": "https://localhost:8080/"
        },
        "id": "Kt8pLR97hFeM",
        "outputId": "b39aab1a-9075-409a-e41f-1e0644adda71"
      },
      "execution_count": null,
      "outputs": [
        {
          "output_type": "stream",
          "name": "stdout",
          "text": [
            "convertir_svm\n"
          ]
        }
      ]
    },
    {
      "cell_type": "code",
      "source": [
        "# Assign a placeholder label (e.g., 0) for the test data\n",
        "test_labels = [0] * len(X_test_dict)\n",
        "\n",
        "# Convert the test data to SVM format\n",
        "libsvm_format_data_test = convertir_svm_from_t_dict(X_test_dict, test_labels)\n",
        "\n",
        "# Save the test data SVM file\n",
        "file(\"/content/drive/My Drive/processed_data/test_t.svm\", libsvm_format_data_test)\n"
      ],
      "metadata": {
        "id": "fRaxwiwTDRqO"
      },
      "execution_count": null,
      "outputs": []
    },
    {
      "cell_type": "code",
      "source": [
        "#Fonction pour convertir un nombre flottant en chaîne avec une virgule pour le décimal\n",
        "def float_to_comma_string(x):\n",
        "    if isinstance(x, float):\n",
        "        return '{:.1f}'.format(x).replace('.', ',')\n",
        "    return x\n",
        "\n",
        "#Fonction pour lire les prédictions à partir de out.txt\n",
        "def read_labels_file(filepath):\n",
        "    with open(filepath, 'r') as file:\n",
        "        labels = [line.strip() for line in file]\n",
        "    return pd.DataFrame(labels, columns=['prediction'])\n",
        "\n",
        "#Lecture des prédictions\n",
        "predictions_df = read_labels_file('/content/drive/My Drive/processed_data/res.txt')\n",
        "\n",
        "#Convertir les prédictions en nombres, les diviser par 2, et les formater avec une virgule\n",
        "predictions_df['prediction'] = pd.to_numeric(predictions_df['prediction'], errors='coerce') / 2\n",
        "predictions_df = predictions_df.applymap(float_to_comma_string)\n",
        "\n",
        "\n",
        "#Fusionner les prédictions avec review_id\n",
        "df_test = pd.concat([data_test_processed.review_id, predictions_df], axis=1)\n",
        "\n",
        "#Enregistrer dans un nouveau fichier texte séparé par un espace\n",
        "df_test.to_csv('/content/drive/My Drive/processed_data/output_fn.txt', sep=' ', index=False, header=False)"
      ],
      "metadata": {
        "id": "1g8StFynOGaa"
      },
      "execution_count": null,
      "outputs": []
    },
    {
      "cell_type": "code",
      "source": [
        "# Check that the predictions DataFrame has the correct number of rows\n",
        "print(predictions_df.shape)\n",
        "\n",
        "# Check for NaN values which might cause issues when casting to numeric\n",
        "print(predictions_df.isnull().sum())\n",
        "\n",
        "# Check the first few rows of the DataFrame\n",
        "print(predictions_df.head())\n",
        "\n",
        "# Check the first few rows of the DataFrame with review IDs\n",
        "print(df_test.head())\n",
        "\n",
        "# Check the correspondence of the number of predictions to the number of test samples\n",
        "print(f\"Number of test samples: {data_test_processed.shape[0]}\")\n",
        "print(f\"Number of predictions: {predictions_df.shape[0]}\")\n"
      ],
      "metadata": {
        "id": "jiAVV_AfeWHH",
        "outputId": "37c62194-aaf6-4826-b640-363f40c8b82b",
        "colab": {
          "base_uri": "https://localhost:8080/"
        }
      },
      "execution_count": null,
      "outputs": [
        {
          "output_type": "stream",
          "name": "stdout",
          "text": [
            "(85832, 1)\n",
            "prediction    0\n",
            "dtype: int64\n",
            "  prediction\n",
            "0        4,0\n",
            "1        4,5\n",
            "2        3,5\n",
            "3        5,0\n",
            "4        5,0\n",
            "         review_id prediction\n",
            "0  review_59354742        4,0\n",
            "1  review_62570109        4,5\n",
            "2  review_58180650        3,5\n",
            "3  review_57696986        5,0\n",
            "4  review_57736972        5,0\n",
            "Number of test samples: 85847\n",
            "Number of predictions: 85832\n"
          ]
        }
      ]
    },
    {
      "cell_type": "code",
      "source": [
        "pip install vaderSentiment-fr\n"
      ],
      "metadata": {
        "colab": {
          "base_uri": "https://localhost:8080/"
        },
        "id": "eR1o4ayD_xA2",
        "outputId": "69093d8d-e721-49c0-f31b-5da6150ec49a"
      },
      "execution_count": null,
      "outputs": [
        {
          "output_type": "stream",
          "name": "stdout",
          "text": [
            "Collecting vaderSentiment-fr\n",
            "  Downloading vaderSentiment_fr-1.3.4.tar.gz (187 kB)\n",
            "\u001b[2K     \u001b[90m━━━━━━━━━━━━━━━━━━━━━━━━━━━━━━━━━━━━━━━━\u001b[0m \u001b[32m187.1/187.1 kB\u001b[0m \u001b[31m1.4 MB/s\u001b[0m eta \u001b[36m0:00:00\u001b[0m\n",
            "\u001b[?25h  Preparing metadata (setup.py) ... \u001b[?25l\u001b[?25hdone\n",
            "Collecting unidecode (from vaderSentiment-fr)\n",
            "  Downloading Unidecode-1.3.7-py3-none-any.whl (235 kB)\n",
            "\u001b[2K     \u001b[90m━━━━━━━━━━━━━━━━━━━━━━━━━━━━━━━━━━━━━━━━\u001b[0m \u001b[32m235.5/235.5 kB\u001b[0m \u001b[31m8.1 MB/s\u001b[0m eta \u001b[36m0:00:00\u001b[0m\n",
            "\u001b[?25hCollecting fuzzywuzzy (from vaderSentiment-fr)\n",
            "  Downloading fuzzywuzzy-0.18.0-py2.py3-none-any.whl (18 kB)\n",
            "Building wheels for collected packages: vaderSentiment-fr\n",
            "  Building wheel for vaderSentiment-fr (setup.py) ... \u001b[?25l\u001b[?25hdone\n",
            "  Created wheel for vaderSentiment-fr: filename=vaderSentiment_fr-1.3.4-py3-none-any.whl size=185960 sha256=16b1703d2e1b2e029a9f91e454acc971532adeb0cdac9cc444e686e1ea72fbf2\n",
            "  Stored in directory: /root/.cache/pip/wheels/a3/a0/97/307bbd5f16d2e240c69421a79a42a18797067af832ee955b09\n",
            "Successfully built vaderSentiment-fr\n",
            "Installing collected packages: fuzzywuzzy, unidecode, vaderSentiment-fr\n",
            "Successfully installed fuzzywuzzy-0.18.0 unidecode-1.3.7 vaderSentiment-fr-1.3.4\n"
          ]
        }
      ]
    },
    {
      "cell_type": "code",
      "source": [
        "from vaderSentiment_fr.vaderSentiment import SentimentIntensityAnalyzer\n",
        "\n",
        "SIA = SentimentIntensityAnalyzer()\n",
        "\n",
        "phrase = data_train_processed['processed_commentaire'].iloc[0]\n",
        "\n",
        "score = SIA.polarity_scores(phrase)"
      ],
      "metadata": {
        "id": "f76llO3t_ue9"
      },
      "execution_count": null,
      "outputs": []
    },
    {
      "cell_type": "code",
      "source": [
        "score"
      ],
      "metadata": {
        "colab": {
          "base_uri": "https://localhost:8080/"
        },
        "id": "hQ8jSEl0AATj",
        "outputId": "6a5233c8-4be2-490e-a769-96f0ebdf714e"
      },
      "execution_count": null,
      "outputs": [
        {
          "output_type": "execute_result",
          "data": {
            "text/plain": [
              "{'neg': 0.042, 'neu': 0.771, 'pos': 0.187, 'compound': 0.9397}"
            ]
          },
          "metadata": {},
          "execution_count": 23
        }
      ]
    },
    {
      "cell_type": "code",
      "source": [
        "def extract_sentiment_lexicon(file_path):\n",
        "    sentiment_lexicon = {}\n",
        "    with open(file_path, 'r', encoding='utf-8') as file:\n",
        "        for line in file:\n",
        "            parts = line.split(';')\n",
        "            if len(parts) >= 4:\n",
        "                word = parts[1]\n",
        "                sentiment = parts[3]\n",
        "                if sentiment == 'positive':\n",
        "                    sentiment_lexicon[word] = 1\n",
        "                elif sentiment == 'negative':\n",
        "                    sentiment_lexicon[word] = -1\n",
        "                else:\n",
        "                    sentiment_lexicon[word] = 0\n",
        "    return sentiment_lexicon\n",
        "\n",
        "# Load your sentiment lexicon\n",
        "sentiment_lexicon = extract_sentiment_lexicon('/content/drive/My Drive/processed_data/Polarimots.csv')\n"
      ],
      "metadata": {
        "id": "7JMS8-p5gE-U"
      },
      "execution_count": null,
      "outputs": []
    },
    {
      "cell_type": "code",
      "source": [
        "def calculate_sentiment_score(comment, sentiment_lexicon):\n",
        "    words = comment.split()\n",
        "    score = sum(sentiment_lexicon.get(word, 0) for word in words)\n",
        "    return score\n",
        "\n",
        "# Convert all entries to strings\n",
        "data_train_processed['processed_commentaire'] = data_train_processed['processed_commentaire'].astype(str)\n",
        "\n",
        "# Calculate sentiment scores\n",
        "data_train_processed['sentiment_score'] = data_train_processed['processed_commentaire'].apply(lambda x: calculate_sentiment_score(x, sentiment_lexicon))\n",
        "\n",
        "\n",
        "# Now, 'sentiment_score' can be used as a feature in your model\n"
      ],
      "metadata": {
        "id": "2QLfPLoUeow3"
      },
      "execution_count": null,
      "outputs": []
    },
    {
      "cell_type": "code",
      "source": [
        "data_train_processed['sentiment_score']"
      ],
      "metadata": {
        "colab": {
          "base_uri": "https://localhost:8080/"
        },
        "id": "kWFCCmurhAkW",
        "outputId": "189831a1-9819-4735-b6fb-c338018c4164"
      },
      "execution_count": null,
      "outputs": [
        {
          "output_type": "execute_result",
          "data": {
            "text/plain": [
              "0          5\n",
              "1         18\n",
              "2          6\n",
              "3          2\n",
              "4          2\n",
              "          ..\n",
              "665957     2\n",
              "665958     2\n",
              "665959     1\n",
              "665960     1\n",
              "665961     4\n",
              "Name: sentiment_score, Length: 665962, dtype: int64"
            ]
          },
          "metadata": {},
          "execution_count": 29
        }
      ]
    },
    {
      "cell_type": "code",
      "source": [
        "# Convert all entries to strings\n",
        "data_test_processed['processed_commentaire'] = data_test_processed['processed_commentaire'].astype(str)\n",
        "\n",
        "# Calculate sentiment scores\n",
        "data_test_processed['sentiment_score'] = data_test_processed['processed_commentaire'].apply(lambda x: calculate_sentiment_score(x, sentiment_lexicon))"
      ],
      "metadata": {
        "id": "bacecVpjhFol"
      },
      "execution_count": null,
      "outputs": []
    },
    {
      "cell_type": "code",
      "source": [
        "data_test_processed['sentiment_score']"
      ],
      "metadata": {
        "colab": {
          "base_uri": "https://localhost:8080/"
        },
        "id": "wttocSg8hQy9",
        "outputId": "73d1dd44-29ae-4290-a0d2-0b6cae792392"
      },
      "execution_count": null,
      "outputs": [
        {
          "output_type": "execute_result",
          "data": {
            "text/plain": [
              "0        9\n",
              "1       -1\n",
              "2        1\n",
              "3        1\n",
              "4        1\n",
              "        ..\n",
              "85842    1\n",
              "85843    0\n",
              "85844    3\n",
              "85845    5\n",
              "85846    4\n",
              "Name: sentiment_score, Length: 85847, dtype: int64"
            ]
          },
          "metadata": {},
          "execution_count": 31
        }
      ]
    },
    {
      "cell_type": "code",
      "source": [
        "\n",
        "from scipy.sparse import hstack\n",
        "\n",
        "# Convert the TF-IDF sparse matrix to a DataFrame\n",
        "tfidf_df = pd.DataFrame(X_train.toarray(), columns=tfidf_vectorizer.get_feature_names_out())\n",
        "\n",
        "\n",
        "data_train_processed = data_train_processed.reset_index(drop=True)\n",
        "\n",
        "# Concatenate the TF-IDF features with the sentiment scores\n",
        "combined_features = pd.concat([tfidf_df, data_train_processed['sentiment_score']], axis=1))\n"
      ],
      "metadata": {
        "id": "eiHEBY2Ghfsy"
      },
      "execution_count": null,
      "outputs": []
    },
    {
      "cell_type": "code",
      "source": [
        "from sklearn.preprocessing import OneHotEncoder\n",
        "\n",
        "tfidf = TfidfVectorizer(\n",
        "    stop_words = stopwords.words(\"french\") + stopwords.words(\"english\"),\n",
        "    analyzer = 'word',\n",
        "    lowercase = True,\n",
        "    ngram_range = (1,2)\n",
        ")\n",
        "preprocessor = ColumnTransformer(transformers=[\n",
        "                ('tfidf', tfidf, \"commentaire\"),\n",
        "                (\"scaler\", OneHotEncoder(), ['emoticon'])\n",
        "            ])\n",
        "model = make_pipeline(preprocessor, SGDClassifier(loss = \"hinge\", penalty = \"l2\"))\n",
        "model.fit(data_train_processed, data_train_processed[\"note\"])"
      ],
      "metadata": {
        "id": "P8C288_ilnm0"
      },
      "execution_count": null,
      "outputs": []
    },
    {
      "cell_type": "code",
      "source": [
        "data_train_processed"
      ],
      "metadata": {
        "colab": {
          "base_uri": "https://localhost:8080/",
          "height": 476
        },
        "id": "KrWLVylklx1Y",
        "outputId": "898dced3-30d2-4642-9113-a4fdf95314a7"
      },
      "execution_count": null,
      "outputs": [
        {
          "output_type": "execute_result",
          "data": {
            "text/plain": [
              "         movie          review_id               name  \\\n",
              "0       229864    review_58145147               AM11   \n",
              "1       229864    review_59303833  this is my movies   \n",
              "2       229864    review_61916672         Shephard69   \n",
              "3       229864  review_1000190786              Tayop   \n",
              "4       229864    review_59207755             ned123   \n",
              "...        ...                ...                ...   \n",
              "665957  245551    review_55820729            Wally L   \n",
              "665958  245551  review_1001840194               r@ch   \n",
              "665959  245551    review_56242470          Kaiser D.   \n",
              "665960  245551    review_58174196         Florent A.   \n",
              "665961  245551  review_1006358741             NSI N.   \n",
              "\n",
              "                         user_id  note  \\\n",
              "0       Z20051105131449940367618   4.0   \n",
              "1       Z20051220181957240298347   3.5   \n",
              "2       Z20121226180301760912584   4.5   \n",
              "3       Z20121022182542230468657   3.0   \n",
              "4       Z20061211223247607682175   3.5   \n",
              "...                          ...   ...   \n",
              "665957  Z20121109004006553333277   4.0   \n",
              "665958  Z20100726110927837577369   3.0   \n",
              "665959  Z20170721223303710182536   3.5   \n",
              "665960  Z20161204004443590736237   3.0   \n",
              "665961  Z20170408073937420327568   3.5   \n",
              "\n",
              "                                              commentaire  \\\n",
              "0       \"Ce n'est pas ce qui se trouve en face de vous...   \n",
              "1       (...) En soi, je n'ai rien contre ce genre de ...   \n",
              "2       Pour sa troisième réalisation après \"Tron, l'h...   \n",
              "3       Joseph Kosinski offre de nouvelles images ébou...   \n",
              "4       J'ai vu un film... qui traite d'un drame humai...   \n",
              "...                                                   ...   \n",
              "665957  super realisation et quelques bon acteurs.  ce...   \n",
              "665958  Film visuellement très beau et mis en musique ...   \n",
              "665959  parti d'une histoire qui parait pour nous bana...   \n",
              "665960  Je suis mitigé sur ce film.d un coté,j ai plut...   \n",
              "665961  un bon film Netflix pour une fois  . le scénar...   \n",
              "\n",
              "                                    processed_commentaire  sentiment_score  \n",
              "0       nest pas_ce trouver face cest tenir ct ce phra...                5  \n",
              "1       soi nai rien contre genre rcit hyper codifi qu...               18  \n",
              "2       troisim ralisation apr tron lhritage oblivion ...                6  \n",
              "3       joseph kosinski offrir nouveau image bouriffan...                2  \n",
              "4       jai voir film traite dun drame humain plus hau...                2  \n",
              "...                                                   ...              ...  \n",
              "665957  super realisation quelque bon acteur ce ville ...                2  \n",
              "665958  film visuellemer trs beau mettre musiqu rap am...                2  \n",
              "665959  partir dune histoire parer banal tr bon film t...                1  \n",
              "665960  mitig filmd cotj plutot accrochmer peu mal avo...                1  \n",
              "665961  bon film netflix fois scnario simple acteur jo...                4  \n",
              "\n",
              "[665962 rows x 8 columns]"
            ],
            "text/html": [
              "\n",
              "  <div id=\"df-9e20857d-b31f-49d2-8d37-6a4df37d95a5\" class=\"colab-df-container\">\n",
              "    <div>\n",
              "<style scoped>\n",
              "    .dataframe tbody tr th:only-of-type {\n",
              "        vertical-align: middle;\n",
              "    }\n",
              "\n",
              "    .dataframe tbody tr th {\n",
              "        vertical-align: top;\n",
              "    }\n",
              "\n",
              "    .dataframe thead th {\n",
              "        text-align: right;\n",
              "    }\n",
              "</style>\n",
              "<table border=\"1\" class=\"dataframe\">\n",
              "  <thead>\n",
              "    <tr style=\"text-align: right;\">\n",
              "      <th></th>\n",
              "      <th>movie</th>\n",
              "      <th>review_id</th>\n",
              "      <th>name</th>\n",
              "      <th>user_id</th>\n",
              "      <th>note</th>\n",
              "      <th>commentaire</th>\n",
              "      <th>processed_commentaire</th>\n",
              "      <th>sentiment_score</th>\n",
              "    </tr>\n",
              "  </thead>\n",
              "  <tbody>\n",
              "    <tr>\n",
              "      <th>0</th>\n",
              "      <td>229864</td>\n",
              "      <td>review_58145147</td>\n",
              "      <td>AM11</td>\n",
              "      <td>Z20051105131449940367618</td>\n",
              "      <td>4.0</td>\n",
              "      <td>\"Ce n'est pas ce qui se trouve en face de vous...</td>\n",
              "      <td>nest pas_ce trouver face cest tenir ct ce phra...</td>\n",
              "      <td>5</td>\n",
              "    </tr>\n",
              "    <tr>\n",
              "      <th>1</th>\n",
              "      <td>229864</td>\n",
              "      <td>review_59303833</td>\n",
              "      <td>this is my movies</td>\n",
              "      <td>Z20051220181957240298347</td>\n",
              "      <td>3.5</td>\n",
              "      <td>(...) En soi, je n'ai rien contre ce genre de ...</td>\n",
              "      <td>soi nai rien contre genre rcit hyper codifi qu...</td>\n",
              "      <td>18</td>\n",
              "    </tr>\n",
              "    <tr>\n",
              "      <th>2</th>\n",
              "      <td>229864</td>\n",
              "      <td>review_61916672</td>\n",
              "      <td>Shephard69</td>\n",
              "      <td>Z20121226180301760912584</td>\n",
              "      <td>4.5</td>\n",
              "      <td>Pour sa troisième réalisation après \"Tron, l'h...</td>\n",
              "      <td>troisim ralisation apr tron lhritage oblivion ...</td>\n",
              "      <td>6</td>\n",
              "    </tr>\n",
              "    <tr>\n",
              "      <th>3</th>\n",
              "      <td>229864</td>\n",
              "      <td>review_1000190786</td>\n",
              "      <td>Tayop</td>\n",
              "      <td>Z20121022182542230468657</td>\n",
              "      <td>3.0</td>\n",
              "      <td>Joseph Kosinski offre de nouvelles images ébou...</td>\n",
              "      <td>joseph kosinski offrir nouveau image bouriffan...</td>\n",
              "      <td>2</td>\n",
              "    </tr>\n",
              "    <tr>\n",
              "      <th>4</th>\n",
              "      <td>229864</td>\n",
              "      <td>review_59207755</td>\n",
              "      <td>ned123</td>\n",
              "      <td>Z20061211223247607682175</td>\n",
              "      <td>3.5</td>\n",
              "      <td>J'ai vu un film... qui traite d'un drame humai...</td>\n",
              "      <td>jai voir film traite dun drame humain plus hau...</td>\n",
              "      <td>2</td>\n",
              "    </tr>\n",
              "    <tr>\n",
              "      <th>...</th>\n",
              "      <td>...</td>\n",
              "      <td>...</td>\n",
              "      <td>...</td>\n",
              "      <td>...</td>\n",
              "      <td>...</td>\n",
              "      <td>...</td>\n",
              "      <td>...</td>\n",
              "      <td>...</td>\n",
              "    </tr>\n",
              "    <tr>\n",
              "      <th>665957</th>\n",
              "      <td>245551</td>\n",
              "      <td>review_55820729</td>\n",
              "      <td>Wally L</td>\n",
              "      <td>Z20121109004006553333277</td>\n",
              "      <td>4.0</td>\n",
              "      <td>super realisation et quelques bon acteurs.  ce...</td>\n",
              "      <td>super realisation quelque bon acteur ce ville ...</td>\n",
              "      <td>2</td>\n",
              "    </tr>\n",
              "    <tr>\n",
              "      <th>665958</th>\n",
              "      <td>245551</td>\n",
              "      <td>review_1001840194</td>\n",
              "      <td>r@ch</td>\n",
              "      <td>Z20100726110927837577369</td>\n",
              "      <td>3.0</td>\n",
              "      <td>Film visuellement très beau et mis en musique ...</td>\n",
              "      <td>film visuellemer trs beau mettre musiqu rap am...</td>\n",
              "      <td>2</td>\n",
              "    </tr>\n",
              "    <tr>\n",
              "      <th>665959</th>\n",
              "      <td>245551</td>\n",
              "      <td>review_56242470</td>\n",
              "      <td>Kaiser D.</td>\n",
              "      <td>Z20170721223303710182536</td>\n",
              "      <td>3.5</td>\n",
              "      <td>parti d'une histoire qui parait pour nous bana...</td>\n",
              "      <td>partir dune histoire parer banal tr bon film t...</td>\n",
              "      <td>1</td>\n",
              "    </tr>\n",
              "    <tr>\n",
              "      <th>665960</th>\n",
              "      <td>245551</td>\n",
              "      <td>review_58174196</td>\n",
              "      <td>Florent A.</td>\n",
              "      <td>Z20161204004443590736237</td>\n",
              "      <td>3.0</td>\n",
              "      <td>Je suis mitigé sur ce film.d un coté,j ai plut...</td>\n",
              "      <td>mitig filmd cotj plutot accrochmer peu mal avo...</td>\n",
              "      <td>1</td>\n",
              "    </tr>\n",
              "    <tr>\n",
              "      <th>665961</th>\n",
              "      <td>245551</td>\n",
              "      <td>review_1006358741</td>\n",
              "      <td>NSI N.</td>\n",
              "      <td>Z20170408073937420327568</td>\n",
              "      <td>3.5</td>\n",
              "      <td>un bon film Netflix pour une fois  . le scénar...</td>\n",
              "      <td>bon film netflix fois scnario simple acteur jo...</td>\n",
              "      <td>4</td>\n",
              "    </tr>\n",
              "  </tbody>\n",
              "</table>\n",
              "<p>665962 rows × 8 columns</p>\n",
              "</div>\n",
              "    <div class=\"colab-df-buttons\">\n",
              "\n",
              "  <div class=\"colab-df-container\">\n",
              "    <button class=\"colab-df-convert\" onclick=\"convertToInteractive('df-9e20857d-b31f-49d2-8d37-6a4df37d95a5')\"\n",
              "            title=\"Convert this dataframe to an interactive table.\"\n",
              "            style=\"display:none;\">\n",
              "\n",
              "  <svg xmlns=\"http://www.w3.org/2000/svg\" height=\"24px\" viewBox=\"0 -960 960 960\">\n",
              "    <path d=\"M120-120v-720h720v720H120Zm60-500h600v-160H180v160Zm220 220h160v-160H400v160Zm0 220h160v-160H400v160ZM180-400h160v-160H180v160Zm440 0h160v-160H620v160ZM180-180h160v-160H180v160Zm440 0h160v-160H620v160Z\"/>\n",
              "  </svg>\n",
              "    </button>\n",
              "\n",
              "  <style>\n",
              "    .colab-df-container {\n",
              "      display:flex;\n",
              "      gap: 12px;\n",
              "    }\n",
              "\n",
              "    .colab-df-convert {\n",
              "      background-color: #E8F0FE;\n",
              "      border: none;\n",
              "      border-radius: 50%;\n",
              "      cursor: pointer;\n",
              "      display: none;\n",
              "      fill: #1967D2;\n",
              "      height: 32px;\n",
              "      padding: 0 0 0 0;\n",
              "      width: 32px;\n",
              "    }\n",
              "\n",
              "    .colab-df-convert:hover {\n",
              "      background-color: #E2EBFA;\n",
              "      box-shadow: 0px 1px 2px rgba(60, 64, 67, 0.3), 0px 1px 3px 1px rgba(60, 64, 67, 0.15);\n",
              "      fill: #174EA6;\n",
              "    }\n",
              "\n",
              "    .colab-df-buttons div {\n",
              "      margin-bottom: 4px;\n",
              "    }\n",
              "\n",
              "    [theme=dark] .colab-df-convert {\n",
              "      background-color: #3B4455;\n",
              "      fill: #D2E3FC;\n",
              "    }\n",
              "\n",
              "    [theme=dark] .colab-df-convert:hover {\n",
              "      background-color: #434B5C;\n",
              "      box-shadow: 0px 1px 3px 1px rgba(0, 0, 0, 0.15);\n",
              "      filter: drop-shadow(0px 1px 2px rgba(0, 0, 0, 0.3));\n",
              "      fill: #FFFFFF;\n",
              "    }\n",
              "  </style>\n",
              "\n",
              "    <script>\n",
              "      const buttonEl =\n",
              "        document.querySelector('#df-9e20857d-b31f-49d2-8d37-6a4df37d95a5 button.colab-df-convert');\n",
              "      buttonEl.style.display =\n",
              "        google.colab.kernel.accessAllowed ? 'block' : 'none';\n",
              "\n",
              "      async function convertToInteractive(key) {\n",
              "        const element = document.querySelector('#df-9e20857d-b31f-49d2-8d37-6a4df37d95a5');\n",
              "        const dataTable =\n",
              "          await google.colab.kernel.invokeFunction('convertToInteractive',\n",
              "                                                    [key], {});\n",
              "        if (!dataTable) return;\n",
              "\n",
              "        const docLinkHtml = 'Like what you see? Visit the ' +\n",
              "          '<a target=\"_blank\" href=https://colab.research.google.com/notebooks/data_table.ipynb>data table notebook</a>'\n",
              "          + ' to learn more about interactive tables.';\n",
              "        element.innerHTML = '';\n",
              "        dataTable['output_type'] = 'display_data';\n",
              "        await google.colab.output.renderOutput(dataTable, element);\n",
              "        const docLink = document.createElement('div');\n",
              "        docLink.innerHTML = docLinkHtml;\n",
              "        element.appendChild(docLink);\n",
              "      }\n",
              "    </script>\n",
              "  </div>\n",
              "\n",
              "\n",
              "<div id=\"df-09cd95f7-982f-4724-8af4-a14207e9d9aa\">\n",
              "  <button class=\"colab-df-quickchart\" onclick=\"quickchart('df-09cd95f7-982f-4724-8af4-a14207e9d9aa')\"\n",
              "            title=\"Suggest charts\"\n",
              "            style=\"display:none;\">\n",
              "\n",
              "<svg xmlns=\"http://www.w3.org/2000/svg\" height=\"24px\"viewBox=\"0 0 24 24\"\n",
              "     width=\"24px\">\n",
              "    <g>\n",
              "        <path d=\"M19 3H5c-1.1 0-2 .9-2 2v14c0 1.1.9 2 2 2h14c1.1 0 2-.9 2-2V5c0-1.1-.9-2-2-2zM9 17H7v-7h2v7zm4 0h-2V7h2v10zm4 0h-2v-4h2v4z\"/>\n",
              "    </g>\n",
              "</svg>\n",
              "  </button>\n",
              "\n",
              "<style>\n",
              "  .colab-df-quickchart {\n",
              "      --bg-color: #E8F0FE;\n",
              "      --fill-color: #1967D2;\n",
              "      --hover-bg-color: #E2EBFA;\n",
              "      --hover-fill-color: #174EA6;\n",
              "      --disabled-fill-color: #AAA;\n",
              "      --disabled-bg-color: #DDD;\n",
              "  }\n",
              "\n",
              "  [theme=dark] .colab-df-quickchart {\n",
              "      --bg-color: #3B4455;\n",
              "      --fill-color: #D2E3FC;\n",
              "      --hover-bg-color: #434B5C;\n",
              "      --hover-fill-color: #FFFFFF;\n",
              "      --disabled-bg-color: #3B4455;\n",
              "      --disabled-fill-color: #666;\n",
              "  }\n",
              "\n",
              "  .colab-df-quickchart {\n",
              "    background-color: var(--bg-color);\n",
              "    border: none;\n",
              "    border-radius: 50%;\n",
              "    cursor: pointer;\n",
              "    display: none;\n",
              "    fill: var(--fill-color);\n",
              "    height: 32px;\n",
              "    padding: 0;\n",
              "    width: 32px;\n",
              "  }\n",
              "\n",
              "  .colab-df-quickchart:hover {\n",
              "    background-color: var(--hover-bg-color);\n",
              "    box-shadow: 0 1px 2px rgba(60, 64, 67, 0.3), 0 1px 3px 1px rgba(60, 64, 67, 0.15);\n",
              "    fill: var(--button-hover-fill-color);\n",
              "  }\n",
              "\n",
              "  .colab-df-quickchart-complete:disabled,\n",
              "  .colab-df-quickchart-complete:disabled:hover {\n",
              "    background-color: var(--disabled-bg-color);\n",
              "    fill: var(--disabled-fill-color);\n",
              "    box-shadow: none;\n",
              "  }\n",
              "\n",
              "  .colab-df-spinner {\n",
              "    border: 2px solid var(--fill-color);\n",
              "    border-color: transparent;\n",
              "    border-bottom-color: var(--fill-color);\n",
              "    animation:\n",
              "      spin 1s steps(1) infinite;\n",
              "  }\n",
              "\n",
              "  @keyframes spin {\n",
              "    0% {\n",
              "      border-color: transparent;\n",
              "      border-bottom-color: var(--fill-color);\n",
              "      border-left-color: var(--fill-color);\n",
              "    }\n",
              "    20% {\n",
              "      border-color: transparent;\n",
              "      border-left-color: var(--fill-color);\n",
              "      border-top-color: var(--fill-color);\n",
              "    }\n",
              "    30% {\n",
              "      border-color: transparent;\n",
              "      border-left-color: var(--fill-color);\n",
              "      border-top-color: var(--fill-color);\n",
              "      border-right-color: var(--fill-color);\n",
              "    }\n",
              "    40% {\n",
              "      border-color: transparent;\n",
              "      border-right-color: var(--fill-color);\n",
              "      border-top-color: var(--fill-color);\n",
              "    }\n",
              "    60% {\n",
              "      border-color: transparent;\n",
              "      border-right-color: var(--fill-color);\n",
              "    }\n",
              "    80% {\n",
              "      border-color: transparent;\n",
              "      border-right-color: var(--fill-color);\n",
              "      border-bottom-color: var(--fill-color);\n",
              "    }\n",
              "    90% {\n",
              "      border-color: transparent;\n",
              "      border-bottom-color: var(--fill-color);\n",
              "    }\n",
              "  }\n",
              "</style>\n",
              "\n",
              "  <script>\n",
              "    async function quickchart(key) {\n",
              "      const quickchartButtonEl =\n",
              "        document.querySelector('#' + key + ' button');\n",
              "      quickchartButtonEl.disabled = true;  // To prevent multiple clicks.\n",
              "      quickchartButtonEl.classList.add('colab-df-spinner');\n",
              "      try {\n",
              "        const charts = await google.colab.kernel.invokeFunction(\n",
              "            'suggestCharts', [key], {});\n",
              "      } catch (error) {\n",
              "        console.error('Error during call to suggestCharts:', error);\n",
              "      }\n",
              "      quickchartButtonEl.classList.remove('colab-df-spinner');\n",
              "      quickchartButtonEl.classList.add('colab-df-quickchart-complete');\n",
              "    }\n",
              "    (() => {\n",
              "      let quickchartButtonEl =\n",
              "        document.querySelector('#df-09cd95f7-982f-4724-8af4-a14207e9d9aa button');\n",
              "      quickchartButtonEl.style.display =\n",
              "        google.colab.kernel.accessAllowed ? 'block' : 'none';\n",
              "    })();\n",
              "  </script>\n",
              "</div>\n",
              "    </div>\n",
              "  </div>\n"
            ]
          },
          "metadata": {},
          "execution_count": 41
        }
      ]
    }
  ]
}