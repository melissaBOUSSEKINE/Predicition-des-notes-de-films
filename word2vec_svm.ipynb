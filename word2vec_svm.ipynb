{
  "nbformat": 4,
  "nbformat_minor": 0,
  "metadata": {
    "colab": {
      "provenance": [],
      "machine_shape": "hm"
    },
    "kernelspec": {
      "name": "python3",
      "display_name": "Python 3"
    },
    "language_info": {
      "name": "python"
    }
  },
  "cells": [
    {
      "cell_type": "code",
      "execution_count": 1,
      "metadata": {
        "id": "oLvg7SE8lFps"
      },
      "outputs": [],
      "source": [
        "import nltk\n",
        "import numpy as np\n",
        "import operator as op\n",
        "import pandas as pd\n",
        "import xml.etree.ElementTree as ET\n",
        "import matplotlib.pyplot as plt\n",
        "import io\n",
        "from nltk.tokenize import word_tokenize\n",
        "from nltk.stem import WordNetLemmatizer\n",
        "import nltk"
      ]
    },
    {
      "cell_type": "code",
      "source": [
        "from google.colab import drive\n",
        "drive.mount('/content/drive')"
      ],
      "metadata": {
        "colab": {
          "base_uri": "https://localhost:8080/"
        },
        "id": "AIdZNw0TlxG7",
        "outputId": "646631b7-5839-40ae-c5e0-d20b34e67e9c"
      },
      "execution_count": 2,
      "outputs": [
        {
          "output_type": "stream",
          "name": "stdout",
          "text": [
            "Mounted at /content/drive\n"
          ]
        }
      ]
    },
    {
      "cell_type": "code",
      "source": [
        "file_train = '/content/drive/My Drive/Analyse_des_sentiment/data/train.xml'\n",
        "file_dev   = '/content/drive/My Drive/Analyse_des_sentiment/data/dev.xml'\n",
        "file_test  = '/content/drive/My Drive/Analyse_des_sentiment/data/test.xml'"
      ],
      "metadata": {
        "id": "fiJb3t7XloOw"
      },
      "execution_count": 3,
      "outputs": []
    },
    {
      "cell_type": "code",
      "source": [
        "def read_xml_to_dataframe(file_path):\n",
        "    # Analyse du fichier XML\n",
        "    tree = ET.parse(file_path)\n",
        "    root = tree.getroot()\n",
        "\n",
        "    # Création d'une liste vide pour stocker les données\n",
        "    data = []\n",
        "\n",
        "    # Parcours des éléments de commentaire\n",
        "    for comment in root.findall('comment'):\n",
        "        movie = comment.find('movie').text\n",
        "        review_id = comment.find('review_id').text\n",
        "        name = comment.find('name').text\n",
        "        user_id = comment.find('user_id').text\n",
        "        note = comment.find('note').text.replace(',', '.')\n",
        "        commentaire = comment.find('commentaire').text\n",
        "\n",
        "        # Ajout des données dans la liste sous forme de dictionnaire\n",
        "        data.append({\n",
        "            'movie': movie,\n",
        "            'review_id': review_id,\n",
        "            'name': name,\n",
        "            'user_id': user_id,\n",
        "            'note': note,\n",
        "            'commentaire': commentaire\n",
        "        })\n",
        "\n",
        "    # Création d'un DataFrame\n",
        "    df = pd.DataFrame(data)\n",
        "\n",
        "    return df"
      ],
      "metadata": {
        "id": "stAk2yTsl4qy"
      },
      "execution_count": 4,
      "outputs": []
    },
    {
      "cell_type": "code",
      "source": [
        "#fonction pour le fichier de test\n",
        "def read_xml_to_dataframeTest(file_path):\n",
        "    # Analyse du fichier XML\n",
        "    tree = ET.parse(file_path)\n",
        "    root = tree.getroot()\n",
        "\n",
        "    # Création d'une liste vide pour stocker les données\n",
        "    data = []\n",
        "\n",
        "    # Parcours des éléments de commentaire\n",
        "    for comment in root.findall('comment'):\n",
        "        # Initialisation d'un dictionnaire pour chaque commentaire\n",
        "        comment_data = {}\n",
        "\n",
        "        # Extraction de chaque élément si disponible et ajout au dictionnaire\n",
        "        movie = comment.find('movie')\n",
        "        if movie is not None:\n",
        "            comment_data['movie'] = movie.text\n",
        "\n",
        "        review_id = comment.find('review_id')\n",
        "        if review_id is not None:\n",
        "            comment_data['review_id'] = review_id.text\n",
        "\n",
        "        name = comment.find('name')\n",
        "        if name is not None:\n",
        "            comment_data['name'] = name.text\n",
        "\n",
        "        user_id = comment.find('user_id')\n",
        "        if user_id is not None:\n",
        "            comment_data['user_id'] = user_id.text\n",
        "\n",
        "        # Note is not present in the given data, but if it's sometimes included,\n",
        "        # you can check for it like this:\n",
        "        note = comment.find('note')\n",
        "        if note is not None:\n",
        "            comment_data['note'] = note.text.replace(',', '.')\n",
        "\n",
        "        commentaire = comment.find('commentaire')\n",
        "        if commentaire is not None:\n",
        "            comment_data['commentaire'] = commentaire.text\n",
        "\n",
        "        # Ajout des données dans la liste sous forme de dictionnaire\n",
        "        data.append(comment_data)\n",
        "\n",
        "    # Création d'un DataFrame\n",
        "    df = pd.DataFrame(data)\n",
        "\n",
        "    return df"
      ],
      "metadata": {
        "id": "Ziv3saE-l7Fu"
      },
      "execution_count": 5,
      "outputs": []
    },
    {
      "cell_type": "code",
      "source": [
        "#création DataFrame\n",
        "data_dev   = read_xml_to_dataframe(file_dev)\n",
        "data_train = read_xml_to_dataframe(file_train)\n",
        "data_test  = read_xml_to_dataframeTest(file_test)"
      ],
      "metadata": {
        "id": "KBaM-hZRl9l_"
      },
      "execution_count": 6,
      "outputs": []
    },
    {
      "cell_type": "code",
      "source": [
        "data_train['commentaire'] = data_train['commentaire'].fillna('')\n",
        "data_dev['commentaire'] = data_dev['commentaire'].fillna('')\n",
        "data_test['commentaire'] = data_test['commentaire'].fillna('')"
      ],
      "metadata": {
        "id": "gBDf5R5cmDYk"
      },
      "execution_count": 7,
      "outputs": []
    },
    {
      "cell_type": "code",
      "source": [
        "nltk.download('punkt')\n",
        "nltk.download('stopwords')"
      ],
      "metadata": {
        "colab": {
          "base_uri": "https://localhost:8080/"
        },
        "id": "n-Fm29vumOuv",
        "outputId": "a0aca2a4-b390-4594-98dd-ce8694f04a63"
      },
      "execution_count": 8,
      "outputs": [
        {
          "output_type": "stream",
          "name": "stderr",
          "text": [
            "[nltk_data] Downloading package punkt to /root/nltk_data...\n",
            "[nltk_data]   Unzipping tokenizers/punkt.zip.\n",
            "[nltk_data] Downloading package stopwords to /root/nltk_data...\n",
            "[nltk_data]   Unzipping corpora/stopwords.zip.\n"
          ]
        },
        {
          "output_type": "execute_result",
          "data": {
            "text/plain": [
              "True"
            ]
          },
          "metadata": {},
          "execution_count": 8
        }
      ]
    },
    {
      "cell_type": "code",
      "source": [
        "!python -m spacy download fr_core_news_sm"
      ],
      "metadata": {
        "colab": {
          "base_uri": "https://localhost:8080/"
        },
        "id": "CY01KT8pmiv-",
        "outputId": "48ac21ef-9c7e-490b-ee5f-cd1972006bba"
      },
      "execution_count": 9,
      "outputs": [
        {
          "output_type": "stream",
          "name": "stdout",
          "text": [
            "2024-01-08 13:15:00.344899: E external/local_xla/xla/stream_executor/cuda/cuda_dnn.cc:9261] Unable to register cuDNN factory: Attempting to register factory for plugin cuDNN when one has already been registered\n",
            "2024-01-08 13:15:00.344973: E external/local_xla/xla/stream_executor/cuda/cuda_fft.cc:607] Unable to register cuFFT factory: Attempting to register factory for plugin cuFFT when one has already been registered\n",
            "2024-01-08 13:15:00.346449: E external/local_xla/xla/stream_executor/cuda/cuda_blas.cc:1515] Unable to register cuBLAS factory: Attempting to register factory for plugin cuBLAS when one has already been registered\n",
            "2024-01-08 13:15:00.355018: I tensorflow/core/platform/cpu_feature_guard.cc:182] This TensorFlow binary is optimized to use available CPU instructions in performance-critical operations.\n",
            "To enable the following instructions: AVX2 FMA, in other operations, rebuild TensorFlow with the appropriate compiler flags.\n",
            "2024-01-08 13:15:01.603633: W tensorflow/compiler/tf2tensorrt/utils/py_utils.cc:38] TF-TRT Warning: Could not find TensorRT\n",
            "Collecting fr-core-news-sm==3.6.0\n",
            "  Downloading https://github.com/explosion/spacy-models/releases/download/fr_core_news_sm-3.6.0/fr_core_news_sm-3.6.0-py3-none-any.whl (16.3 MB)\n",
            "\u001b[2K     \u001b[90m━━━━━━━━━━━━━━━━━━━━━━━━━━━━━━━━━━━━━━━━\u001b[0m \u001b[32m16.3/16.3 MB\u001b[0m \u001b[31m67.6 MB/s\u001b[0m eta \u001b[36m0:00:00\u001b[0m\n",
            "\u001b[?25hRequirement already satisfied: spacy<3.7.0,>=3.6.0 in /usr/local/lib/python3.10/dist-packages (from fr-core-news-sm==3.6.0) (3.6.1)\n",
            "Requirement already satisfied: spacy-legacy<3.1.0,>=3.0.11 in /usr/local/lib/python3.10/dist-packages (from spacy<3.7.0,>=3.6.0->fr-core-news-sm==3.6.0) (3.0.12)\n",
            "Requirement already satisfied: spacy-loggers<2.0.0,>=1.0.0 in /usr/local/lib/python3.10/dist-packages (from spacy<3.7.0,>=3.6.0->fr-core-news-sm==3.6.0) (1.0.5)\n",
            "Requirement already satisfied: murmurhash<1.1.0,>=0.28.0 in /usr/local/lib/python3.10/dist-packages (from spacy<3.7.0,>=3.6.0->fr-core-news-sm==3.6.0) (1.0.10)\n",
            "Requirement already satisfied: cymem<2.1.0,>=2.0.2 in /usr/local/lib/python3.10/dist-packages (from spacy<3.7.0,>=3.6.0->fr-core-news-sm==3.6.0) (2.0.8)\n",
            "Requirement already satisfied: preshed<3.1.0,>=3.0.2 in /usr/local/lib/python3.10/dist-packages (from spacy<3.7.0,>=3.6.0->fr-core-news-sm==3.6.0) (3.0.9)\n",
            "Requirement already satisfied: thinc<8.2.0,>=8.1.8 in /usr/local/lib/python3.10/dist-packages (from spacy<3.7.0,>=3.6.0->fr-core-news-sm==3.6.0) (8.1.12)\n",
            "Requirement already satisfied: wasabi<1.2.0,>=0.9.1 in /usr/local/lib/python3.10/dist-packages (from spacy<3.7.0,>=3.6.0->fr-core-news-sm==3.6.0) (1.1.2)\n",
            "Requirement already satisfied: srsly<3.0.0,>=2.4.3 in /usr/local/lib/python3.10/dist-packages (from spacy<3.7.0,>=3.6.0->fr-core-news-sm==3.6.0) (2.4.8)\n",
            "Requirement already satisfied: catalogue<2.1.0,>=2.0.6 in /usr/local/lib/python3.10/dist-packages (from spacy<3.7.0,>=3.6.0->fr-core-news-sm==3.6.0) (2.0.10)\n",
            "Requirement already satisfied: typer<0.10.0,>=0.3.0 in /usr/local/lib/python3.10/dist-packages (from spacy<3.7.0,>=3.6.0->fr-core-news-sm==3.6.0) (0.9.0)\n",
            "Requirement already satisfied: pathy>=0.10.0 in /usr/local/lib/python3.10/dist-packages (from spacy<3.7.0,>=3.6.0->fr-core-news-sm==3.6.0) (0.10.3)\n",
            "Requirement already satisfied: smart-open<7.0.0,>=5.2.1 in /usr/local/lib/python3.10/dist-packages (from spacy<3.7.0,>=3.6.0->fr-core-news-sm==3.6.0) (6.4.0)\n",
            "Requirement already satisfied: tqdm<5.0.0,>=4.38.0 in /usr/local/lib/python3.10/dist-packages (from spacy<3.7.0,>=3.6.0->fr-core-news-sm==3.6.0) (4.66.1)\n",
            "Requirement already satisfied: numpy>=1.15.0 in /usr/local/lib/python3.10/dist-packages (from spacy<3.7.0,>=3.6.0->fr-core-news-sm==3.6.0) (1.23.5)\n",
            "Requirement already satisfied: requests<3.0.0,>=2.13.0 in /usr/local/lib/python3.10/dist-packages (from spacy<3.7.0,>=3.6.0->fr-core-news-sm==3.6.0) (2.31.0)\n",
            "Requirement already satisfied: pydantic!=1.8,!=1.8.1,<3.0.0,>=1.7.4 in /usr/local/lib/python3.10/dist-packages (from spacy<3.7.0,>=3.6.0->fr-core-news-sm==3.6.0) (1.10.13)\n",
            "Requirement already satisfied: jinja2 in /usr/local/lib/python3.10/dist-packages (from spacy<3.7.0,>=3.6.0->fr-core-news-sm==3.6.0) (3.1.2)\n",
            "Requirement already satisfied: setuptools in /usr/local/lib/python3.10/dist-packages (from spacy<3.7.0,>=3.6.0->fr-core-news-sm==3.6.0) (67.7.2)\n",
            "Requirement already satisfied: packaging>=20.0 in /usr/local/lib/python3.10/dist-packages (from spacy<3.7.0,>=3.6.0->fr-core-news-sm==3.6.0) (23.2)\n",
            "Requirement already satisfied: langcodes<4.0.0,>=3.2.0 in /usr/local/lib/python3.10/dist-packages (from spacy<3.7.0,>=3.6.0->fr-core-news-sm==3.6.0) (3.3.0)\n",
            "Requirement already satisfied: typing-extensions>=4.2.0 in /usr/local/lib/python3.10/dist-packages (from pydantic!=1.8,!=1.8.1,<3.0.0,>=1.7.4->spacy<3.7.0,>=3.6.0->fr-core-news-sm==3.6.0) (4.5.0)\n",
            "Requirement already satisfied: charset-normalizer<4,>=2 in /usr/local/lib/python3.10/dist-packages (from requests<3.0.0,>=2.13.0->spacy<3.7.0,>=3.6.0->fr-core-news-sm==3.6.0) (3.3.2)\n",
            "Requirement already satisfied: idna<4,>=2.5 in /usr/local/lib/python3.10/dist-packages (from requests<3.0.0,>=2.13.0->spacy<3.7.0,>=3.6.0->fr-core-news-sm==3.6.0) (3.6)\n",
            "Requirement already satisfied: urllib3<3,>=1.21.1 in /usr/local/lib/python3.10/dist-packages (from requests<3.0.0,>=2.13.0->spacy<3.7.0,>=3.6.0->fr-core-news-sm==3.6.0) (2.0.7)\n",
            "Requirement already satisfied: certifi>=2017.4.17 in /usr/local/lib/python3.10/dist-packages (from requests<3.0.0,>=2.13.0->spacy<3.7.0,>=3.6.0->fr-core-news-sm==3.6.0) (2023.11.17)\n",
            "Requirement already satisfied: blis<0.8.0,>=0.7.8 in /usr/local/lib/python3.10/dist-packages (from thinc<8.2.0,>=8.1.8->spacy<3.7.0,>=3.6.0->fr-core-news-sm==3.6.0) (0.7.11)\n",
            "Requirement already satisfied: confection<1.0.0,>=0.0.1 in /usr/local/lib/python3.10/dist-packages (from thinc<8.2.0,>=8.1.8->spacy<3.7.0,>=3.6.0->fr-core-news-sm==3.6.0) (0.1.4)\n",
            "Requirement already satisfied: click<9.0.0,>=7.1.1 in /usr/local/lib/python3.10/dist-packages (from typer<0.10.0,>=0.3.0->spacy<3.7.0,>=3.6.0->fr-core-news-sm==3.6.0) (8.1.7)\n",
            "Requirement already satisfied: MarkupSafe>=2.0 in /usr/local/lib/python3.10/dist-packages (from jinja2->spacy<3.7.0,>=3.6.0->fr-core-news-sm==3.6.0) (2.1.3)\n",
            "Installing collected packages: fr-core-news-sm\n",
            "Successfully installed fr-core-news-sm-3.6.0\n",
            "\u001b[38;5;2m✔ Download and installation successful\u001b[0m\n",
            "You can now load the package via spacy.load('fr_core_news_sm')\n"
          ]
        }
      ]
    },
    {
      "cell_type": "code",
      "source": [
        "import spacy\n",
        "import re\n",
        "# Load the French language model\n",
        "nlp = spacy.load('fr_core_news_sm')"
      ],
      "metadata": {
        "id": "jpqytPEzngIj"
      },
      "execution_count": 10,
      "outputs": []
    },
    {
      "cell_type": "code",
      "source": [
        "def preprocess_text(text):\n",
        "    # Convert to lowercase\n",
        "    text = text.lower()\n",
        "\n",
        "    # Remove URLs\n",
        "    text = re.sub(r'http\\S+', '', text)\n",
        "\n",
        "    # Tokenization and lemmatization using spaCy, and removal of stop words\n",
        "    doc = nlp(text)\n",
        "    tokens = [token.lemma_ for token in doc if token.is_alpha and token.text not in spacy.lang.fr.stop_words.STOP_WORDS]\n",
        "\n",
        "    return tokens"
      ],
      "metadata": {
        "id": "yd5ZS4bwmVck"
      },
      "execution_count": 11,
      "outputs": []
    },
    {
      "cell_type": "code",
      "source": [
        "preprocess_text(\"hy j'adore ..; si s'il y a plein  pas le film\")"
      ],
      "metadata": {
        "colab": {
          "base_uri": "https://localhost:8080/"
        },
        "id": "FkKdbXBxnmZS",
        "outputId": "589942c2-def8-43ee-a8fc-54c1d306da18"
      },
      "execution_count": 13,
      "outputs": [
        {
          "output_type": "execute_result",
          "data": {
            "text/plain": [
              "['hy', 'adorer', 'plein', 'film']"
            ]
          },
          "metadata": {},
          "execution_count": 13
        }
      ]
    },
    {
      "cell_type": "markdown",
      "source": [],
      "metadata": {
        "id": "OGwK7cfJK0GC"
      }
    },
    {
      "cell_type": "code",
      "source": [
        "data_train['commentaire_w_processed'] = data_train['commentaire'].apply(preprocess_text)\n",
        "data_train.to_csv('/content/drive/My Drive/processed_data/data_train_ww_processed.csv', index=False)"
      ],
      "metadata": {
        "id": "wQ3d32wQnbeU"
      },
      "execution_count": 14,
      "outputs": []
    },
    {
      "cell_type": "code",
      "source": [
        "data_dev['commentaire_w_processed'] = data_dev['commentaire'].apply(preprocess_text)\n",
        "data_train.to_csv('/content/drive/My Drive/processed_data/data_dev_ww_processed.csv', index=False)\n",
        "\n",
        "data_test['commentaire_w_processed'] = data_test['commentaire'].apply(preprocess_text)\n",
        "data_train.to_csv('/content/drive/My Drive/processed_data/data_test_ww_processed.csv', index=False)\n"
      ],
      "metadata": {
        "id": "SMSrXS2Q-d4b"
      },
      "execution_count": 15,
      "outputs": []
    },
    {
      "cell_type": "code",
      "source": [
        "data_train"
      ],
      "metadata": {
        "colab": {
          "base_uri": "https://localhost:8080/",
          "height": 424
        },
        "id": "dvMbqOyiRwTm",
        "outputId": "336f5092-0ffa-44c7-d448-d2162113349d"
      },
      "execution_count": 17,
      "outputs": [
        {
          "output_type": "execute_result",
          "data": {
            "text/plain": [
              "         movie          review_id               name  \\\n",
              "0       229864    review_58145147               AM11   \n",
              "1       229864    review_59303833  this is my movies   \n",
              "2       229864    review_61916672         Shephard69   \n",
              "3       229864  review_1000190786              Tayop   \n",
              "4       229864    review_59207755             ned123   \n",
              "...        ...                ...                ...   \n",
              "665957  245551    review_55820729            Wally L   \n",
              "665958  245551  review_1001840194               r@ch   \n",
              "665959  245551    review_56242470          Kaiser D.   \n",
              "665960  245551    review_58174196         Florent A.   \n",
              "665961  245551  review_1006358741             NSI N.   \n",
              "\n",
              "                         user_id note  \\\n",
              "0       Z20051105131449940367618  4.0   \n",
              "1       Z20051220181957240298347  3.5   \n",
              "2       Z20121226180301760912584  4.5   \n",
              "3       Z20121022182542230468657  3.0   \n",
              "4       Z20061211223247607682175  3.5   \n",
              "...                          ...  ...   \n",
              "665957  Z20121109004006553333277  4.0   \n",
              "665958  Z20100726110927837577369  3.0   \n",
              "665959  Z20170721223303710182536  3.5   \n",
              "665960  Z20161204004443590736237  3.0   \n",
              "665961  Z20170408073937420327568  3.5   \n",
              "\n",
              "                                              commentaire  \\\n",
              "0       \"Ce n'est pas ce qui se trouve en face de vous...   \n",
              "1       (...) En soi, je n'ai rien contre ce genre de ...   \n",
              "2       Pour sa troisième réalisation après \"Tron, l'h...   \n",
              "3       Joseph Kosinski offre de nouvelles images ébou...   \n",
              "4       J'ai vu un film... qui traite d'un drame humai...   \n",
              "...                                                   ...   \n",
              "665957  super realisation et quelques bon acteurs.  ce...   \n",
              "665958  Film visuellement très beau et mis en musique ...   \n",
              "665959  parti d'une histoire qui parait pour nous bana...   \n",
              "665960  Je suis mitigé sur ce film.d un coté,j ai plut...   \n",
              "665961  un bon film Netflix pour une fois  . le scénar...   \n",
              "\n",
              "                                  commentaire_w_processed  \n",
              "0       [trouver, face, tenir, côté, phrase, tagline, ...  \n",
              "1       [rien, contre, genre, récit, hyper, codifier, ...  \n",
              "2       [réalisation, tron, héritage, oblivion, attend...  \n",
              "3       [joseph, kosinski, offrir, nouveau, image, ébo...  \n",
              "4       [film, traire, drame, humain, haute, intensité...  \n",
              "...                                                   ...  \n",
              "665957  [super, realisation, bon, acteur, ville, richm...  \n",
              "665958  [film, visuellemer, beau, mettre, musique, rap...  \n",
              "665959  [partir, histoire, parer, banal, bon, film, je...  \n",
              "665960  [mitiger, coté, j, j, être, mal, l, aise, long...  \n",
              "665961  [bon, film, netflix, fois, scénario, simple, a...  \n",
              "\n",
              "[665962 rows x 7 columns]"
            ],
            "text/html": [
              "\n",
              "  <div id=\"df-31b4af04-e462-4473-9fd8-e54658fc2a22\" class=\"colab-df-container\">\n",
              "    <div>\n",
              "<style scoped>\n",
              "    .dataframe tbody tr th:only-of-type {\n",
              "        vertical-align: middle;\n",
              "    }\n",
              "\n",
              "    .dataframe tbody tr th {\n",
              "        vertical-align: top;\n",
              "    }\n",
              "\n",
              "    .dataframe thead th {\n",
              "        text-align: right;\n",
              "    }\n",
              "</style>\n",
              "<table border=\"1\" class=\"dataframe\">\n",
              "  <thead>\n",
              "    <tr style=\"text-align: right;\">\n",
              "      <th></th>\n",
              "      <th>movie</th>\n",
              "      <th>review_id</th>\n",
              "      <th>name</th>\n",
              "      <th>user_id</th>\n",
              "      <th>note</th>\n",
              "      <th>commentaire</th>\n",
              "      <th>commentaire_w_processed</th>\n",
              "    </tr>\n",
              "  </thead>\n",
              "  <tbody>\n",
              "    <tr>\n",
              "      <th>0</th>\n",
              "      <td>229864</td>\n",
              "      <td>review_58145147</td>\n",
              "      <td>AM11</td>\n",
              "      <td>Z20051105131449940367618</td>\n",
              "      <td>4.0</td>\n",
              "      <td>\"Ce n'est pas ce qui se trouve en face de vous...</td>\n",
              "      <td>[trouver, face, tenir, côté, phrase, tagline, ...</td>\n",
              "    </tr>\n",
              "    <tr>\n",
              "      <th>1</th>\n",
              "      <td>229864</td>\n",
              "      <td>review_59303833</td>\n",
              "      <td>this is my movies</td>\n",
              "      <td>Z20051220181957240298347</td>\n",
              "      <td>3.5</td>\n",
              "      <td>(...) En soi, je n'ai rien contre ce genre de ...</td>\n",
              "      <td>[rien, contre, genre, récit, hyper, codifier, ...</td>\n",
              "    </tr>\n",
              "    <tr>\n",
              "      <th>2</th>\n",
              "      <td>229864</td>\n",
              "      <td>review_61916672</td>\n",
              "      <td>Shephard69</td>\n",
              "      <td>Z20121226180301760912584</td>\n",
              "      <td>4.5</td>\n",
              "      <td>Pour sa troisième réalisation après \"Tron, l'h...</td>\n",
              "      <td>[réalisation, tron, héritage, oblivion, attend...</td>\n",
              "    </tr>\n",
              "    <tr>\n",
              "      <th>3</th>\n",
              "      <td>229864</td>\n",
              "      <td>review_1000190786</td>\n",
              "      <td>Tayop</td>\n",
              "      <td>Z20121022182542230468657</td>\n",
              "      <td>3.0</td>\n",
              "      <td>Joseph Kosinski offre de nouvelles images ébou...</td>\n",
              "      <td>[joseph, kosinski, offrir, nouveau, image, ébo...</td>\n",
              "    </tr>\n",
              "    <tr>\n",
              "      <th>4</th>\n",
              "      <td>229864</td>\n",
              "      <td>review_59207755</td>\n",
              "      <td>ned123</td>\n",
              "      <td>Z20061211223247607682175</td>\n",
              "      <td>3.5</td>\n",
              "      <td>J'ai vu un film... qui traite d'un drame humai...</td>\n",
              "      <td>[film, traire, drame, humain, haute, intensité...</td>\n",
              "    </tr>\n",
              "    <tr>\n",
              "      <th>...</th>\n",
              "      <td>...</td>\n",
              "      <td>...</td>\n",
              "      <td>...</td>\n",
              "      <td>...</td>\n",
              "      <td>...</td>\n",
              "      <td>...</td>\n",
              "      <td>...</td>\n",
              "    </tr>\n",
              "    <tr>\n",
              "      <th>665957</th>\n",
              "      <td>245551</td>\n",
              "      <td>review_55820729</td>\n",
              "      <td>Wally L</td>\n",
              "      <td>Z20121109004006553333277</td>\n",
              "      <td>4.0</td>\n",
              "      <td>super realisation et quelques bon acteurs.  ce...</td>\n",
              "      <td>[super, realisation, bon, acteur, ville, richm...</td>\n",
              "    </tr>\n",
              "    <tr>\n",
              "      <th>665958</th>\n",
              "      <td>245551</td>\n",
              "      <td>review_1001840194</td>\n",
              "      <td>r@ch</td>\n",
              "      <td>Z20100726110927837577369</td>\n",
              "      <td>3.0</td>\n",
              "      <td>Film visuellement très beau et mis en musique ...</td>\n",
              "      <td>[film, visuellemer, beau, mettre, musique, rap...</td>\n",
              "    </tr>\n",
              "    <tr>\n",
              "      <th>665959</th>\n",
              "      <td>245551</td>\n",
              "      <td>review_56242470</td>\n",
              "      <td>Kaiser D.</td>\n",
              "      <td>Z20170721223303710182536</td>\n",
              "      <td>3.5</td>\n",
              "      <td>parti d'une histoire qui parait pour nous bana...</td>\n",
              "      <td>[partir, histoire, parer, banal, bon, film, je...</td>\n",
              "    </tr>\n",
              "    <tr>\n",
              "      <th>665960</th>\n",
              "      <td>245551</td>\n",
              "      <td>review_58174196</td>\n",
              "      <td>Florent A.</td>\n",
              "      <td>Z20161204004443590736237</td>\n",
              "      <td>3.0</td>\n",
              "      <td>Je suis mitigé sur ce film.d un coté,j ai plut...</td>\n",
              "      <td>[mitiger, coté, j, j, être, mal, l, aise, long...</td>\n",
              "    </tr>\n",
              "    <tr>\n",
              "      <th>665961</th>\n",
              "      <td>245551</td>\n",
              "      <td>review_1006358741</td>\n",
              "      <td>NSI N.</td>\n",
              "      <td>Z20170408073937420327568</td>\n",
              "      <td>3.5</td>\n",
              "      <td>un bon film Netflix pour une fois  . le scénar...</td>\n",
              "      <td>[bon, film, netflix, fois, scénario, simple, a...</td>\n",
              "    </tr>\n",
              "  </tbody>\n",
              "</table>\n",
              "<p>665962 rows × 7 columns</p>\n",
              "</div>\n",
              "    <div class=\"colab-df-buttons\">\n",
              "\n",
              "  <div class=\"colab-df-container\">\n",
              "    <button class=\"colab-df-convert\" onclick=\"convertToInteractive('df-31b4af04-e462-4473-9fd8-e54658fc2a22')\"\n",
              "            title=\"Convert this dataframe to an interactive table.\"\n",
              "            style=\"display:none;\">\n",
              "\n",
              "  <svg xmlns=\"http://www.w3.org/2000/svg\" height=\"24px\" viewBox=\"0 -960 960 960\">\n",
              "    <path d=\"M120-120v-720h720v720H120Zm60-500h600v-160H180v160Zm220 220h160v-160H400v160Zm0 220h160v-160H400v160ZM180-400h160v-160H180v160Zm440 0h160v-160H620v160ZM180-180h160v-160H180v160Zm440 0h160v-160H620v160Z\"/>\n",
              "  </svg>\n",
              "    </button>\n",
              "\n",
              "  <style>\n",
              "    .colab-df-container {\n",
              "      display:flex;\n",
              "      gap: 12px;\n",
              "    }\n",
              "\n",
              "    .colab-df-convert {\n",
              "      background-color: #E8F0FE;\n",
              "      border: none;\n",
              "      border-radius: 50%;\n",
              "      cursor: pointer;\n",
              "      display: none;\n",
              "      fill: #1967D2;\n",
              "      height: 32px;\n",
              "      padding: 0 0 0 0;\n",
              "      width: 32px;\n",
              "    }\n",
              "\n",
              "    .colab-df-convert:hover {\n",
              "      background-color: #E2EBFA;\n",
              "      box-shadow: 0px 1px 2px rgba(60, 64, 67, 0.3), 0px 1px 3px 1px rgba(60, 64, 67, 0.15);\n",
              "      fill: #174EA6;\n",
              "    }\n",
              "\n",
              "    .colab-df-buttons div {\n",
              "      margin-bottom: 4px;\n",
              "    }\n",
              "\n",
              "    [theme=dark] .colab-df-convert {\n",
              "      background-color: #3B4455;\n",
              "      fill: #D2E3FC;\n",
              "    }\n",
              "\n",
              "    [theme=dark] .colab-df-convert:hover {\n",
              "      background-color: #434B5C;\n",
              "      box-shadow: 0px 1px 3px 1px rgba(0, 0, 0, 0.15);\n",
              "      filter: drop-shadow(0px 1px 2px rgba(0, 0, 0, 0.3));\n",
              "      fill: #FFFFFF;\n",
              "    }\n",
              "  </style>\n",
              "\n",
              "    <script>\n",
              "      const buttonEl =\n",
              "        document.querySelector('#df-31b4af04-e462-4473-9fd8-e54658fc2a22 button.colab-df-convert');\n",
              "      buttonEl.style.display =\n",
              "        google.colab.kernel.accessAllowed ? 'block' : 'none';\n",
              "\n",
              "      async function convertToInteractive(key) {\n",
              "        const element = document.querySelector('#df-31b4af04-e462-4473-9fd8-e54658fc2a22');\n",
              "        const dataTable =\n",
              "          await google.colab.kernel.invokeFunction('convertToInteractive',\n",
              "                                                    [key], {});\n",
              "        if (!dataTable) return;\n",
              "\n",
              "        const docLinkHtml = 'Like what you see? Visit the ' +\n",
              "          '<a target=\"_blank\" href=https://colab.research.google.com/notebooks/data_table.ipynb>data table notebook</a>'\n",
              "          + ' to learn more about interactive tables.';\n",
              "        element.innerHTML = '';\n",
              "        dataTable['output_type'] = 'display_data';\n",
              "        await google.colab.output.renderOutput(dataTable, element);\n",
              "        const docLink = document.createElement('div');\n",
              "        docLink.innerHTML = docLinkHtml;\n",
              "        element.appendChild(docLink);\n",
              "      }\n",
              "    </script>\n",
              "  </div>\n",
              "\n",
              "\n",
              "<div id=\"df-170753ee-7d5f-4d04-9592-ac0525b74def\">\n",
              "  <button class=\"colab-df-quickchart\" onclick=\"quickchart('df-170753ee-7d5f-4d04-9592-ac0525b74def')\"\n",
              "            title=\"Suggest charts\"\n",
              "            style=\"display:none;\">\n",
              "\n",
              "<svg xmlns=\"http://www.w3.org/2000/svg\" height=\"24px\"viewBox=\"0 0 24 24\"\n",
              "     width=\"24px\">\n",
              "    <g>\n",
              "        <path d=\"M19 3H5c-1.1 0-2 .9-2 2v14c0 1.1.9 2 2 2h14c1.1 0 2-.9 2-2V5c0-1.1-.9-2-2-2zM9 17H7v-7h2v7zm4 0h-2V7h2v10zm4 0h-2v-4h2v4z\"/>\n",
              "    </g>\n",
              "</svg>\n",
              "  </button>\n",
              "\n",
              "<style>\n",
              "  .colab-df-quickchart {\n",
              "      --bg-color: #E8F0FE;\n",
              "      --fill-color: #1967D2;\n",
              "      --hover-bg-color: #E2EBFA;\n",
              "      --hover-fill-color: #174EA6;\n",
              "      --disabled-fill-color: #AAA;\n",
              "      --disabled-bg-color: #DDD;\n",
              "  }\n",
              "\n",
              "  [theme=dark] .colab-df-quickchart {\n",
              "      --bg-color: #3B4455;\n",
              "      --fill-color: #D2E3FC;\n",
              "      --hover-bg-color: #434B5C;\n",
              "      --hover-fill-color: #FFFFFF;\n",
              "      --disabled-bg-color: #3B4455;\n",
              "      --disabled-fill-color: #666;\n",
              "  }\n",
              "\n",
              "  .colab-df-quickchart {\n",
              "    background-color: var(--bg-color);\n",
              "    border: none;\n",
              "    border-radius: 50%;\n",
              "    cursor: pointer;\n",
              "    display: none;\n",
              "    fill: var(--fill-color);\n",
              "    height: 32px;\n",
              "    padding: 0;\n",
              "    width: 32px;\n",
              "  }\n",
              "\n",
              "  .colab-df-quickchart:hover {\n",
              "    background-color: var(--hover-bg-color);\n",
              "    box-shadow: 0 1px 2px rgba(60, 64, 67, 0.3), 0 1px 3px 1px rgba(60, 64, 67, 0.15);\n",
              "    fill: var(--button-hover-fill-color);\n",
              "  }\n",
              "\n",
              "  .colab-df-quickchart-complete:disabled,\n",
              "  .colab-df-quickchart-complete:disabled:hover {\n",
              "    background-color: var(--disabled-bg-color);\n",
              "    fill: var(--disabled-fill-color);\n",
              "    box-shadow: none;\n",
              "  }\n",
              "\n",
              "  .colab-df-spinner {\n",
              "    border: 2px solid var(--fill-color);\n",
              "    border-color: transparent;\n",
              "    border-bottom-color: var(--fill-color);\n",
              "    animation:\n",
              "      spin 1s steps(1) infinite;\n",
              "  }\n",
              "\n",
              "  @keyframes spin {\n",
              "    0% {\n",
              "      border-color: transparent;\n",
              "      border-bottom-color: var(--fill-color);\n",
              "      border-left-color: var(--fill-color);\n",
              "    }\n",
              "    20% {\n",
              "      border-color: transparent;\n",
              "      border-left-color: var(--fill-color);\n",
              "      border-top-color: var(--fill-color);\n",
              "    }\n",
              "    30% {\n",
              "      border-color: transparent;\n",
              "      border-left-color: var(--fill-color);\n",
              "      border-top-color: var(--fill-color);\n",
              "      border-right-color: var(--fill-color);\n",
              "    }\n",
              "    40% {\n",
              "      border-color: transparent;\n",
              "      border-right-color: var(--fill-color);\n",
              "      border-top-color: var(--fill-color);\n",
              "    }\n",
              "    60% {\n",
              "      border-color: transparent;\n",
              "      border-right-color: var(--fill-color);\n",
              "    }\n",
              "    80% {\n",
              "      border-color: transparent;\n",
              "      border-right-color: var(--fill-color);\n",
              "      border-bottom-color: var(--fill-color);\n",
              "    }\n",
              "    90% {\n",
              "      border-color: transparent;\n",
              "      border-bottom-color: var(--fill-color);\n",
              "    }\n",
              "  }\n",
              "</style>\n",
              "\n",
              "  <script>\n",
              "    async function quickchart(key) {\n",
              "      const quickchartButtonEl =\n",
              "        document.querySelector('#' + key + ' button');\n",
              "      quickchartButtonEl.disabled = true;  // To prevent multiple clicks.\n",
              "      quickchartButtonEl.classList.add('colab-df-spinner');\n",
              "      try {\n",
              "        const charts = await google.colab.kernel.invokeFunction(\n",
              "            'suggestCharts', [key], {});\n",
              "      } catch (error) {\n",
              "        console.error('Error during call to suggestCharts:', error);\n",
              "      }\n",
              "      quickchartButtonEl.classList.remove('colab-df-spinner');\n",
              "      quickchartButtonEl.classList.add('colab-df-quickchart-complete');\n",
              "    }\n",
              "    (() => {\n",
              "      let quickchartButtonEl =\n",
              "        document.querySelector('#df-170753ee-7d5f-4d04-9592-ac0525b74def button');\n",
              "      quickchartButtonEl.style.display =\n",
              "        google.colab.kernel.accessAllowed ? 'block' : 'none';\n",
              "    })();\n",
              "  </script>\n",
              "</div>\n",
              "    </div>\n",
              "  </div>\n"
            ]
          },
          "metadata": {},
          "execution_count": 17
        }
      ]
    },
    {
      "cell_type": "code",
      "source": [
        "from gensim.models import Word2Vec\n",
        "\n",
        "# Train Word2Vec model on your preprocessed training data\n",
        "model = Word2Vec(sentences=data_train['commentaire_w_processed'], vector_size=100, window=5, min_count=1, sg=0)\n",
        "\n",
        "# Save the Word2Vec model to a file\n",
        "model.save(\"word2vec.model\")\n"
      ],
      "metadata": {
        "id": "8MeBApt-PgBP"
      },
      "execution_count": 18,
      "outputs": []
    },
    {
      "cell_type": "code",
      "source": [
        "# Load your Word2Vec model\n",
        "model = Word2Vec.load(\"word2vec.model\")"
      ],
      "metadata": {
        "id": "aaVJLt6GS6y7"
      },
      "execution_count": 19,
      "outputs": []
    },
    {
      "cell_type": "code",
      "source": [
        "# Step 1: Convert tokens to Word2Vec embeddings\n",
        "def tokens_to_embeddings(tokens, model):\n",
        "    embeddings = []\n",
        "    for token in tokens:\n",
        "        if token in model.wv:\n",
        "            embeddings.append(model.wv[token])\n",
        "    return embeddings"
      ],
      "metadata": {
        "id": "YFyJbWPXS72Y"
      },
      "execution_count": 20,
      "outputs": []
    },
    {
      "cell_type": "code",
      "source": [
        "# Step 1: Convert tokens to Word2Vec embeddings\n",
        "data_train['embeddings'] = data_train['commentaire_w_processed'].apply(lambda x: tokens_to_embeddings(x, model))\n",
        "data_dev['embeddings'] = data_dev['commentaire_w_processed'].apply(lambda x: tokens_to_embeddings(x, model))\n",
        "data_test['embeddings'] = data_test['commentaire_w_processed'].apply(lambda x: tokens_to_embeddings(x, model))"
      ],
      "metadata": {
        "id": "7NRPBUC1TCzL"
      },
      "execution_count": 21,
      "outputs": []
    },
    {
      "cell_type": "code",
      "source": [
        "# Step 2: Calculate average embeddings for each comment\n",
        "data_train['avg_embeddings'] = data_train['embeddings'].apply(lambda x: np.mean(x, axis=0) if x else np.zeros(model.vector_size))\n",
        "data_dev['avg_embeddings'] = data_dev['embeddings'].apply(lambda x: np.mean(x, axis=0) if x else np.zeros(model.vector_size))\n",
        "data_test['avg_embeddings'] = data_test['embeddings'].apply(lambda x: np.mean(x, axis=0) if x else np.zeros(model.vector_size))"
      ],
      "metadata": {
        "id": "T17_3EkwTH5r"
      },
      "execution_count": 22,
      "outputs": []
    },
    {
      "cell_type": "code",
      "source": [
        "# Step 3: Convert data to SVM format\n",
        "train_svm_data = data_train[['avg_embeddings', 'note']]\n",
        "dev_svm_data = data_dev[['avg_embeddings', 'note']]\n",
        "test_svm_data = data_test['avg_embeddings']\n"
      ],
      "metadata": {
        "id": "M1Cq0SeOTfrB"
      },
      "execution_count": 28,
      "outputs": []
    },
    {
      "cell_type": "code",
      "source": [
        "test_svm_data"
      ],
      "metadata": {
        "colab": {
          "base_uri": "https://localhost:8080/"
        },
        "id": "56QKOwpSWJUN",
        "outputId": "a342584d-64a9-4ae1-a36e-58a6e8ad1a89"
      },
      "execution_count": 37,
      "outputs": [
        {
          "output_type": "execute_result",
          "data": {
            "text/plain": [
              "0        [0.12871014, -0.08519242, -0.17973067, -0.5283...\n",
              "1        [0.28309113, -0.24553326, -0.063483626, -0.990...\n",
              "2        [0.0817979, -0.41899243, -0.17068678, -0.73497...\n",
              "3        [0.23239677, -0.5388362, 0.320079, -0.33318806...\n",
              "4        [-0.12405506, -0.35570562, 0.28846765, -0.6477...\n",
              "                               ...                        \n",
              "85842    [0.17296925, 0.8837883, -0.054136194, -0.68306...\n",
              "85843    [-0.016820129, -0.28371003, -0.4178806, -1.005...\n",
              "85844    [0.4722395, -0.017239062, -0.26149806, -1.2264...\n",
              "85845    [-0.21894524, -0.13637803, -0.12301482, -1.176...\n",
              "85846    [0.7852612, -0.0577177, -0.08140442, -0.377744...\n",
              "Name: avg_embeddings, Length: 85847, dtype: object"
            ]
          },
          "metadata": {},
          "execution_count": 37
        }
      ]
    },
    {
      "cell_type": "code",
      "source": [
        "# Define the default label for test data\n",
        "\n",
        "\n",
        "def convertir_svm_from_dict(data_dict, etiquettes=None, default_label=0):\n",
        "    svm = \"\"\n",
        "    print(\"convertir_svm\")\n",
        "    for i, features in enumerate(data_dict):\n",
        "        # Convert label to integer by multiplying by 2\n",
        "        label = int(float(etiquettes[i]) * 2) if etiquettes is not None and i in etiquettes else default_label\n",
        "        svm += str(label) + \" \"\n",
        "\n",
        "        # Sort the features by index in ascending order\n",
        "        sorted_features = sorted(enumerate(features, start=1), key=lambda x: x[0])\n",
        "\n",
        "        # Convert sorted features to SVM format\n",
        "        for j, value in sorted_features:\n",
        "            svm += f\"{j}:{value} \"\n",
        "        svm += \"\\n\"\n",
        "    return svm\n",
        "\n",
        "\n"
      ],
      "metadata": {
        "id": "mV5e9ORnT1kj"
      },
      "execution_count": 44,
      "outputs": []
    },
    {
      "cell_type": "code",
      "source": [
        "# Use your existing functions to convert to SVM format\n",
        "train_svm = convertir_svm_from_dict(train_svm_data['avg_embeddings'].to_dict(), train_svm_data['note'])"
      ],
      "metadata": {
        "colab": {
          "base_uri": "https://localhost:8080/"
        },
        "id": "4g2kdLbpUxRw",
        "outputId": "0d09b582-35d1-48c8-a53e-6bdc6d5bed9a"
      },
      "execution_count": 38,
      "outputs": [
        {
          "output_type": "stream",
          "name": "stdout",
          "text": [
            "convertir_svm\n"
          ]
        }
      ]
    },
    {
      "cell_type": "code",
      "source": [
        "test_svm = convertir_svm_from_dict(test_svm_data.to_list(),default_label=0)"
      ],
      "metadata": {
        "colab": {
          "base_uri": "https://localhost:8080/"
        },
        "id": "bue2LYA1WVlQ",
        "outputId": "866431bf-e7b7-4ca0-c07f-79a3686f514d"
      },
      "execution_count": 45,
      "outputs": [
        {
          "output_type": "stream",
          "name": "stdout",
          "text": [
            "convertir_svm\n"
          ]
        }
      ]
    },
    {
      "cell_type": "code",
      "source": [
        "def file(nom,contenu):\n",
        "\n",
        "    # Ouvrez le fichier en mode écriture\n",
        "    with io.open(nom, \"w\", encoding=\"utf-8\") as f:\n",
        "        # Écrivez vos lignes de string dans le fichier\n",
        "        f.writelines(contenu)\n"
      ],
      "metadata": {
        "id": "fxQjKjEeZdwg"
      },
      "execution_count": 48,
      "outputs": []
    },
    {
      "cell_type": "code",
      "source": [
        "file(\"/content/drive/My Drive/processed_data/train_hope.svm\", train_svm)"
      ],
      "metadata": {
        "id": "6ORCt_WUZhTG"
      },
      "execution_count": 49,
      "outputs": []
    },
    {
      "cell_type": "code",
      "source": [
        "test_svm"
      ],
      "metadata": {
        "id": "d35-C1ahaymB"
      },
      "execution_count": 52,
      "outputs": []
    },
    {
      "cell_type": "code",
      "source": [
        "file(\"/content/drive/My Drive/processed_data/test_hope.svm\", test_svm)"
      ],
      "metadata": {
        "id": "UWhyD0a-Z6V9"
      },
      "execution_count": 53,
      "outputs": []
    }
  ]
}